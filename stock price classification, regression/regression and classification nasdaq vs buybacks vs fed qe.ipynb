{
 "cells": [
  {
   "cell_type": "code",
   "execution_count": 1,
   "metadata": {},
   "outputs": [],
   "source": [
    "import numpy as np\n",
    "import pandas as pd"
   ]
  },
  {
   "cell_type": "code",
   "execution_count": 2,
   "metadata": {},
   "outputs": [],
   "source": [
    "df4=pd.read_csv('PerformanceGraphExport1.csv')"
   ]
  },
  {
   "cell_type": "code",
   "execution_count": 3,
   "metadata": {},
   "outputs": [
    {
     "data": {
      "text/html": [
       "<div>\n",
       "<style scoped>\n",
       "    .dataframe tbody tr th:only-of-type {\n",
       "        vertical-align: middle;\n",
       "    }\n",
       "\n",
       "    .dataframe tbody tr th {\n",
       "        vertical-align: top;\n",
       "    }\n",
       "\n",
       "    .dataframe thead th {\n",
       "        text-align: right;\n",
       "    }\n",
       "</style>\n",
       "<table border=\"1\" class=\"dataframe\">\n",
       "  <thead>\n",
       "    <tr style=\"text-align: right;\">\n",
       "      <th></th>\n",
       "      <th>Effective date ;S&amp;P 500 Buyback Index</th>\n",
       "    </tr>\n",
       "  </thead>\n",
       "  <tbody>\n",
       "    <tr>\n",
       "      <th>30/3/2012;7502</th>\n",
       "      <td>68.0</td>\n",
       "    </tr>\n",
       "    <tr>\n",
       "      <th>2/4/2012;7567</th>\n",
       "      <td>23.0</td>\n",
       "    </tr>\n",
       "    <tr>\n",
       "      <th>3/4/2012;7543</th>\n",
       "      <td>79.0</td>\n",
       "    </tr>\n",
       "    <tr>\n",
       "      <th>4/4/2012;7473</th>\n",
       "      <td>84.0</td>\n",
       "    </tr>\n",
       "    <tr>\n",
       "      <th>5/4/2012;7477</th>\n",
       "      <td>89.0</td>\n",
       "    </tr>\n",
       "  </tbody>\n",
       "</table>\n",
       "</div>"
      ],
      "text/plain": [
       "                Effective date ;S&P 500 Buyback Index\n",
       "30/3/2012;7502                                   68.0\n",
       "2/4/2012;7567                                    23.0\n",
       "3/4/2012;7543                                    79.0\n",
       "4/4/2012;7473                                    84.0\n",
       "5/4/2012;7477                                    89.0"
      ]
     },
     "execution_count": 3,
     "metadata": {},
     "output_type": "execute_result"
    }
   ],
   "source": [
    "df4.head()"
   ]
  },
  {
   "cell_type": "code",
   "execution_count": 4,
   "metadata": {},
   "outputs": [],
   "source": [
    "df4['Effective date ;S&P 500 Buyback Index']=df4['Effective date ;S&P 500 Buyback Index'].astype(str)"
   ]
  },
  {
   "cell_type": "code",
   "execution_count": 5,
   "metadata": {},
   "outputs": [
    {
     "data": {
      "text/html": [
       "<div>\n",
       "<style scoped>\n",
       "    .dataframe tbody tr th:only-of-type {\n",
       "        vertical-align: middle;\n",
       "    }\n",
       "\n",
       "    .dataframe tbody tr th {\n",
       "        vertical-align: top;\n",
       "    }\n",
       "\n",
       "    .dataframe thead th {\n",
       "        text-align: right;\n",
       "    }\n",
       "</style>\n",
       "<table border=\"1\" class=\"dataframe\">\n",
       "  <thead>\n",
       "    <tr style=\"text-align: right;\">\n",
       "      <th></th>\n",
       "      <th>0</th>\n",
       "    </tr>\n",
       "  </thead>\n",
       "  <tbody>\n",
       "    <tr>\n",
       "      <th>30/3/2012;7502</th>\n",
       "      <td>68.0</td>\n",
       "    </tr>\n",
       "    <tr>\n",
       "      <th>2/4/2012;7567</th>\n",
       "      <td>23.0</td>\n",
       "    </tr>\n",
       "    <tr>\n",
       "      <th>3/4/2012;7543</th>\n",
       "      <td>79.0</td>\n",
       "    </tr>\n",
       "    <tr>\n",
       "      <th>4/4/2012;7473</th>\n",
       "      <td>84.0</td>\n",
       "    </tr>\n",
       "    <tr>\n",
       "      <th>5/4/2012;7477</th>\n",
       "      <td>89.0</td>\n",
       "    </tr>\n",
       "    <tr>\n",
       "      <th>...</th>\n",
       "      <td>...</td>\n",
       "    </tr>\n",
       "    <tr>\n",
       "      <th>20/4/2022;26206</th>\n",
       "      <td>5.0</td>\n",
       "    </tr>\n",
       "    <tr>\n",
       "      <th>21/4/2022;25859</th>\n",
       "      <td>58.0</td>\n",
       "    </tr>\n",
       "    <tr>\n",
       "      <th>22/4/2022;24991</th>\n",
       "      <td>42.0</td>\n",
       "    </tr>\n",
       "    <tr>\n",
       "      <th>25/4/2022;25089</th>\n",
       "      <td>83.0</td>\n",
       "    </tr>\n",
       "    <tr>\n",
       "      <th>26/4/2022;24529</th>\n",
       "      <td>3.0</td>\n",
       "    </tr>\n",
       "  </tbody>\n",
       "</table>\n",
       "<p>2535 rows × 1 columns</p>\n",
       "</div>"
      ],
      "text/plain": [
       "                    0\n",
       "30/3/2012;7502   68.0\n",
       "2/4/2012;7567    23.0\n",
       "3/4/2012;7543    79.0\n",
       "4/4/2012;7473    84.0\n",
       "5/4/2012;7477    89.0\n",
       "...               ...\n",
       "20/4/2022;26206   5.0\n",
       "21/4/2022;25859  58.0\n",
       "22/4/2022;24991  42.0\n",
       "25/4/2022;25089  83.0\n",
       "26/4/2022;24529   3.0\n",
       "\n",
       "[2535 rows x 1 columns]"
      ]
     },
     "execution_count": 5,
     "metadata": {},
     "output_type": "execute_result"
    }
   ],
   "source": [
    "df4['Effective date ;S&P 500 Buyback Index'].str.split(expand=True)"
   ]
  },
  {
   "cell_type": "code",
   "execution_count": 6,
   "metadata": {},
   "outputs": [],
   "source": [
    "df4=df4.reset_index()"
   ]
  },
  {
   "cell_type": "code",
   "execution_count": 7,
   "metadata": {},
   "outputs": [],
   "source": [
    "df4[['date','b']]=df4['index'].str.split(';',expand=True)"
   ]
  },
  {
   "cell_type": "code",
   "execution_count": 8,
   "metadata": {},
   "outputs": [
    {
     "data": {
      "text/html": [
       "<div>\n",
       "<style scoped>\n",
       "    .dataframe tbody tr th:only-of-type {\n",
       "        vertical-align: middle;\n",
       "    }\n",
       "\n",
       "    .dataframe tbody tr th {\n",
       "        vertical-align: top;\n",
       "    }\n",
       "\n",
       "    .dataframe thead th {\n",
       "        text-align: right;\n",
       "    }\n",
       "</style>\n",
       "<table border=\"1\" class=\"dataframe\">\n",
       "  <thead>\n",
       "    <tr style=\"text-align: right;\">\n",
       "      <th></th>\n",
       "      <th>index</th>\n",
       "      <th>Effective date ;S&amp;P 500 Buyback Index</th>\n",
       "      <th>date</th>\n",
       "      <th>b</th>\n",
       "    </tr>\n",
       "  </thead>\n",
       "  <tbody>\n",
       "    <tr>\n",
       "      <th>0</th>\n",
       "      <td>30/3/2012;7502</td>\n",
       "      <td>68.0</td>\n",
       "      <td>30/3/2012</td>\n",
       "      <td>7502</td>\n",
       "    </tr>\n",
       "    <tr>\n",
       "      <th>1</th>\n",
       "      <td>2/4/2012;7567</td>\n",
       "      <td>23.0</td>\n",
       "      <td>2/4/2012</td>\n",
       "      <td>7567</td>\n",
       "    </tr>\n",
       "    <tr>\n",
       "      <th>2</th>\n",
       "      <td>3/4/2012;7543</td>\n",
       "      <td>79.0</td>\n",
       "      <td>3/4/2012</td>\n",
       "      <td>7543</td>\n",
       "    </tr>\n",
       "    <tr>\n",
       "      <th>3</th>\n",
       "      <td>4/4/2012;7473</td>\n",
       "      <td>84.0</td>\n",
       "      <td>4/4/2012</td>\n",
       "      <td>7473</td>\n",
       "    </tr>\n",
       "    <tr>\n",
       "      <th>4</th>\n",
       "      <td>5/4/2012;7477</td>\n",
       "      <td>89.0</td>\n",
       "      <td>5/4/2012</td>\n",
       "      <td>7477</td>\n",
       "    </tr>\n",
       "  </tbody>\n",
       "</table>\n",
       "</div>"
      ],
      "text/plain": [
       "            index Effective date ;S&P 500 Buyback Index       date     b\n",
       "0  30/3/2012;7502                                  68.0  30/3/2012  7502\n",
       "1   2/4/2012;7567                                  23.0   2/4/2012  7567\n",
       "2   3/4/2012;7543                                  79.0   3/4/2012  7543\n",
       "3   4/4/2012;7473                                  84.0   4/4/2012  7473\n",
       "4   5/4/2012;7477                                  89.0   5/4/2012  7477"
      ]
     },
     "execution_count": 8,
     "metadata": {},
     "output_type": "execute_result"
    }
   ],
   "source": [
    "df4.head()"
   ]
  },
  {
   "cell_type": "code",
   "execution_count": 9,
   "metadata": {},
   "outputs": [
    {
     "name": "stderr",
     "output_type": "stream",
     "text": [
      "<ipython-input-9-2ca0491919ba>:1: FutureWarning: In a future version of pandas all arguments of DataFrame.drop except for the argument 'labels' will be keyword-only.\n",
      "  df4=df4.drop(['index','b'],1)\n"
     ]
    }
   ],
   "source": [
    "df4=df4.drop(['index','b'],1)"
   ]
  },
  {
   "cell_type": "code",
   "execution_count": 10,
   "metadata": {},
   "outputs": [],
   "source": [
    "df4['S&P 500 Buyback Index']=df4['Effective date ;S&P 500 Buyback Index']"
   ]
  },
  {
   "cell_type": "code",
   "execution_count": 11,
   "metadata": {},
   "outputs": [
    {
     "name": "stderr",
     "output_type": "stream",
     "text": [
      "<ipython-input-11-160029b7289e>:1: FutureWarning: In a future version of pandas all arguments of DataFrame.drop except for the argument 'labels' will be keyword-only.\n",
      "  df4=df4.drop(['Effective date ;S&P 500 Buyback Index'],1)\n"
     ]
    }
   ],
   "source": [
    "df4=df4.drop(['Effective date ;S&P 500 Buyback Index'],1)"
   ]
  },
  {
   "cell_type": "code",
   "execution_count": 12,
   "metadata": {},
   "outputs": [
    {
     "data": {
      "text/html": [
       "<div>\n",
       "<style scoped>\n",
       "    .dataframe tbody tr th:only-of-type {\n",
       "        vertical-align: middle;\n",
       "    }\n",
       "\n",
       "    .dataframe tbody tr th {\n",
       "        vertical-align: top;\n",
       "    }\n",
       "\n",
       "    .dataframe thead th {\n",
       "        text-align: right;\n",
       "    }\n",
       "</style>\n",
       "<table border=\"1\" class=\"dataframe\">\n",
       "  <thead>\n",
       "    <tr style=\"text-align: right;\">\n",
       "      <th></th>\n",
       "      <th>date</th>\n",
       "      <th>S&amp;P 500 Buyback Index</th>\n",
       "    </tr>\n",
       "  </thead>\n",
       "  <tbody>\n",
       "    <tr>\n",
       "      <th>0</th>\n",
       "      <td>30/3/2012</td>\n",
       "      <td>68.0</td>\n",
       "    </tr>\n",
       "    <tr>\n",
       "      <th>1</th>\n",
       "      <td>2/4/2012</td>\n",
       "      <td>23.0</td>\n",
       "    </tr>\n",
       "    <tr>\n",
       "      <th>2</th>\n",
       "      <td>3/4/2012</td>\n",
       "      <td>79.0</td>\n",
       "    </tr>\n",
       "    <tr>\n",
       "      <th>3</th>\n",
       "      <td>4/4/2012</td>\n",
       "      <td>84.0</td>\n",
       "    </tr>\n",
       "    <tr>\n",
       "      <th>4</th>\n",
       "      <td>5/4/2012</td>\n",
       "      <td>89.0</td>\n",
       "    </tr>\n",
       "  </tbody>\n",
       "</table>\n",
       "</div>"
      ],
      "text/plain": [
       "        date S&P 500 Buyback Index\n",
       "0  30/3/2012                  68.0\n",
       "1   2/4/2012                  23.0\n",
       "2   3/4/2012                  79.0\n",
       "3   4/4/2012                  84.0\n",
       "4   5/4/2012                  89.0"
      ]
     },
     "execution_count": 12,
     "metadata": {},
     "output_type": "execute_result"
    }
   ],
   "source": [
    "df4.head()"
   ]
  },
  {
   "cell_type": "code",
   "execution_count": 13,
   "metadata": {},
   "outputs": [],
   "source": [
    "from datetime import datetime"
   ]
  },
  {
   "cell_type": "code",
   "execution_count": 15,
   "metadata": {},
   "outputs": [
    {
     "name": "stderr",
     "output_type": "stream",
     "text": [
      "<ipython-input-15-b1497db94521>:1: UserWarning: Parsing '15/10/2012' in DD/MM/YYYY format. Provide format or specify infer_datetime_format=True for consistent parsing.\n",
      "  df4['date']=pd.to_datetime(df4['date'])\n",
      "<ipython-input-15-b1497db94521>:1: UserWarning: Parsing '16/10/2012' in DD/MM/YYYY format. Provide format or specify infer_datetime_format=True for consistent parsing.\n",
      "  df4['date']=pd.to_datetime(df4['date'])\n",
      "<ipython-input-15-b1497db94521>:1: UserWarning: Parsing '17/10/2012' in DD/MM/YYYY format. Provide format or specify infer_datetime_format=True for consistent parsing.\n",
      "  df4['date']=pd.to_datetime(df4['date'])\n",
      "<ipython-input-15-b1497db94521>:1: UserWarning: Parsing '18/10/2012' in DD/MM/YYYY format. Provide format or specify infer_datetime_format=True for consistent parsing.\n",
      "  df4['date']=pd.to_datetime(df4['date'])\n",
      "<ipython-input-15-b1497db94521>:1: UserWarning: Parsing '19/10/2012' in DD/MM/YYYY format. Provide format or specify infer_datetime_format=True for consistent parsing.\n",
      "  df4['date']=pd.to_datetime(df4['date'])\n",
      "<ipython-input-15-b1497db94521>:1: UserWarning: Parsing '22/10/2012' in DD/MM/YYYY format. Provide format or specify infer_datetime_format=True for consistent parsing.\n",
      "  df4['date']=pd.to_datetime(df4['date'])\n",
      "<ipython-input-15-b1497db94521>:1: UserWarning: Parsing '23/10/2012' in DD/MM/YYYY format. Provide format or specify infer_datetime_format=True for consistent parsing.\n",
      "  df4['date']=pd.to_datetime(df4['date'])\n",
      "<ipython-input-15-b1497db94521>:1: UserWarning: Parsing '24/10/2012' in DD/MM/YYYY format. Provide format or specify infer_datetime_format=True for consistent parsing.\n",
      "  df4['date']=pd.to_datetime(df4['date'])\n",
      "<ipython-input-15-b1497db94521>:1: UserWarning: Parsing '25/10/2012' in DD/MM/YYYY format. Provide format or specify infer_datetime_format=True for consistent parsing.\n",
      "  df4['date']=pd.to_datetime(df4['date'])\n",
      "<ipython-input-15-b1497db94521>:1: UserWarning: Parsing '26/10/2012' in DD/MM/YYYY format. Provide format or specify infer_datetime_format=True for consistent parsing.\n",
      "  df4['date']=pd.to_datetime(df4['date'])\n",
      "<ipython-input-15-b1497db94521>:1: UserWarning: Parsing '31/10/2012' in DD/MM/YYYY format. Provide format or specify infer_datetime_format=True for consistent parsing.\n",
      "  df4['date']=pd.to_datetime(df4['date'])\n",
      "<ipython-input-15-b1497db94521>:1: UserWarning: Parsing '13/11/2012' in DD/MM/YYYY format. Provide format or specify infer_datetime_format=True for consistent parsing.\n",
      "  df4['date']=pd.to_datetime(df4['date'])\n",
      "<ipython-input-15-b1497db94521>:1: UserWarning: Parsing '14/11/2012' in DD/MM/YYYY format. Provide format or specify infer_datetime_format=True for consistent parsing.\n",
      "  df4['date']=pd.to_datetime(df4['date'])\n",
      "<ipython-input-15-b1497db94521>:1: UserWarning: Parsing '15/11/2012' in DD/MM/YYYY format. Provide format or specify infer_datetime_format=True for consistent parsing.\n",
      "  df4['date']=pd.to_datetime(df4['date'])\n",
      "<ipython-input-15-b1497db94521>:1: UserWarning: Parsing '16/11/2012' in DD/MM/YYYY format. Provide format or specify infer_datetime_format=True for consistent parsing.\n",
      "  df4['date']=pd.to_datetime(df4['date'])\n",
      "<ipython-input-15-b1497db94521>:1: UserWarning: Parsing '19/11/2012' in DD/MM/YYYY format. Provide format or specify infer_datetime_format=True for consistent parsing.\n",
      "  df4['date']=pd.to_datetime(df4['date'])\n",
      "<ipython-input-15-b1497db94521>:1: UserWarning: Parsing '20/11/2012' in DD/MM/YYYY format. Provide format or specify infer_datetime_format=True for consistent parsing.\n",
      "  df4['date']=pd.to_datetime(df4['date'])\n",
      "<ipython-input-15-b1497db94521>:1: UserWarning: Parsing '21/11/2012' in DD/MM/YYYY format. Provide format or specify infer_datetime_format=True for consistent parsing.\n",
      "  df4['date']=pd.to_datetime(df4['date'])\n",
      "<ipython-input-15-b1497db94521>:1: UserWarning: Parsing '23/11/2012' in DD/MM/YYYY format. Provide format or specify infer_datetime_format=True for consistent parsing.\n",
      "  df4['date']=pd.to_datetime(df4['date'])\n",
      "<ipython-input-15-b1497db94521>:1: UserWarning: Parsing '26/11/2012' in DD/MM/YYYY format. Provide format or specify infer_datetime_format=True for consistent parsing.\n",
      "  df4['date']=pd.to_datetime(df4['date'])\n",
      "<ipython-input-15-b1497db94521>:1: UserWarning: Parsing '27/11/2012' in DD/MM/YYYY format. Provide format or specify infer_datetime_format=True for consistent parsing.\n",
      "  df4['date']=pd.to_datetime(df4['date'])\n",
      "<ipython-input-15-b1497db94521>:1: UserWarning: Parsing '28/11/2012' in DD/MM/YYYY format. Provide format or specify infer_datetime_format=True for consistent parsing.\n",
      "  df4['date']=pd.to_datetime(df4['date'])\n",
      "<ipython-input-15-b1497db94521>:1: UserWarning: Parsing '29/11/2012' in DD/MM/YYYY format. Provide format or specify infer_datetime_format=True for consistent parsing.\n",
      "  df4['date']=pd.to_datetime(df4['date'])\n",
      "<ipython-input-15-b1497db94521>:1: UserWarning: Parsing '30/11/2012' in DD/MM/YYYY format. Provide format or specify infer_datetime_format=True for consistent parsing.\n",
      "  df4['date']=pd.to_datetime(df4['date'])\n",
      "<ipython-input-15-b1497db94521>:1: UserWarning: Parsing '13/12/2012' in DD/MM/YYYY format. Provide format or specify infer_datetime_format=True for consistent parsing.\n",
      "  df4['date']=pd.to_datetime(df4['date'])\n",
      "<ipython-input-15-b1497db94521>:1: UserWarning: Parsing '14/12/2012' in DD/MM/YYYY format. Provide format or specify infer_datetime_format=True for consistent parsing.\n",
      "  df4['date']=pd.to_datetime(df4['date'])\n",
      "<ipython-input-15-b1497db94521>:1: UserWarning: Parsing '17/12/2012' in DD/MM/YYYY format. Provide format or specify infer_datetime_format=True for consistent parsing.\n",
      "  df4['date']=pd.to_datetime(df4['date'])\n",
      "<ipython-input-15-b1497db94521>:1: UserWarning: Parsing '18/12/2012' in DD/MM/YYYY format. Provide format or specify infer_datetime_format=True for consistent parsing.\n",
      "  df4['date']=pd.to_datetime(df4['date'])\n",
      "<ipython-input-15-b1497db94521>:1: UserWarning: Parsing '19/12/2012' in DD/MM/YYYY format. Provide format or specify infer_datetime_format=True for consistent parsing.\n",
      "  df4['date']=pd.to_datetime(df4['date'])\n",
      "<ipython-input-15-b1497db94521>:1: UserWarning: Parsing '20/12/2012' in DD/MM/YYYY format. Provide format or specify infer_datetime_format=True for consistent parsing.\n",
      "  df4['date']=pd.to_datetime(df4['date'])\n",
      "<ipython-input-15-b1497db94521>:1: UserWarning: Parsing '21/12/2012' in DD/MM/YYYY format. Provide format or specify infer_datetime_format=True for consistent parsing.\n",
      "  df4['date']=pd.to_datetime(df4['date'])\n",
      "<ipython-input-15-b1497db94521>:1: UserWarning: Parsing '24/12/2012' in DD/MM/YYYY format. Provide format or specify infer_datetime_format=True for consistent parsing.\n",
      "  df4['date']=pd.to_datetime(df4['date'])\n",
      "<ipython-input-15-b1497db94521>:1: UserWarning: Parsing '26/12/2012' in DD/MM/YYYY format. Provide format or specify infer_datetime_format=True for consistent parsing.\n",
      "  df4['date']=pd.to_datetime(df4['date'])\n",
      "<ipython-input-15-b1497db94521>:1: UserWarning: Parsing '27/12/2012' in DD/MM/YYYY format. Provide format or specify infer_datetime_format=True for consistent parsing.\n",
      "  df4['date']=pd.to_datetime(df4['date'])\n",
      "<ipython-input-15-b1497db94521>:1: UserWarning: Parsing '28/12/2012' in DD/MM/YYYY format. Provide format or specify infer_datetime_format=True for consistent parsing.\n",
      "  df4['date']=pd.to_datetime(df4['date'])\n",
      "<ipython-input-15-b1497db94521>:1: UserWarning: Parsing '31/12/2012' in DD/MM/YYYY format. Provide format or specify infer_datetime_format=True for consistent parsing.\n",
      "  df4['date']=pd.to_datetime(df4['date'])\n",
      "<ipython-input-15-b1497db94521>:1: UserWarning: Parsing '14/10/2013' in DD/MM/YYYY format. Provide format or specify infer_datetime_format=True for consistent parsing.\n",
      "  df4['date']=pd.to_datetime(df4['date'])\n",
      "<ipython-input-15-b1497db94521>:1: UserWarning: Parsing '15/10/2013' in DD/MM/YYYY format. Provide format or specify infer_datetime_format=True for consistent parsing.\n",
      "  df4['date']=pd.to_datetime(df4['date'])\n",
      "<ipython-input-15-b1497db94521>:1: UserWarning: Parsing '16/10/2013' in DD/MM/YYYY format. Provide format or specify infer_datetime_format=True for consistent parsing.\n",
      "  df4['date']=pd.to_datetime(df4['date'])\n",
      "<ipython-input-15-b1497db94521>:1: UserWarning: Parsing '17/10/2013' in DD/MM/YYYY format. Provide format or specify infer_datetime_format=True for consistent parsing.\n",
      "  df4['date']=pd.to_datetime(df4['date'])\n",
      "<ipython-input-15-b1497db94521>:1: UserWarning: Parsing '18/10/2013' in DD/MM/YYYY format. Provide format or specify infer_datetime_format=True for consistent parsing.\n",
      "  df4['date']=pd.to_datetime(df4['date'])\n",
      "<ipython-input-15-b1497db94521>:1: UserWarning: Parsing '21/10/2013' in DD/MM/YYYY format. Provide format or specify infer_datetime_format=True for consistent parsing.\n",
      "  df4['date']=pd.to_datetime(df4['date'])\n",
      "<ipython-input-15-b1497db94521>:1: UserWarning: Parsing '22/10/2013' in DD/MM/YYYY format. Provide format or specify infer_datetime_format=True for consistent parsing.\n",
      "  df4['date']=pd.to_datetime(df4['date'])\n",
      "<ipython-input-15-b1497db94521>:1: UserWarning: Parsing '23/10/2013' in DD/MM/YYYY format. Provide format or specify infer_datetime_format=True for consistent parsing.\n",
      "  df4['date']=pd.to_datetime(df4['date'])\n",
      "<ipython-input-15-b1497db94521>:1: UserWarning: Parsing '24/10/2013' in DD/MM/YYYY format. Provide format or specify infer_datetime_format=True for consistent parsing.\n",
      "  df4['date']=pd.to_datetime(df4['date'])\n",
      "<ipython-input-15-b1497db94521>:1: UserWarning: Parsing '25/10/2013' in DD/MM/YYYY format. Provide format or specify infer_datetime_format=True for consistent parsing.\n",
      "  df4['date']=pd.to_datetime(df4['date'])\n",
      "<ipython-input-15-b1497db94521>:1: UserWarning: Parsing '28/10/2013' in DD/MM/YYYY format. Provide format or specify infer_datetime_format=True for consistent parsing.\n",
      "  df4['date']=pd.to_datetime(df4['date'])\n",
      "<ipython-input-15-b1497db94521>:1: UserWarning: Parsing '29/10/2013' in DD/MM/YYYY format. Provide format or specify infer_datetime_format=True for consistent parsing.\n",
      "  df4['date']=pd.to_datetime(df4['date'])\n",
      "<ipython-input-15-b1497db94521>:1: UserWarning: Parsing '30/10/2013' in DD/MM/YYYY format. Provide format or specify infer_datetime_format=True for consistent parsing.\n",
      "  df4['date']=pd.to_datetime(df4['date'])\n",
      "<ipython-input-15-b1497db94521>:1: UserWarning: Parsing '31/10/2013' in DD/MM/YYYY format. Provide format or specify infer_datetime_format=True for consistent parsing.\n",
      "  df4['date']=pd.to_datetime(df4['date'])\n",
      "<ipython-input-15-b1497db94521>:1: UserWarning: Parsing '13/11/2013' in DD/MM/YYYY format. Provide format or specify infer_datetime_format=True for consistent parsing.\n",
      "  df4['date']=pd.to_datetime(df4['date'])\n",
      "<ipython-input-15-b1497db94521>:1: UserWarning: Parsing '14/11/2013' in DD/MM/YYYY format. Provide format or specify infer_datetime_format=True for consistent parsing.\n",
      "  df4['date']=pd.to_datetime(df4['date'])\n",
      "<ipython-input-15-b1497db94521>:1: UserWarning: Parsing '15/11/2013' in DD/MM/YYYY format. Provide format or specify infer_datetime_format=True for consistent parsing.\n",
      "  df4['date']=pd.to_datetime(df4['date'])\n",
      "<ipython-input-15-b1497db94521>:1: UserWarning: Parsing '18/11/2013' in DD/MM/YYYY format. Provide format or specify infer_datetime_format=True for consistent parsing.\n",
      "  df4['date']=pd.to_datetime(df4['date'])\n",
      "<ipython-input-15-b1497db94521>:1: UserWarning: Parsing '19/11/2013' in DD/MM/YYYY format. Provide format or specify infer_datetime_format=True for consistent parsing.\n",
      "  df4['date']=pd.to_datetime(df4['date'])\n",
      "<ipython-input-15-b1497db94521>:1: UserWarning: Parsing '20/11/2013' in DD/MM/YYYY format. Provide format or specify infer_datetime_format=True for consistent parsing.\n",
      "  df4['date']=pd.to_datetime(df4['date'])\n",
      "<ipython-input-15-b1497db94521>:1: UserWarning: Parsing '21/11/2013' in DD/MM/YYYY format. Provide format or specify infer_datetime_format=True for consistent parsing.\n",
      "  df4['date']=pd.to_datetime(df4['date'])\n",
      "<ipython-input-15-b1497db94521>:1: UserWarning: Parsing '22/11/2013' in DD/MM/YYYY format. Provide format or specify infer_datetime_format=True for consistent parsing.\n",
      "  df4['date']=pd.to_datetime(df4['date'])\n",
      "<ipython-input-15-b1497db94521>:1: UserWarning: Parsing '25/11/2013' in DD/MM/YYYY format. Provide format or specify infer_datetime_format=True for consistent parsing.\n",
      "  df4['date']=pd.to_datetime(df4['date'])\n",
      "<ipython-input-15-b1497db94521>:1: UserWarning: Parsing '26/11/2013' in DD/MM/YYYY format. Provide format or specify infer_datetime_format=True for consistent parsing.\n",
      "  df4['date']=pd.to_datetime(df4['date'])\n",
      "<ipython-input-15-b1497db94521>:1: UserWarning: Parsing '27/11/2013' in DD/MM/YYYY format. Provide format or specify infer_datetime_format=True for consistent parsing.\n",
      "  df4['date']=pd.to_datetime(df4['date'])\n",
      "<ipython-input-15-b1497db94521>:1: UserWarning: Parsing '29/11/2013' in DD/MM/YYYY format. Provide format or specify infer_datetime_format=True for consistent parsing.\n",
      "  df4['date']=pd.to_datetime(df4['date'])\n",
      "<ipython-input-15-b1497db94521>:1: UserWarning: Parsing '13/12/2013' in DD/MM/YYYY format. Provide format or specify infer_datetime_format=True for consistent parsing.\n",
      "  df4['date']=pd.to_datetime(df4['date'])\n",
      "<ipython-input-15-b1497db94521>:1: UserWarning: Parsing '16/12/2013' in DD/MM/YYYY format. Provide format or specify infer_datetime_format=True for consistent parsing.\n",
      "  df4['date']=pd.to_datetime(df4['date'])\n",
      "<ipython-input-15-b1497db94521>:1: UserWarning: Parsing '17/12/2013' in DD/MM/YYYY format. Provide format or specify infer_datetime_format=True for consistent parsing.\n",
      "  df4['date']=pd.to_datetime(df4['date'])\n",
      "<ipython-input-15-b1497db94521>:1: UserWarning: Parsing '18/12/2013' in DD/MM/YYYY format. Provide format or specify infer_datetime_format=True for consistent parsing.\n",
      "  df4['date']=pd.to_datetime(df4['date'])\n",
      "<ipython-input-15-b1497db94521>:1: UserWarning: Parsing '19/12/2013' in DD/MM/YYYY format. Provide format or specify infer_datetime_format=True for consistent parsing.\n",
      "  df4['date']=pd.to_datetime(df4['date'])\n",
      "<ipython-input-15-b1497db94521>:1: UserWarning: Parsing '20/12/2013' in DD/MM/YYYY format. Provide format or specify infer_datetime_format=True for consistent parsing.\n",
      "  df4['date']=pd.to_datetime(df4['date'])\n",
      "<ipython-input-15-b1497db94521>:1: UserWarning: Parsing '23/12/2013' in DD/MM/YYYY format. Provide format or specify infer_datetime_format=True for consistent parsing.\n",
      "  df4['date']=pd.to_datetime(df4['date'])\n",
      "<ipython-input-15-b1497db94521>:1: UserWarning: Parsing '24/12/2013' in DD/MM/YYYY format. Provide format or specify infer_datetime_format=True for consistent parsing.\n",
      "  df4['date']=pd.to_datetime(df4['date'])\n",
      "<ipython-input-15-b1497db94521>:1: UserWarning: Parsing '26/12/2013' in DD/MM/YYYY format. Provide format or specify infer_datetime_format=True for consistent parsing.\n",
      "  df4['date']=pd.to_datetime(df4['date'])\n",
      "<ipython-input-15-b1497db94521>:1: UserWarning: Parsing '27/12/2013' in DD/MM/YYYY format. Provide format or specify infer_datetime_format=True for consistent parsing.\n",
      "  df4['date']=pd.to_datetime(df4['date'])\n",
      "<ipython-input-15-b1497db94521>:1: UserWarning: Parsing '30/12/2013' in DD/MM/YYYY format. Provide format or specify infer_datetime_format=True for consistent parsing.\n",
      "  df4['date']=pd.to_datetime(df4['date'])\n",
      "<ipython-input-15-b1497db94521>:1: UserWarning: Parsing '31/12/2013' in DD/MM/YYYY format. Provide format or specify infer_datetime_format=True for consistent parsing.\n",
      "  df4['date']=pd.to_datetime(df4['date'])\n",
      "<ipython-input-15-b1497db94521>:1: UserWarning: Parsing '13/10/2014' in DD/MM/YYYY format. Provide format or specify infer_datetime_format=True for consistent parsing.\n",
      "  df4['date']=pd.to_datetime(df4['date'])\n",
      "<ipython-input-15-b1497db94521>:1: UserWarning: Parsing '14/10/2014' in DD/MM/YYYY format. Provide format or specify infer_datetime_format=True for consistent parsing.\n",
      "  df4['date']=pd.to_datetime(df4['date'])\n",
      "<ipython-input-15-b1497db94521>:1: UserWarning: Parsing '15/10/2014' in DD/MM/YYYY format. Provide format or specify infer_datetime_format=True for consistent parsing.\n",
      "  df4['date']=pd.to_datetime(df4['date'])\n",
      "<ipython-input-15-b1497db94521>:1: UserWarning: Parsing '16/10/2014' in DD/MM/YYYY format. Provide format or specify infer_datetime_format=True for consistent parsing.\n",
      "  df4['date']=pd.to_datetime(df4['date'])\n",
      "<ipython-input-15-b1497db94521>:1: UserWarning: Parsing '17/10/2014' in DD/MM/YYYY format. Provide format or specify infer_datetime_format=True for consistent parsing.\n",
      "  df4['date']=pd.to_datetime(df4['date'])\n",
      "<ipython-input-15-b1497db94521>:1: UserWarning: Parsing '20/10/2014' in DD/MM/YYYY format. Provide format or specify infer_datetime_format=True for consistent parsing.\n",
      "  df4['date']=pd.to_datetime(df4['date'])\n",
      "<ipython-input-15-b1497db94521>:1: UserWarning: Parsing '21/10/2014' in DD/MM/YYYY format. Provide format or specify infer_datetime_format=True for consistent parsing.\n",
      "  df4['date']=pd.to_datetime(df4['date'])\n",
      "<ipython-input-15-b1497db94521>:1: UserWarning: Parsing '22/10/2014' in DD/MM/YYYY format. Provide format or specify infer_datetime_format=True for consistent parsing.\n",
      "  df4['date']=pd.to_datetime(df4['date'])\n",
      "<ipython-input-15-b1497db94521>:1: UserWarning: Parsing '23/10/2014' in DD/MM/YYYY format. Provide format or specify infer_datetime_format=True for consistent parsing.\n",
      "  df4['date']=pd.to_datetime(df4['date'])\n",
      "<ipython-input-15-b1497db94521>:1: UserWarning: Parsing '24/10/2014' in DD/MM/YYYY format. Provide format or specify infer_datetime_format=True for consistent parsing.\n",
      "  df4['date']=pd.to_datetime(df4['date'])\n",
      "<ipython-input-15-b1497db94521>:1: UserWarning: Parsing '27/10/2014' in DD/MM/YYYY format. Provide format or specify infer_datetime_format=True for consistent parsing.\n",
      "  df4['date']=pd.to_datetime(df4['date'])\n",
      "<ipython-input-15-b1497db94521>:1: UserWarning: Parsing '28/10/2014' in DD/MM/YYYY format. Provide format or specify infer_datetime_format=True for consistent parsing.\n",
      "  df4['date']=pd.to_datetime(df4['date'])\n",
      "<ipython-input-15-b1497db94521>:1: UserWarning: Parsing '29/10/2014' in DD/MM/YYYY format. Provide format or specify infer_datetime_format=True for consistent parsing.\n",
      "  df4['date']=pd.to_datetime(df4['date'])\n",
      "<ipython-input-15-b1497db94521>:1: UserWarning: Parsing '30/10/2014' in DD/MM/YYYY format. Provide format or specify infer_datetime_format=True for consistent parsing.\n",
      "  df4['date']=pd.to_datetime(df4['date'])\n",
      "<ipython-input-15-b1497db94521>:1: UserWarning: Parsing '31/10/2014' in DD/MM/YYYY format. Provide format or specify infer_datetime_format=True for consistent parsing.\n",
      "  df4['date']=pd.to_datetime(df4['date'])\n",
      "<ipython-input-15-b1497db94521>:1: UserWarning: Parsing '13/11/2014' in DD/MM/YYYY format. Provide format or specify infer_datetime_format=True for consistent parsing.\n",
      "  df4['date']=pd.to_datetime(df4['date'])\n",
      "<ipython-input-15-b1497db94521>:1: UserWarning: Parsing '14/11/2014' in DD/MM/YYYY format. Provide format or specify infer_datetime_format=True for consistent parsing.\n",
      "  df4['date']=pd.to_datetime(df4['date'])\n",
      "<ipython-input-15-b1497db94521>:1: UserWarning: Parsing '17/11/2014' in DD/MM/YYYY format. Provide format or specify infer_datetime_format=True for consistent parsing.\n",
      "  df4['date']=pd.to_datetime(df4['date'])\n",
      "<ipython-input-15-b1497db94521>:1: UserWarning: Parsing '18/11/2014' in DD/MM/YYYY format. Provide format or specify infer_datetime_format=True for consistent parsing.\n",
      "  df4['date']=pd.to_datetime(df4['date'])\n",
      "<ipython-input-15-b1497db94521>:1: UserWarning: Parsing '19/11/2014' in DD/MM/YYYY format. Provide format or specify infer_datetime_format=True for consistent parsing.\n",
      "  df4['date']=pd.to_datetime(df4['date'])\n",
      "<ipython-input-15-b1497db94521>:1: UserWarning: Parsing '20/11/2014' in DD/MM/YYYY format. Provide format or specify infer_datetime_format=True for consistent parsing.\n",
      "  df4['date']=pd.to_datetime(df4['date'])\n",
      "<ipython-input-15-b1497db94521>:1: UserWarning: Parsing '21/11/2014' in DD/MM/YYYY format. Provide format or specify infer_datetime_format=True for consistent parsing.\n",
      "  df4['date']=pd.to_datetime(df4['date'])\n",
      "<ipython-input-15-b1497db94521>:1: UserWarning: Parsing '24/11/2014' in DD/MM/YYYY format. Provide format or specify infer_datetime_format=True for consistent parsing.\n",
      "  df4['date']=pd.to_datetime(df4['date'])\n",
      "<ipython-input-15-b1497db94521>:1: UserWarning: Parsing '25/11/2014' in DD/MM/YYYY format. Provide format or specify infer_datetime_format=True for consistent parsing.\n",
      "  df4['date']=pd.to_datetime(df4['date'])\n",
      "<ipython-input-15-b1497db94521>:1: UserWarning: Parsing '26/11/2014' in DD/MM/YYYY format. Provide format or specify infer_datetime_format=True for consistent parsing.\n",
      "  df4['date']=pd.to_datetime(df4['date'])\n",
      "<ipython-input-15-b1497db94521>:1: UserWarning: Parsing '28/11/2014' in DD/MM/YYYY format. Provide format or specify infer_datetime_format=True for consistent parsing.\n",
      "  df4['date']=pd.to_datetime(df4['date'])\n",
      "<ipython-input-15-b1497db94521>:1: UserWarning: Parsing '15/12/2014' in DD/MM/YYYY format. Provide format or specify infer_datetime_format=True for consistent parsing.\n",
      "  df4['date']=pd.to_datetime(df4['date'])\n",
      "<ipython-input-15-b1497db94521>:1: UserWarning: Parsing '16/12/2014' in DD/MM/YYYY format. Provide format or specify infer_datetime_format=True for consistent parsing.\n",
      "  df4['date']=pd.to_datetime(df4['date'])\n",
      "<ipython-input-15-b1497db94521>:1: UserWarning: Parsing '17/12/2014' in DD/MM/YYYY format. Provide format or specify infer_datetime_format=True for consistent parsing.\n",
      "  df4['date']=pd.to_datetime(df4['date'])\n",
      "<ipython-input-15-b1497db94521>:1: UserWarning: Parsing '18/12/2014' in DD/MM/YYYY format. Provide format or specify infer_datetime_format=True for consistent parsing.\n",
      "  df4['date']=pd.to_datetime(df4['date'])\n",
      "<ipython-input-15-b1497db94521>:1: UserWarning: Parsing '19/12/2014' in DD/MM/YYYY format. Provide format or specify infer_datetime_format=True for consistent parsing.\n",
      "  df4['date']=pd.to_datetime(df4['date'])\n",
      "<ipython-input-15-b1497db94521>:1: UserWarning: Parsing '22/12/2014' in DD/MM/YYYY format. Provide format or specify infer_datetime_format=True for consistent parsing.\n",
      "  df4['date']=pd.to_datetime(df4['date'])\n",
      "<ipython-input-15-b1497db94521>:1: UserWarning: Parsing '23/12/2014' in DD/MM/YYYY format. Provide format or specify infer_datetime_format=True for consistent parsing.\n",
      "  df4['date']=pd.to_datetime(df4['date'])\n",
      "<ipython-input-15-b1497db94521>:1: UserWarning: Parsing '24/12/2014' in DD/MM/YYYY format. Provide format or specify infer_datetime_format=True for consistent parsing.\n",
      "  df4['date']=pd.to_datetime(df4['date'])\n",
      "<ipython-input-15-b1497db94521>:1: UserWarning: Parsing '26/12/2014' in DD/MM/YYYY format. Provide format or specify infer_datetime_format=True for consistent parsing.\n",
      "  df4['date']=pd.to_datetime(df4['date'])\n",
      "<ipython-input-15-b1497db94521>:1: UserWarning: Parsing '29/12/2014' in DD/MM/YYYY format. Provide format or specify infer_datetime_format=True for consistent parsing.\n",
      "  df4['date']=pd.to_datetime(df4['date'])\n",
      "<ipython-input-15-b1497db94521>:1: UserWarning: Parsing '30/12/2014' in DD/MM/YYYY format. Provide format or specify infer_datetime_format=True for consistent parsing.\n",
      "  df4['date']=pd.to_datetime(df4['date'])\n",
      "<ipython-input-15-b1497db94521>:1: UserWarning: Parsing '31/12/2014' in DD/MM/YYYY format. Provide format or specify infer_datetime_format=True for consistent parsing.\n",
      "  df4['date']=pd.to_datetime(df4['date'])\n",
      "<ipython-input-15-b1497db94521>:1: UserWarning: Parsing '13/10/2015' in DD/MM/YYYY format. Provide format or specify infer_datetime_format=True for consistent parsing.\n",
      "  df4['date']=pd.to_datetime(df4['date'])\n",
      "<ipython-input-15-b1497db94521>:1: UserWarning: Parsing '14/10/2015' in DD/MM/YYYY format. Provide format or specify infer_datetime_format=True for consistent parsing.\n",
      "  df4['date']=pd.to_datetime(df4['date'])\n",
      "<ipython-input-15-b1497db94521>:1: UserWarning: Parsing '15/10/2015' in DD/MM/YYYY format. Provide format or specify infer_datetime_format=True for consistent parsing.\n",
      "  df4['date']=pd.to_datetime(df4['date'])\n",
      "<ipython-input-15-b1497db94521>:1: UserWarning: Parsing '16/10/2015' in DD/MM/YYYY format. Provide format or specify infer_datetime_format=True for consistent parsing.\n",
      "  df4['date']=pd.to_datetime(df4['date'])\n",
      "<ipython-input-15-b1497db94521>:1: UserWarning: Parsing '19/10/2015' in DD/MM/YYYY format. Provide format or specify infer_datetime_format=True for consistent parsing.\n",
      "  df4['date']=pd.to_datetime(df4['date'])\n",
      "<ipython-input-15-b1497db94521>:1: UserWarning: Parsing '20/10/2015' in DD/MM/YYYY format. Provide format or specify infer_datetime_format=True for consistent parsing.\n",
      "  df4['date']=pd.to_datetime(df4['date'])\n",
      "<ipython-input-15-b1497db94521>:1: UserWarning: Parsing '21/10/2015' in DD/MM/YYYY format. Provide format or specify infer_datetime_format=True for consistent parsing.\n",
      "  df4['date']=pd.to_datetime(df4['date'])\n",
      "<ipython-input-15-b1497db94521>:1: UserWarning: Parsing '22/10/2015' in DD/MM/YYYY format. Provide format or specify infer_datetime_format=True for consistent parsing.\n",
      "  df4['date']=pd.to_datetime(df4['date'])\n",
      "<ipython-input-15-b1497db94521>:1: UserWarning: Parsing '23/10/2015' in DD/MM/YYYY format. Provide format or specify infer_datetime_format=True for consistent parsing.\n",
      "  df4['date']=pd.to_datetime(df4['date'])\n",
      "<ipython-input-15-b1497db94521>:1: UserWarning: Parsing '26/10/2015' in DD/MM/YYYY format. Provide format or specify infer_datetime_format=True for consistent parsing.\n",
      "  df4['date']=pd.to_datetime(df4['date'])\n",
      "<ipython-input-15-b1497db94521>:1: UserWarning: Parsing '27/10/2015' in DD/MM/YYYY format. Provide format or specify infer_datetime_format=True for consistent parsing.\n",
      "  df4['date']=pd.to_datetime(df4['date'])\n",
      "<ipython-input-15-b1497db94521>:1: UserWarning: Parsing '28/10/2015' in DD/MM/YYYY format. Provide format or specify infer_datetime_format=True for consistent parsing.\n",
      "  df4['date']=pd.to_datetime(df4['date'])\n",
      "<ipython-input-15-b1497db94521>:1: UserWarning: Parsing '29/10/2015' in DD/MM/YYYY format. Provide format or specify infer_datetime_format=True for consistent parsing.\n",
      "  df4['date']=pd.to_datetime(df4['date'])\n",
      "<ipython-input-15-b1497db94521>:1: UserWarning: Parsing '30/10/2015' in DD/MM/YYYY format. Provide format or specify infer_datetime_format=True for consistent parsing.\n",
      "  df4['date']=pd.to_datetime(df4['date'])\n",
      "<ipython-input-15-b1497db94521>:1: UserWarning: Parsing '13/11/2015' in DD/MM/YYYY format. Provide format or specify infer_datetime_format=True for consistent parsing.\n",
      "  df4['date']=pd.to_datetime(df4['date'])\n",
      "<ipython-input-15-b1497db94521>:1: UserWarning: Parsing '16/11/2015' in DD/MM/YYYY format. Provide format or specify infer_datetime_format=True for consistent parsing.\n",
      "  df4['date']=pd.to_datetime(df4['date'])\n",
      "<ipython-input-15-b1497db94521>:1: UserWarning: Parsing '17/11/2015' in DD/MM/YYYY format. Provide format or specify infer_datetime_format=True for consistent parsing.\n",
      "  df4['date']=pd.to_datetime(df4['date'])\n",
      "<ipython-input-15-b1497db94521>:1: UserWarning: Parsing '18/11/2015' in DD/MM/YYYY format. Provide format or specify infer_datetime_format=True for consistent parsing.\n",
      "  df4['date']=pd.to_datetime(df4['date'])\n",
      "<ipython-input-15-b1497db94521>:1: UserWarning: Parsing '19/11/2015' in DD/MM/YYYY format. Provide format or specify infer_datetime_format=True for consistent parsing.\n",
      "  df4['date']=pd.to_datetime(df4['date'])\n",
      "<ipython-input-15-b1497db94521>:1: UserWarning: Parsing '20/11/2015' in DD/MM/YYYY format. Provide format or specify infer_datetime_format=True for consistent parsing.\n",
      "  df4['date']=pd.to_datetime(df4['date'])\n",
      "<ipython-input-15-b1497db94521>:1: UserWarning: Parsing '23/11/2015' in DD/MM/YYYY format. Provide format or specify infer_datetime_format=True for consistent parsing.\n",
      "  df4['date']=pd.to_datetime(df4['date'])\n",
      "<ipython-input-15-b1497db94521>:1: UserWarning: Parsing '24/11/2015' in DD/MM/YYYY format. Provide format or specify infer_datetime_format=True for consistent parsing.\n",
      "  df4['date']=pd.to_datetime(df4['date'])\n",
      "<ipython-input-15-b1497db94521>:1: UserWarning: Parsing '25/11/2015' in DD/MM/YYYY format. Provide format or specify infer_datetime_format=True for consistent parsing.\n",
      "  df4['date']=pd.to_datetime(df4['date'])\n",
      "<ipython-input-15-b1497db94521>:1: UserWarning: Parsing '27/11/2015' in DD/MM/YYYY format. Provide format or specify infer_datetime_format=True for consistent parsing.\n",
      "  df4['date']=pd.to_datetime(df4['date'])\n",
      "<ipython-input-15-b1497db94521>:1: UserWarning: Parsing '30/11/2015' in DD/MM/YYYY format. Provide format or specify infer_datetime_format=True for consistent parsing.\n",
      "  df4['date']=pd.to_datetime(df4['date'])\n",
      "<ipython-input-15-b1497db94521>:1: UserWarning: Parsing '14/12/2015' in DD/MM/YYYY format. Provide format or specify infer_datetime_format=True for consistent parsing.\n",
      "  df4['date']=pd.to_datetime(df4['date'])\n",
      "<ipython-input-15-b1497db94521>:1: UserWarning: Parsing '15/12/2015' in DD/MM/YYYY format. Provide format or specify infer_datetime_format=True for consistent parsing.\n",
      "  df4['date']=pd.to_datetime(df4['date'])\n",
      "<ipython-input-15-b1497db94521>:1: UserWarning: Parsing '16/12/2015' in DD/MM/YYYY format. Provide format or specify infer_datetime_format=True for consistent parsing.\n",
      "  df4['date']=pd.to_datetime(df4['date'])\n",
      "<ipython-input-15-b1497db94521>:1: UserWarning: Parsing '17/12/2015' in DD/MM/YYYY format. Provide format or specify infer_datetime_format=True for consistent parsing.\n",
      "  df4['date']=pd.to_datetime(df4['date'])\n",
      "<ipython-input-15-b1497db94521>:1: UserWarning: Parsing '18/12/2015' in DD/MM/YYYY format. Provide format or specify infer_datetime_format=True for consistent parsing.\n",
      "  df4['date']=pd.to_datetime(df4['date'])\n",
      "<ipython-input-15-b1497db94521>:1: UserWarning: Parsing '21/12/2015' in DD/MM/YYYY format. Provide format or specify infer_datetime_format=True for consistent parsing.\n",
      "  df4['date']=pd.to_datetime(df4['date'])\n",
      "<ipython-input-15-b1497db94521>:1: UserWarning: Parsing '22/12/2015' in DD/MM/YYYY format. Provide format or specify infer_datetime_format=True for consistent parsing.\n",
      "  df4['date']=pd.to_datetime(df4['date'])\n",
      "<ipython-input-15-b1497db94521>:1: UserWarning: Parsing '23/12/2015' in DD/MM/YYYY format. Provide format or specify infer_datetime_format=True for consistent parsing.\n",
      "  df4['date']=pd.to_datetime(df4['date'])\n",
      "<ipython-input-15-b1497db94521>:1: UserWarning: Parsing '24/12/2015' in DD/MM/YYYY format. Provide format or specify infer_datetime_format=True for consistent parsing.\n",
      "  df4['date']=pd.to_datetime(df4['date'])\n",
      "<ipython-input-15-b1497db94521>:1: UserWarning: Parsing '28/12/2015' in DD/MM/YYYY format. Provide format or specify infer_datetime_format=True for consistent parsing.\n",
      "  df4['date']=pd.to_datetime(df4['date'])\n",
      "<ipython-input-15-b1497db94521>:1: UserWarning: Parsing '29/12/2015' in DD/MM/YYYY format. Provide format or specify infer_datetime_format=True for consistent parsing.\n",
      "  df4['date']=pd.to_datetime(df4['date'])\n",
      "<ipython-input-15-b1497db94521>:1: UserWarning: Parsing '30/12/2015' in DD/MM/YYYY format. Provide format or specify infer_datetime_format=True for consistent parsing.\n",
      "  df4['date']=pd.to_datetime(df4['date'])\n",
      "<ipython-input-15-b1497db94521>:1: UserWarning: Parsing '31/12/2015' in DD/MM/YYYY format. Provide format or specify infer_datetime_format=True for consistent parsing.\n",
      "  df4['date']=pd.to_datetime(df4['date'])\n",
      "<ipython-input-15-b1497db94521>:1: UserWarning: Parsing '13/10/2016' in DD/MM/YYYY format. Provide format or specify infer_datetime_format=True for consistent parsing.\n",
      "  df4['date']=pd.to_datetime(df4['date'])\n",
      "<ipython-input-15-b1497db94521>:1: UserWarning: Parsing '14/10/2016' in DD/MM/YYYY format. Provide format or specify infer_datetime_format=True for consistent parsing.\n",
      "  df4['date']=pd.to_datetime(df4['date'])\n",
      "<ipython-input-15-b1497db94521>:1: UserWarning: Parsing '17/10/2016' in DD/MM/YYYY format. Provide format or specify infer_datetime_format=True for consistent parsing.\n",
      "  df4['date']=pd.to_datetime(df4['date'])\n",
      "<ipython-input-15-b1497db94521>:1: UserWarning: Parsing '18/10/2016' in DD/MM/YYYY format. Provide format or specify infer_datetime_format=True for consistent parsing.\n",
      "  df4['date']=pd.to_datetime(df4['date'])\n",
      "<ipython-input-15-b1497db94521>:1: UserWarning: Parsing '19/10/2016' in DD/MM/YYYY format. Provide format or specify infer_datetime_format=True for consistent parsing.\n",
      "  df4['date']=pd.to_datetime(df4['date'])\n",
      "<ipython-input-15-b1497db94521>:1: UserWarning: Parsing '20/10/2016' in DD/MM/YYYY format. Provide format or specify infer_datetime_format=True for consistent parsing.\n",
      "  df4['date']=pd.to_datetime(df4['date'])\n",
      "<ipython-input-15-b1497db94521>:1: UserWarning: Parsing '21/10/2016' in DD/MM/YYYY format. Provide format or specify infer_datetime_format=True for consistent parsing.\n",
      "  df4['date']=pd.to_datetime(df4['date'])\n",
      "<ipython-input-15-b1497db94521>:1: UserWarning: Parsing '24/10/2016' in DD/MM/YYYY format. Provide format or specify infer_datetime_format=True for consistent parsing.\n",
      "  df4['date']=pd.to_datetime(df4['date'])\n",
      "<ipython-input-15-b1497db94521>:1: UserWarning: Parsing '25/10/2016' in DD/MM/YYYY format. Provide format or specify infer_datetime_format=True for consistent parsing.\n",
      "  df4['date']=pd.to_datetime(df4['date'])\n",
      "<ipython-input-15-b1497db94521>:1: UserWarning: Parsing '26/10/2016' in DD/MM/YYYY format. Provide format or specify infer_datetime_format=True for consistent parsing.\n",
      "  df4['date']=pd.to_datetime(df4['date'])\n",
      "<ipython-input-15-b1497db94521>:1: UserWarning: Parsing '27/10/2016' in DD/MM/YYYY format. Provide format or specify infer_datetime_format=True for consistent parsing.\n",
      "  df4['date']=pd.to_datetime(df4['date'])\n",
      "<ipython-input-15-b1497db94521>:1: UserWarning: Parsing '28/10/2016' in DD/MM/YYYY format. Provide format or specify infer_datetime_format=True for consistent parsing.\n",
      "  df4['date']=pd.to_datetime(df4['date'])\n",
      "<ipython-input-15-b1497db94521>:1: UserWarning: Parsing '31/10/2016' in DD/MM/YYYY format. Provide format or specify infer_datetime_format=True for consistent parsing.\n",
      "  df4['date']=pd.to_datetime(df4['date'])\n",
      "<ipython-input-15-b1497db94521>:1: UserWarning: Parsing '14/11/2016' in DD/MM/YYYY format. Provide format or specify infer_datetime_format=True for consistent parsing.\n",
      "  df4['date']=pd.to_datetime(df4['date'])\n",
      "<ipython-input-15-b1497db94521>:1: UserWarning: Parsing '15/11/2016' in DD/MM/YYYY format. Provide format or specify infer_datetime_format=True for consistent parsing.\n",
      "  df4['date']=pd.to_datetime(df4['date'])\n",
      "<ipython-input-15-b1497db94521>:1: UserWarning: Parsing '16/11/2016' in DD/MM/YYYY format. Provide format or specify infer_datetime_format=True for consistent parsing.\n",
      "  df4['date']=pd.to_datetime(df4['date'])\n",
      "<ipython-input-15-b1497db94521>:1: UserWarning: Parsing '17/11/2016' in DD/MM/YYYY format. Provide format or specify infer_datetime_format=True for consistent parsing.\n",
      "  df4['date']=pd.to_datetime(df4['date'])\n",
      "<ipython-input-15-b1497db94521>:1: UserWarning: Parsing '18/11/2016' in DD/MM/YYYY format. Provide format or specify infer_datetime_format=True for consistent parsing.\n",
      "  df4['date']=pd.to_datetime(df4['date'])\n",
      "<ipython-input-15-b1497db94521>:1: UserWarning: Parsing '21/11/2016' in DD/MM/YYYY format. Provide format or specify infer_datetime_format=True for consistent parsing.\n",
      "  df4['date']=pd.to_datetime(df4['date'])\n",
      "<ipython-input-15-b1497db94521>:1: UserWarning: Parsing '22/11/2016' in DD/MM/YYYY format. Provide format or specify infer_datetime_format=True for consistent parsing.\n",
      "  df4['date']=pd.to_datetime(df4['date'])\n",
      "<ipython-input-15-b1497db94521>:1: UserWarning: Parsing '23/11/2016' in DD/MM/YYYY format. Provide format or specify infer_datetime_format=True for consistent parsing.\n",
      "  df4['date']=pd.to_datetime(df4['date'])\n",
      "<ipython-input-15-b1497db94521>:1: UserWarning: Parsing '25/11/2016' in DD/MM/YYYY format. Provide format or specify infer_datetime_format=True for consistent parsing.\n",
      "  df4['date']=pd.to_datetime(df4['date'])\n",
      "<ipython-input-15-b1497db94521>:1: UserWarning: Parsing '28/11/2016' in DD/MM/YYYY format. Provide format or specify infer_datetime_format=True for consistent parsing.\n",
      "  df4['date']=pd.to_datetime(df4['date'])\n",
      "<ipython-input-15-b1497db94521>:1: UserWarning: Parsing '29/11/2016' in DD/MM/YYYY format. Provide format or specify infer_datetime_format=True for consistent parsing.\n",
      "  df4['date']=pd.to_datetime(df4['date'])\n",
      "<ipython-input-15-b1497db94521>:1: UserWarning: Parsing '30/11/2016' in DD/MM/YYYY format. Provide format or specify infer_datetime_format=True for consistent parsing.\n",
      "  df4['date']=pd.to_datetime(df4['date'])\n",
      "<ipython-input-15-b1497db94521>:1: UserWarning: Parsing '13/12/2016' in DD/MM/YYYY format. Provide format or specify infer_datetime_format=True for consistent parsing.\n",
      "  df4['date']=pd.to_datetime(df4['date'])\n",
      "<ipython-input-15-b1497db94521>:1: UserWarning: Parsing '14/12/2016' in DD/MM/YYYY format. Provide format or specify infer_datetime_format=True for consistent parsing.\n",
      "  df4['date']=pd.to_datetime(df4['date'])\n",
      "<ipython-input-15-b1497db94521>:1: UserWarning: Parsing '15/12/2016' in DD/MM/YYYY format. Provide format or specify infer_datetime_format=True for consistent parsing.\n",
      "  df4['date']=pd.to_datetime(df4['date'])\n",
      "<ipython-input-15-b1497db94521>:1: UserWarning: Parsing '16/12/2016' in DD/MM/YYYY format. Provide format or specify infer_datetime_format=True for consistent parsing.\n",
      "  df4['date']=pd.to_datetime(df4['date'])\n",
      "<ipython-input-15-b1497db94521>:1: UserWarning: Parsing '19/12/2016' in DD/MM/YYYY format. Provide format or specify infer_datetime_format=True for consistent parsing.\n",
      "  df4['date']=pd.to_datetime(df4['date'])\n",
      "<ipython-input-15-b1497db94521>:1: UserWarning: Parsing '20/12/2016' in DD/MM/YYYY format. Provide format or specify infer_datetime_format=True for consistent parsing.\n",
      "  df4['date']=pd.to_datetime(df4['date'])\n",
      "<ipython-input-15-b1497db94521>:1: UserWarning: Parsing '21/12/2016' in DD/MM/YYYY format. Provide format or specify infer_datetime_format=True for consistent parsing.\n",
      "  df4['date']=pd.to_datetime(df4['date'])\n",
      "<ipython-input-15-b1497db94521>:1: UserWarning: Parsing '22/12/2016' in DD/MM/YYYY format. Provide format or specify infer_datetime_format=True for consistent parsing.\n",
      "  df4['date']=pd.to_datetime(df4['date'])\n",
      "<ipython-input-15-b1497db94521>:1: UserWarning: Parsing '23/12/2016' in DD/MM/YYYY format. Provide format or specify infer_datetime_format=True for consistent parsing.\n",
      "  df4['date']=pd.to_datetime(df4['date'])\n",
      "<ipython-input-15-b1497db94521>:1: UserWarning: Parsing '27/12/2016' in DD/MM/YYYY format. Provide format or specify infer_datetime_format=True for consistent parsing.\n",
      "  df4['date']=pd.to_datetime(df4['date'])\n",
      "<ipython-input-15-b1497db94521>:1: UserWarning: Parsing '28/12/2016' in DD/MM/YYYY format. Provide format or specify infer_datetime_format=True for consistent parsing.\n",
      "  df4['date']=pd.to_datetime(df4['date'])\n",
      "<ipython-input-15-b1497db94521>:1: UserWarning: Parsing '29/12/2016' in DD/MM/YYYY format. Provide format or specify infer_datetime_format=True for consistent parsing.\n",
      "  df4['date']=pd.to_datetime(df4['date'])\n",
      "<ipython-input-15-b1497db94521>:1: UserWarning: Parsing '30/12/2016' in DD/MM/YYYY format. Provide format or specify infer_datetime_format=True for consistent parsing.\n",
      "  df4['date']=pd.to_datetime(df4['date'])\n",
      "<ipython-input-15-b1497db94521>:1: UserWarning: Parsing '13/10/2017' in DD/MM/YYYY format. Provide format or specify infer_datetime_format=True for consistent parsing.\n",
      "  df4['date']=pd.to_datetime(df4['date'])\n",
      "<ipython-input-15-b1497db94521>:1: UserWarning: Parsing '16/10/2017' in DD/MM/YYYY format. Provide format or specify infer_datetime_format=True for consistent parsing.\n",
      "  df4['date']=pd.to_datetime(df4['date'])\n",
      "<ipython-input-15-b1497db94521>:1: UserWarning: Parsing '17/10/2017' in DD/MM/YYYY format. Provide format or specify infer_datetime_format=True for consistent parsing.\n",
      "  df4['date']=pd.to_datetime(df4['date'])\n",
      "<ipython-input-15-b1497db94521>:1: UserWarning: Parsing '18/10/2017' in DD/MM/YYYY format. Provide format or specify infer_datetime_format=True for consistent parsing.\n",
      "  df4['date']=pd.to_datetime(df4['date'])\n",
      "<ipython-input-15-b1497db94521>:1: UserWarning: Parsing '19/10/2017' in DD/MM/YYYY format. Provide format or specify infer_datetime_format=True for consistent parsing.\n",
      "  df4['date']=pd.to_datetime(df4['date'])\n",
      "<ipython-input-15-b1497db94521>:1: UserWarning: Parsing '20/10/2017' in DD/MM/YYYY format. Provide format or specify infer_datetime_format=True for consistent parsing.\n",
      "  df4['date']=pd.to_datetime(df4['date'])\n",
      "<ipython-input-15-b1497db94521>:1: UserWarning: Parsing '23/10/2017' in DD/MM/YYYY format. Provide format or specify infer_datetime_format=True for consistent parsing.\n",
      "  df4['date']=pd.to_datetime(df4['date'])\n",
      "<ipython-input-15-b1497db94521>:1: UserWarning: Parsing '24/10/2017' in DD/MM/YYYY format. Provide format or specify infer_datetime_format=True for consistent parsing.\n",
      "  df4['date']=pd.to_datetime(df4['date'])\n",
      "<ipython-input-15-b1497db94521>:1: UserWarning: Parsing '25/10/2017' in DD/MM/YYYY format. Provide format or specify infer_datetime_format=True for consistent parsing.\n",
      "  df4['date']=pd.to_datetime(df4['date'])\n",
      "<ipython-input-15-b1497db94521>:1: UserWarning: Parsing '26/10/2017' in DD/MM/YYYY format. Provide format or specify infer_datetime_format=True for consistent parsing.\n",
      "  df4['date']=pd.to_datetime(df4['date'])\n",
      "<ipython-input-15-b1497db94521>:1: UserWarning: Parsing '27/10/2017' in DD/MM/YYYY format. Provide format or specify infer_datetime_format=True for consistent parsing.\n",
      "  df4['date']=pd.to_datetime(df4['date'])\n",
      "<ipython-input-15-b1497db94521>:1: UserWarning: Parsing '30/10/2017' in DD/MM/YYYY format. Provide format or specify infer_datetime_format=True for consistent parsing.\n",
      "  df4['date']=pd.to_datetime(df4['date'])\n",
      "<ipython-input-15-b1497db94521>:1: UserWarning: Parsing '31/10/2017' in DD/MM/YYYY format. Provide format or specify infer_datetime_format=True for consistent parsing.\n",
      "  df4['date']=pd.to_datetime(df4['date'])\n",
      "<ipython-input-15-b1497db94521>:1: UserWarning: Parsing '13/11/2017' in DD/MM/YYYY format. Provide format or specify infer_datetime_format=True for consistent parsing.\n",
      "  df4['date']=pd.to_datetime(df4['date'])\n",
      "<ipython-input-15-b1497db94521>:1: UserWarning: Parsing '14/11/2017' in DD/MM/YYYY format. Provide format or specify infer_datetime_format=True for consistent parsing.\n",
      "  df4['date']=pd.to_datetime(df4['date'])\n",
      "<ipython-input-15-b1497db94521>:1: UserWarning: Parsing '15/11/2017' in DD/MM/YYYY format. Provide format or specify infer_datetime_format=True for consistent parsing.\n",
      "  df4['date']=pd.to_datetime(df4['date'])\n",
      "<ipython-input-15-b1497db94521>:1: UserWarning: Parsing '16/11/2017' in DD/MM/YYYY format. Provide format or specify infer_datetime_format=True for consistent parsing.\n",
      "  df4['date']=pd.to_datetime(df4['date'])\n",
      "<ipython-input-15-b1497db94521>:1: UserWarning: Parsing '17/11/2017' in DD/MM/YYYY format. Provide format or specify infer_datetime_format=True for consistent parsing.\n",
      "  df4['date']=pd.to_datetime(df4['date'])\n",
      "<ipython-input-15-b1497db94521>:1: UserWarning: Parsing '20/11/2017' in DD/MM/YYYY format. Provide format or specify infer_datetime_format=True for consistent parsing.\n",
      "  df4['date']=pd.to_datetime(df4['date'])\n",
      "<ipython-input-15-b1497db94521>:1: UserWarning: Parsing '21/11/2017' in DD/MM/YYYY format. Provide format or specify infer_datetime_format=True for consistent parsing.\n",
      "  df4['date']=pd.to_datetime(df4['date'])\n",
      "<ipython-input-15-b1497db94521>:1: UserWarning: Parsing '22/11/2017' in DD/MM/YYYY format. Provide format or specify infer_datetime_format=True for consistent parsing.\n",
      "  df4['date']=pd.to_datetime(df4['date'])\n",
      "<ipython-input-15-b1497db94521>:1: UserWarning: Parsing '24/11/2017' in DD/MM/YYYY format. Provide format or specify infer_datetime_format=True for consistent parsing.\n",
      "  df4['date']=pd.to_datetime(df4['date'])\n",
      "<ipython-input-15-b1497db94521>:1: UserWarning: Parsing '27/11/2017' in DD/MM/YYYY format. Provide format or specify infer_datetime_format=True for consistent parsing.\n",
      "  df4['date']=pd.to_datetime(df4['date'])\n",
      "<ipython-input-15-b1497db94521>:1: UserWarning: Parsing '28/11/2017' in DD/MM/YYYY format. Provide format or specify infer_datetime_format=True for consistent parsing.\n",
      "  df4['date']=pd.to_datetime(df4['date'])\n",
      "<ipython-input-15-b1497db94521>:1: UserWarning: Parsing '29/11/2017' in DD/MM/YYYY format. Provide format or specify infer_datetime_format=True for consistent parsing.\n",
      "  df4['date']=pd.to_datetime(df4['date'])\n",
      "<ipython-input-15-b1497db94521>:1: UserWarning: Parsing '30/11/2017' in DD/MM/YYYY format. Provide format or specify infer_datetime_format=True for consistent parsing.\n",
      "  df4['date']=pd.to_datetime(df4['date'])\n",
      "<ipython-input-15-b1497db94521>:1: UserWarning: Parsing '13/12/2017' in DD/MM/YYYY format. Provide format or specify infer_datetime_format=True for consistent parsing.\n",
      "  df4['date']=pd.to_datetime(df4['date'])\n",
      "<ipython-input-15-b1497db94521>:1: UserWarning: Parsing '14/12/2017' in DD/MM/YYYY format. Provide format or specify infer_datetime_format=True for consistent parsing.\n",
      "  df4['date']=pd.to_datetime(df4['date'])\n",
      "<ipython-input-15-b1497db94521>:1: UserWarning: Parsing '15/12/2017' in DD/MM/YYYY format. Provide format or specify infer_datetime_format=True for consistent parsing.\n",
      "  df4['date']=pd.to_datetime(df4['date'])\n",
      "<ipython-input-15-b1497db94521>:1: UserWarning: Parsing '18/12/2017' in DD/MM/YYYY format. Provide format or specify infer_datetime_format=True for consistent parsing.\n",
      "  df4['date']=pd.to_datetime(df4['date'])\n",
      "<ipython-input-15-b1497db94521>:1: UserWarning: Parsing '19/12/2017' in DD/MM/YYYY format. Provide format or specify infer_datetime_format=True for consistent parsing.\n",
      "  df4['date']=pd.to_datetime(df4['date'])\n",
      "<ipython-input-15-b1497db94521>:1: UserWarning: Parsing '20/12/2017' in DD/MM/YYYY format. Provide format or specify infer_datetime_format=True for consistent parsing.\n",
      "  df4['date']=pd.to_datetime(df4['date'])\n",
      "<ipython-input-15-b1497db94521>:1: UserWarning: Parsing '21/12/2017' in DD/MM/YYYY format. Provide format or specify infer_datetime_format=True for consistent parsing.\n",
      "  df4['date']=pd.to_datetime(df4['date'])\n",
      "<ipython-input-15-b1497db94521>:1: UserWarning: Parsing '22/12/2017' in DD/MM/YYYY format. Provide format or specify infer_datetime_format=True for consistent parsing.\n",
      "  df4['date']=pd.to_datetime(df4['date'])\n",
      "<ipython-input-15-b1497db94521>:1: UserWarning: Parsing '26/12/2017' in DD/MM/YYYY format. Provide format or specify infer_datetime_format=True for consistent parsing.\n",
      "  df4['date']=pd.to_datetime(df4['date'])\n",
      "<ipython-input-15-b1497db94521>:1: UserWarning: Parsing '27/12/2017' in DD/MM/YYYY format. Provide format or specify infer_datetime_format=True for consistent parsing.\n",
      "  df4['date']=pd.to_datetime(df4['date'])\n",
      "<ipython-input-15-b1497db94521>:1: UserWarning: Parsing '28/12/2017' in DD/MM/YYYY format. Provide format or specify infer_datetime_format=True for consistent parsing.\n",
      "  df4['date']=pd.to_datetime(df4['date'])\n",
      "<ipython-input-15-b1497db94521>:1: UserWarning: Parsing '29/12/2017' in DD/MM/YYYY format. Provide format or specify infer_datetime_format=True for consistent parsing.\n",
      "  df4['date']=pd.to_datetime(df4['date'])\n",
      "<ipython-input-15-b1497db94521>:1: UserWarning: Parsing '15/10/2018' in DD/MM/YYYY format. Provide format or specify infer_datetime_format=True for consistent parsing.\n",
      "  df4['date']=pd.to_datetime(df4['date'])\n",
      "<ipython-input-15-b1497db94521>:1: UserWarning: Parsing '16/10/2018' in DD/MM/YYYY format. Provide format or specify infer_datetime_format=True for consistent parsing.\n",
      "  df4['date']=pd.to_datetime(df4['date'])\n",
      "<ipython-input-15-b1497db94521>:1: UserWarning: Parsing '17/10/2018' in DD/MM/YYYY format. Provide format or specify infer_datetime_format=True for consistent parsing.\n",
      "  df4['date']=pd.to_datetime(df4['date'])\n",
      "<ipython-input-15-b1497db94521>:1: UserWarning: Parsing '18/10/2018' in DD/MM/YYYY format. Provide format or specify infer_datetime_format=True for consistent parsing.\n",
      "  df4['date']=pd.to_datetime(df4['date'])\n",
      "<ipython-input-15-b1497db94521>:1: UserWarning: Parsing '19/10/2018' in DD/MM/YYYY format. Provide format or specify infer_datetime_format=True for consistent parsing.\n",
      "  df4['date']=pd.to_datetime(df4['date'])\n",
      "<ipython-input-15-b1497db94521>:1: UserWarning: Parsing '22/10/2018' in DD/MM/YYYY format. Provide format or specify infer_datetime_format=True for consistent parsing.\n",
      "  df4['date']=pd.to_datetime(df4['date'])\n",
      "<ipython-input-15-b1497db94521>:1: UserWarning: Parsing '23/10/2018' in DD/MM/YYYY format. Provide format or specify infer_datetime_format=True for consistent parsing.\n",
      "  df4['date']=pd.to_datetime(df4['date'])\n",
      "<ipython-input-15-b1497db94521>:1: UserWarning: Parsing '24/10/2018' in DD/MM/YYYY format. Provide format or specify infer_datetime_format=True for consistent parsing.\n",
      "  df4['date']=pd.to_datetime(df4['date'])\n",
      "<ipython-input-15-b1497db94521>:1: UserWarning: Parsing '25/10/2018' in DD/MM/YYYY format. Provide format or specify infer_datetime_format=True for consistent parsing.\n",
      "  df4['date']=pd.to_datetime(df4['date'])\n",
      "<ipython-input-15-b1497db94521>:1: UserWarning: Parsing '26/10/2018' in DD/MM/YYYY format. Provide format or specify infer_datetime_format=True for consistent parsing.\n",
      "  df4['date']=pd.to_datetime(df4['date'])\n",
      "<ipython-input-15-b1497db94521>:1: UserWarning: Parsing '29/10/2018' in DD/MM/YYYY format. Provide format or specify infer_datetime_format=True for consistent parsing.\n",
      "  df4['date']=pd.to_datetime(df4['date'])\n",
      "<ipython-input-15-b1497db94521>:1: UserWarning: Parsing '30/10/2018' in DD/MM/YYYY format. Provide format or specify infer_datetime_format=True for consistent parsing.\n",
      "  df4['date']=pd.to_datetime(df4['date'])\n",
      "<ipython-input-15-b1497db94521>:1: UserWarning: Parsing '31/10/2018' in DD/MM/YYYY format. Provide format or specify infer_datetime_format=True for consistent parsing.\n",
      "  df4['date']=pd.to_datetime(df4['date'])\n",
      "<ipython-input-15-b1497db94521>:1: UserWarning: Parsing '13/11/2018' in DD/MM/YYYY format. Provide format or specify infer_datetime_format=True for consistent parsing.\n",
      "  df4['date']=pd.to_datetime(df4['date'])\n",
      "<ipython-input-15-b1497db94521>:1: UserWarning: Parsing '14/11/2018' in DD/MM/YYYY format. Provide format or specify infer_datetime_format=True for consistent parsing.\n",
      "  df4['date']=pd.to_datetime(df4['date'])\n",
      "<ipython-input-15-b1497db94521>:1: UserWarning: Parsing '15/11/2018' in DD/MM/YYYY format. Provide format or specify infer_datetime_format=True for consistent parsing.\n",
      "  df4['date']=pd.to_datetime(df4['date'])\n",
      "<ipython-input-15-b1497db94521>:1: UserWarning: Parsing '16/11/2018' in DD/MM/YYYY format. Provide format or specify infer_datetime_format=True for consistent parsing.\n",
      "  df4['date']=pd.to_datetime(df4['date'])\n",
      "<ipython-input-15-b1497db94521>:1: UserWarning: Parsing '19/11/2018' in DD/MM/YYYY format. Provide format or specify infer_datetime_format=True for consistent parsing.\n",
      "  df4['date']=pd.to_datetime(df4['date'])\n",
      "<ipython-input-15-b1497db94521>:1: UserWarning: Parsing '20/11/2018' in DD/MM/YYYY format. Provide format or specify infer_datetime_format=True for consistent parsing.\n",
      "  df4['date']=pd.to_datetime(df4['date'])\n",
      "<ipython-input-15-b1497db94521>:1: UserWarning: Parsing '21/11/2018' in DD/MM/YYYY format. Provide format or specify infer_datetime_format=True for consistent parsing.\n",
      "  df4['date']=pd.to_datetime(df4['date'])\n",
      "<ipython-input-15-b1497db94521>:1: UserWarning: Parsing '23/11/2018' in DD/MM/YYYY format. Provide format or specify infer_datetime_format=True for consistent parsing.\n",
      "  df4['date']=pd.to_datetime(df4['date'])\n",
      "<ipython-input-15-b1497db94521>:1: UserWarning: Parsing '26/11/2018' in DD/MM/YYYY format. Provide format or specify infer_datetime_format=True for consistent parsing.\n",
      "  df4['date']=pd.to_datetime(df4['date'])\n",
      "<ipython-input-15-b1497db94521>:1: UserWarning: Parsing '27/11/2018' in DD/MM/YYYY format. Provide format or specify infer_datetime_format=True for consistent parsing.\n",
      "  df4['date']=pd.to_datetime(df4['date'])\n",
      "<ipython-input-15-b1497db94521>:1: UserWarning: Parsing '28/11/2018' in DD/MM/YYYY format. Provide format or specify infer_datetime_format=True for consistent parsing.\n",
      "  df4['date']=pd.to_datetime(df4['date'])\n",
      "<ipython-input-15-b1497db94521>:1: UserWarning: Parsing '29/11/2018' in DD/MM/YYYY format. Provide format or specify infer_datetime_format=True for consistent parsing.\n",
      "  df4['date']=pd.to_datetime(df4['date'])\n",
      "<ipython-input-15-b1497db94521>:1: UserWarning: Parsing '30/11/2018' in DD/MM/YYYY format. Provide format or specify infer_datetime_format=True for consistent parsing.\n",
      "  df4['date']=pd.to_datetime(df4['date'])\n",
      "<ipython-input-15-b1497db94521>:1: UserWarning: Parsing '13/12/2018' in DD/MM/YYYY format. Provide format or specify infer_datetime_format=True for consistent parsing.\n",
      "  df4['date']=pd.to_datetime(df4['date'])\n",
      "<ipython-input-15-b1497db94521>:1: UserWarning: Parsing '14/12/2018' in DD/MM/YYYY format. Provide format or specify infer_datetime_format=True for consistent parsing.\n",
      "  df4['date']=pd.to_datetime(df4['date'])\n",
      "<ipython-input-15-b1497db94521>:1: UserWarning: Parsing '17/12/2018' in DD/MM/YYYY format. Provide format or specify infer_datetime_format=True for consistent parsing.\n",
      "  df4['date']=pd.to_datetime(df4['date'])\n",
      "<ipython-input-15-b1497db94521>:1: UserWarning: Parsing '18/12/2018' in DD/MM/YYYY format. Provide format or specify infer_datetime_format=True for consistent parsing.\n",
      "  df4['date']=pd.to_datetime(df4['date'])\n",
      "<ipython-input-15-b1497db94521>:1: UserWarning: Parsing '19/12/2018' in DD/MM/YYYY format. Provide format or specify infer_datetime_format=True for consistent parsing.\n",
      "  df4['date']=pd.to_datetime(df4['date'])\n",
      "<ipython-input-15-b1497db94521>:1: UserWarning: Parsing '20/12/2018' in DD/MM/YYYY format. Provide format or specify infer_datetime_format=True for consistent parsing.\n",
      "  df4['date']=pd.to_datetime(df4['date'])\n",
      "<ipython-input-15-b1497db94521>:1: UserWarning: Parsing '21/12/2018' in DD/MM/YYYY format. Provide format or specify infer_datetime_format=True for consistent parsing.\n",
      "  df4['date']=pd.to_datetime(df4['date'])\n",
      "<ipython-input-15-b1497db94521>:1: UserWarning: Parsing '24/12/2018' in DD/MM/YYYY format. Provide format or specify infer_datetime_format=True for consistent parsing.\n",
      "  df4['date']=pd.to_datetime(df4['date'])\n",
      "<ipython-input-15-b1497db94521>:1: UserWarning: Parsing '26/12/2018' in DD/MM/YYYY format. Provide format or specify infer_datetime_format=True for consistent parsing.\n",
      "  df4['date']=pd.to_datetime(df4['date'])\n",
      "<ipython-input-15-b1497db94521>:1: UserWarning: Parsing '27/12/2018' in DD/MM/YYYY format. Provide format or specify infer_datetime_format=True for consistent parsing.\n",
      "  df4['date']=pd.to_datetime(df4['date'])\n",
      "<ipython-input-15-b1497db94521>:1: UserWarning: Parsing '28/12/2018' in DD/MM/YYYY format. Provide format or specify infer_datetime_format=True for consistent parsing.\n",
      "  df4['date']=pd.to_datetime(df4['date'])\n",
      "<ipython-input-15-b1497db94521>:1: UserWarning: Parsing '31/12/2018' in DD/MM/YYYY format. Provide format or specify infer_datetime_format=True for consistent parsing.\n",
      "  df4['date']=pd.to_datetime(df4['date'])\n",
      "<ipython-input-15-b1497db94521>:1: UserWarning: Parsing '14/10/2019' in DD/MM/YYYY format. Provide format or specify infer_datetime_format=True for consistent parsing.\n",
      "  df4['date']=pd.to_datetime(df4['date'])\n",
      "<ipython-input-15-b1497db94521>:1: UserWarning: Parsing '15/10/2019' in DD/MM/YYYY format. Provide format or specify infer_datetime_format=True for consistent parsing.\n",
      "  df4['date']=pd.to_datetime(df4['date'])\n",
      "<ipython-input-15-b1497db94521>:1: UserWarning: Parsing '16/10/2019' in DD/MM/YYYY format. Provide format or specify infer_datetime_format=True for consistent parsing.\n",
      "  df4['date']=pd.to_datetime(df4['date'])\n",
      "<ipython-input-15-b1497db94521>:1: UserWarning: Parsing '17/10/2019' in DD/MM/YYYY format. Provide format or specify infer_datetime_format=True for consistent parsing.\n",
      "  df4['date']=pd.to_datetime(df4['date'])\n",
      "<ipython-input-15-b1497db94521>:1: UserWarning: Parsing '18/10/2019' in DD/MM/YYYY format. Provide format or specify infer_datetime_format=True for consistent parsing.\n",
      "  df4['date']=pd.to_datetime(df4['date'])\n",
      "<ipython-input-15-b1497db94521>:1: UserWarning: Parsing '21/10/2019' in DD/MM/YYYY format. Provide format or specify infer_datetime_format=True for consistent parsing.\n",
      "  df4['date']=pd.to_datetime(df4['date'])\n",
      "<ipython-input-15-b1497db94521>:1: UserWarning: Parsing '22/10/2019' in DD/MM/YYYY format. Provide format or specify infer_datetime_format=True for consistent parsing.\n",
      "  df4['date']=pd.to_datetime(df4['date'])\n",
      "<ipython-input-15-b1497db94521>:1: UserWarning: Parsing '23/10/2019' in DD/MM/YYYY format. Provide format or specify infer_datetime_format=True for consistent parsing.\n",
      "  df4['date']=pd.to_datetime(df4['date'])\n",
      "<ipython-input-15-b1497db94521>:1: UserWarning: Parsing '24/10/2019' in DD/MM/YYYY format. Provide format or specify infer_datetime_format=True for consistent parsing.\n",
      "  df4['date']=pd.to_datetime(df4['date'])\n",
      "<ipython-input-15-b1497db94521>:1: UserWarning: Parsing '25/10/2019' in DD/MM/YYYY format. Provide format or specify infer_datetime_format=True for consistent parsing.\n",
      "  df4['date']=pd.to_datetime(df4['date'])\n",
      "<ipython-input-15-b1497db94521>:1: UserWarning: Parsing '28/10/2019' in DD/MM/YYYY format. Provide format or specify infer_datetime_format=True for consistent parsing.\n",
      "  df4['date']=pd.to_datetime(df4['date'])\n",
      "<ipython-input-15-b1497db94521>:1: UserWarning: Parsing '29/10/2019' in DD/MM/YYYY format. Provide format or specify infer_datetime_format=True for consistent parsing.\n",
      "  df4['date']=pd.to_datetime(df4['date'])\n",
      "<ipython-input-15-b1497db94521>:1: UserWarning: Parsing '30/10/2019' in DD/MM/YYYY format. Provide format or specify infer_datetime_format=True for consistent parsing.\n",
      "  df4['date']=pd.to_datetime(df4['date'])\n",
      "<ipython-input-15-b1497db94521>:1: UserWarning: Parsing '31/10/2019' in DD/MM/YYYY format. Provide format or specify infer_datetime_format=True for consistent parsing.\n",
      "  df4['date']=pd.to_datetime(df4['date'])\n",
      "<ipython-input-15-b1497db94521>:1: UserWarning: Parsing '13/11/2019' in DD/MM/YYYY format. Provide format or specify infer_datetime_format=True for consistent parsing.\n",
      "  df4['date']=pd.to_datetime(df4['date'])\n",
      "<ipython-input-15-b1497db94521>:1: UserWarning: Parsing '14/11/2019' in DD/MM/YYYY format. Provide format or specify infer_datetime_format=True for consistent parsing.\n",
      "  df4['date']=pd.to_datetime(df4['date'])\n",
      "<ipython-input-15-b1497db94521>:1: UserWarning: Parsing '15/11/2019' in DD/MM/YYYY format. Provide format or specify infer_datetime_format=True for consistent parsing.\n",
      "  df4['date']=pd.to_datetime(df4['date'])\n",
      "<ipython-input-15-b1497db94521>:1: UserWarning: Parsing '18/11/2019' in DD/MM/YYYY format. Provide format or specify infer_datetime_format=True for consistent parsing.\n",
      "  df4['date']=pd.to_datetime(df4['date'])\n",
      "<ipython-input-15-b1497db94521>:1: UserWarning: Parsing '19/11/2019' in DD/MM/YYYY format. Provide format or specify infer_datetime_format=True for consistent parsing.\n",
      "  df4['date']=pd.to_datetime(df4['date'])\n",
      "<ipython-input-15-b1497db94521>:1: UserWarning: Parsing '20/11/2019' in DD/MM/YYYY format. Provide format or specify infer_datetime_format=True for consistent parsing.\n",
      "  df4['date']=pd.to_datetime(df4['date'])\n",
      "<ipython-input-15-b1497db94521>:1: UserWarning: Parsing '21/11/2019' in DD/MM/YYYY format. Provide format or specify infer_datetime_format=True for consistent parsing.\n",
      "  df4['date']=pd.to_datetime(df4['date'])\n",
      "<ipython-input-15-b1497db94521>:1: UserWarning: Parsing '22/11/2019' in DD/MM/YYYY format. Provide format or specify infer_datetime_format=True for consistent parsing.\n",
      "  df4['date']=pd.to_datetime(df4['date'])\n",
      "<ipython-input-15-b1497db94521>:1: UserWarning: Parsing '25/11/2019' in DD/MM/YYYY format. Provide format or specify infer_datetime_format=True for consistent parsing.\n",
      "  df4['date']=pd.to_datetime(df4['date'])\n",
      "<ipython-input-15-b1497db94521>:1: UserWarning: Parsing '26/11/2019' in DD/MM/YYYY format. Provide format or specify infer_datetime_format=True for consistent parsing.\n",
      "  df4['date']=pd.to_datetime(df4['date'])\n",
      "<ipython-input-15-b1497db94521>:1: UserWarning: Parsing '27/11/2019' in DD/MM/YYYY format. Provide format or specify infer_datetime_format=True for consistent parsing.\n",
      "  df4['date']=pd.to_datetime(df4['date'])\n",
      "<ipython-input-15-b1497db94521>:1: UserWarning: Parsing '29/11/2019' in DD/MM/YYYY format. Provide format or specify infer_datetime_format=True for consistent parsing.\n",
      "  df4['date']=pd.to_datetime(df4['date'])\n",
      "<ipython-input-15-b1497db94521>:1: UserWarning: Parsing '13/12/2019' in DD/MM/YYYY format. Provide format or specify infer_datetime_format=True for consistent parsing.\n",
      "  df4['date']=pd.to_datetime(df4['date'])\n",
      "<ipython-input-15-b1497db94521>:1: UserWarning: Parsing '16/12/2019' in DD/MM/YYYY format. Provide format or specify infer_datetime_format=True for consistent parsing.\n",
      "  df4['date']=pd.to_datetime(df4['date'])\n",
      "<ipython-input-15-b1497db94521>:1: UserWarning: Parsing '17/12/2019' in DD/MM/YYYY format. Provide format or specify infer_datetime_format=True for consistent parsing.\n",
      "  df4['date']=pd.to_datetime(df4['date'])\n",
      "<ipython-input-15-b1497db94521>:1: UserWarning: Parsing '18/12/2019' in DD/MM/YYYY format. Provide format or specify infer_datetime_format=True for consistent parsing.\n",
      "  df4['date']=pd.to_datetime(df4['date'])\n",
      "<ipython-input-15-b1497db94521>:1: UserWarning: Parsing '19/12/2019' in DD/MM/YYYY format. Provide format or specify infer_datetime_format=True for consistent parsing.\n",
      "  df4['date']=pd.to_datetime(df4['date'])\n",
      "<ipython-input-15-b1497db94521>:1: UserWarning: Parsing '20/12/2019' in DD/MM/YYYY format. Provide format or specify infer_datetime_format=True for consistent parsing.\n",
      "  df4['date']=pd.to_datetime(df4['date'])\n",
      "<ipython-input-15-b1497db94521>:1: UserWarning: Parsing '23/12/2019' in DD/MM/YYYY format. Provide format or specify infer_datetime_format=True for consistent parsing.\n",
      "  df4['date']=pd.to_datetime(df4['date'])\n",
      "<ipython-input-15-b1497db94521>:1: UserWarning: Parsing '24/12/2019' in DD/MM/YYYY format. Provide format or specify infer_datetime_format=True for consistent parsing.\n",
      "  df4['date']=pd.to_datetime(df4['date'])\n",
      "<ipython-input-15-b1497db94521>:1: UserWarning: Parsing '26/12/2019' in DD/MM/YYYY format. Provide format or specify infer_datetime_format=True for consistent parsing.\n",
      "  df4['date']=pd.to_datetime(df4['date'])\n",
      "<ipython-input-15-b1497db94521>:1: UserWarning: Parsing '27/12/2019' in DD/MM/YYYY format. Provide format or specify infer_datetime_format=True for consistent parsing.\n",
      "  df4['date']=pd.to_datetime(df4['date'])\n",
      "<ipython-input-15-b1497db94521>:1: UserWarning: Parsing '30/12/2019' in DD/MM/YYYY format. Provide format or specify infer_datetime_format=True for consistent parsing.\n",
      "  df4['date']=pd.to_datetime(df4['date'])\n",
      "<ipython-input-15-b1497db94521>:1: UserWarning: Parsing '31/12/2019' in DD/MM/YYYY format. Provide format or specify infer_datetime_format=True for consistent parsing.\n",
      "  df4['date']=pd.to_datetime(df4['date'])\n",
      "<ipython-input-15-b1497db94521>:1: UserWarning: Parsing '13/10/2020' in DD/MM/YYYY format. Provide format or specify infer_datetime_format=True for consistent parsing.\n",
      "  df4['date']=pd.to_datetime(df4['date'])\n",
      "<ipython-input-15-b1497db94521>:1: UserWarning: Parsing '14/10/2020' in DD/MM/YYYY format. Provide format or specify infer_datetime_format=True for consistent parsing.\n",
      "  df4['date']=pd.to_datetime(df4['date'])\n",
      "<ipython-input-15-b1497db94521>:1: UserWarning: Parsing '15/10/2020' in DD/MM/YYYY format. Provide format or specify infer_datetime_format=True for consistent parsing.\n",
      "  df4['date']=pd.to_datetime(df4['date'])\n",
      "<ipython-input-15-b1497db94521>:1: UserWarning: Parsing '16/10/2020' in DD/MM/YYYY format. Provide format or specify infer_datetime_format=True for consistent parsing.\n",
      "  df4['date']=pd.to_datetime(df4['date'])\n",
      "<ipython-input-15-b1497db94521>:1: UserWarning: Parsing '19/10/2020' in DD/MM/YYYY format. Provide format or specify infer_datetime_format=True for consistent parsing.\n",
      "  df4['date']=pd.to_datetime(df4['date'])\n",
      "<ipython-input-15-b1497db94521>:1: UserWarning: Parsing '20/10/2020' in DD/MM/YYYY format. Provide format or specify infer_datetime_format=True for consistent parsing.\n",
      "  df4['date']=pd.to_datetime(df4['date'])\n",
      "<ipython-input-15-b1497db94521>:1: UserWarning: Parsing '21/10/2020' in DD/MM/YYYY format. Provide format or specify infer_datetime_format=True for consistent parsing.\n",
      "  df4['date']=pd.to_datetime(df4['date'])\n",
      "<ipython-input-15-b1497db94521>:1: UserWarning: Parsing '22/10/2020' in DD/MM/YYYY format. Provide format or specify infer_datetime_format=True for consistent parsing.\n",
      "  df4['date']=pd.to_datetime(df4['date'])\n",
      "<ipython-input-15-b1497db94521>:1: UserWarning: Parsing '23/10/2020' in DD/MM/YYYY format. Provide format or specify infer_datetime_format=True for consistent parsing.\n",
      "  df4['date']=pd.to_datetime(df4['date'])\n",
      "<ipython-input-15-b1497db94521>:1: UserWarning: Parsing '26/10/2020' in DD/MM/YYYY format. Provide format or specify infer_datetime_format=True for consistent parsing.\n",
      "  df4['date']=pd.to_datetime(df4['date'])\n",
      "<ipython-input-15-b1497db94521>:1: UserWarning: Parsing '27/10/2020' in DD/MM/YYYY format. Provide format or specify infer_datetime_format=True for consistent parsing.\n",
      "  df4['date']=pd.to_datetime(df4['date'])\n",
      "<ipython-input-15-b1497db94521>:1: UserWarning: Parsing '28/10/2020' in DD/MM/YYYY format. Provide format or specify infer_datetime_format=True for consistent parsing.\n",
      "  df4['date']=pd.to_datetime(df4['date'])\n",
      "<ipython-input-15-b1497db94521>:1: UserWarning: Parsing '29/10/2020' in DD/MM/YYYY format. Provide format or specify infer_datetime_format=True for consistent parsing.\n",
      "  df4['date']=pd.to_datetime(df4['date'])\n",
      "<ipython-input-15-b1497db94521>:1: UserWarning: Parsing '30/10/2020' in DD/MM/YYYY format. Provide format or specify infer_datetime_format=True for consistent parsing.\n",
      "  df4['date']=pd.to_datetime(df4['date'])\n",
      "<ipython-input-15-b1497db94521>:1: UserWarning: Parsing '13/11/2020' in DD/MM/YYYY format. Provide format or specify infer_datetime_format=True for consistent parsing.\n",
      "  df4['date']=pd.to_datetime(df4['date'])\n",
      "<ipython-input-15-b1497db94521>:1: UserWarning: Parsing '16/11/2020' in DD/MM/YYYY format. Provide format or specify infer_datetime_format=True for consistent parsing.\n",
      "  df4['date']=pd.to_datetime(df4['date'])\n",
      "<ipython-input-15-b1497db94521>:1: UserWarning: Parsing '17/11/2020' in DD/MM/YYYY format. Provide format or specify infer_datetime_format=True for consistent parsing.\n",
      "  df4['date']=pd.to_datetime(df4['date'])\n",
      "<ipython-input-15-b1497db94521>:1: UserWarning: Parsing '18/11/2020' in DD/MM/YYYY format. Provide format or specify infer_datetime_format=True for consistent parsing.\n",
      "  df4['date']=pd.to_datetime(df4['date'])\n",
      "<ipython-input-15-b1497db94521>:1: UserWarning: Parsing '19/11/2020' in DD/MM/YYYY format. Provide format or specify infer_datetime_format=True for consistent parsing.\n",
      "  df4['date']=pd.to_datetime(df4['date'])\n",
      "<ipython-input-15-b1497db94521>:1: UserWarning: Parsing '20/11/2020' in DD/MM/YYYY format. Provide format or specify infer_datetime_format=True for consistent parsing.\n",
      "  df4['date']=pd.to_datetime(df4['date'])\n",
      "<ipython-input-15-b1497db94521>:1: UserWarning: Parsing '23/11/2020' in DD/MM/YYYY format. Provide format or specify infer_datetime_format=True for consistent parsing.\n",
      "  df4['date']=pd.to_datetime(df4['date'])\n",
      "<ipython-input-15-b1497db94521>:1: UserWarning: Parsing '24/11/2020' in DD/MM/YYYY format. Provide format or specify infer_datetime_format=True for consistent parsing.\n",
      "  df4['date']=pd.to_datetime(df4['date'])\n",
      "<ipython-input-15-b1497db94521>:1: UserWarning: Parsing '25/11/2020' in DD/MM/YYYY format. Provide format or specify infer_datetime_format=True for consistent parsing.\n",
      "  df4['date']=pd.to_datetime(df4['date'])\n",
      "<ipython-input-15-b1497db94521>:1: UserWarning: Parsing '27/11/2020' in DD/MM/YYYY format. Provide format or specify infer_datetime_format=True for consistent parsing.\n",
      "  df4['date']=pd.to_datetime(df4['date'])\n",
      "<ipython-input-15-b1497db94521>:1: UserWarning: Parsing '30/11/2020' in DD/MM/YYYY format. Provide format or specify infer_datetime_format=True for consistent parsing.\n",
      "  df4['date']=pd.to_datetime(df4['date'])\n",
      "<ipython-input-15-b1497db94521>:1: UserWarning: Parsing '14/12/2020' in DD/MM/YYYY format. Provide format or specify infer_datetime_format=True for consistent parsing.\n",
      "  df4['date']=pd.to_datetime(df4['date'])\n",
      "<ipython-input-15-b1497db94521>:1: UserWarning: Parsing '15/12/2020' in DD/MM/YYYY format. Provide format or specify infer_datetime_format=True for consistent parsing.\n",
      "  df4['date']=pd.to_datetime(df4['date'])\n",
      "<ipython-input-15-b1497db94521>:1: UserWarning: Parsing '16/12/2020' in DD/MM/YYYY format. Provide format or specify infer_datetime_format=True for consistent parsing.\n",
      "  df4['date']=pd.to_datetime(df4['date'])\n",
      "<ipython-input-15-b1497db94521>:1: UserWarning: Parsing '17/12/2020' in DD/MM/YYYY format. Provide format or specify infer_datetime_format=True for consistent parsing.\n",
      "  df4['date']=pd.to_datetime(df4['date'])\n",
      "<ipython-input-15-b1497db94521>:1: UserWarning: Parsing '18/12/2020' in DD/MM/YYYY format. Provide format or specify infer_datetime_format=True for consistent parsing.\n",
      "  df4['date']=pd.to_datetime(df4['date'])\n",
      "<ipython-input-15-b1497db94521>:1: UserWarning: Parsing '21/12/2020' in DD/MM/YYYY format. Provide format or specify infer_datetime_format=True for consistent parsing.\n",
      "  df4['date']=pd.to_datetime(df4['date'])\n",
      "<ipython-input-15-b1497db94521>:1: UserWarning: Parsing '22/12/2020' in DD/MM/YYYY format. Provide format or specify infer_datetime_format=True for consistent parsing.\n",
      "  df4['date']=pd.to_datetime(df4['date'])\n",
      "<ipython-input-15-b1497db94521>:1: UserWarning: Parsing '23/12/2020' in DD/MM/YYYY format. Provide format or specify infer_datetime_format=True for consistent parsing.\n",
      "  df4['date']=pd.to_datetime(df4['date'])\n",
      "<ipython-input-15-b1497db94521>:1: UserWarning: Parsing '24/12/2020' in DD/MM/YYYY format. Provide format or specify infer_datetime_format=True for consistent parsing.\n",
      "  df4['date']=pd.to_datetime(df4['date'])\n",
      "<ipython-input-15-b1497db94521>:1: UserWarning: Parsing '28/12/2020' in DD/MM/YYYY format. Provide format or specify infer_datetime_format=True for consistent parsing.\n",
      "  df4['date']=pd.to_datetime(df4['date'])\n",
      "<ipython-input-15-b1497db94521>:1: UserWarning: Parsing '29/12/2020' in DD/MM/YYYY format. Provide format or specify infer_datetime_format=True for consistent parsing.\n",
      "  df4['date']=pd.to_datetime(df4['date'])\n",
      "<ipython-input-15-b1497db94521>:1: UserWarning: Parsing '30/12/2020' in DD/MM/YYYY format. Provide format or specify infer_datetime_format=True for consistent parsing.\n",
      "  df4['date']=pd.to_datetime(df4['date'])\n",
      "<ipython-input-15-b1497db94521>:1: UserWarning: Parsing '31/12/2020' in DD/MM/YYYY format. Provide format or specify infer_datetime_format=True for consistent parsing.\n",
      "  df4['date']=pd.to_datetime(df4['date'])\n",
      "<ipython-input-15-b1497db94521>:1: UserWarning: Parsing '13/10/2021' in DD/MM/YYYY format. Provide format or specify infer_datetime_format=True for consistent parsing.\n",
      "  df4['date']=pd.to_datetime(df4['date'])\n",
      "<ipython-input-15-b1497db94521>:1: UserWarning: Parsing '14/10/2021' in DD/MM/YYYY format. Provide format or specify infer_datetime_format=True for consistent parsing.\n",
      "  df4['date']=pd.to_datetime(df4['date'])\n",
      "<ipython-input-15-b1497db94521>:1: UserWarning: Parsing '15/10/2021' in DD/MM/YYYY format. Provide format or specify infer_datetime_format=True for consistent parsing.\n",
      "  df4['date']=pd.to_datetime(df4['date'])\n",
      "<ipython-input-15-b1497db94521>:1: UserWarning: Parsing '18/10/2021' in DD/MM/YYYY format. Provide format or specify infer_datetime_format=True for consistent parsing.\n",
      "  df4['date']=pd.to_datetime(df4['date'])\n",
      "<ipython-input-15-b1497db94521>:1: UserWarning: Parsing '19/10/2021' in DD/MM/YYYY format. Provide format or specify infer_datetime_format=True for consistent parsing.\n",
      "  df4['date']=pd.to_datetime(df4['date'])\n",
      "<ipython-input-15-b1497db94521>:1: UserWarning: Parsing '20/10/2021' in DD/MM/YYYY format. Provide format or specify infer_datetime_format=True for consistent parsing.\n",
      "  df4['date']=pd.to_datetime(df4['date'])\n",
      "<ipython-input-15-b1497db94521>:1: UserWarning: Parsing '21/10/2021' in DD/MM/YYYY format. Provide format or specify infer_datetime_format=True for consistent parsing.\n",
      "  df4['date']=pd.to_datetime(df4['date'])\n",
      "<ipython-input-15-b1497db94521>:1: UserWarning: Parsing '22/10/2021' in DD/MM/YYYY format. Provide format or specify infer_datetime_format=True for consistent parsing.\n",
      "  df4['date']=pd.to_datetime(df4['date'])\n",
      "<ipython-input-15-b1497db94521>:1: UserWarning: Parsing '25/10/2021' in DD/MM/YYYY format. Provide format or specify infer_datetime_format=True for consistent parsing.\n",
      "  df4['date']=pd.to_datetime(df4['date'])\n",
      "<ipython-input-15-b1497db94521>:1: UserWarning: Parsing '26/10/2021' in DD/MM/YYYY format. Provide format or specify infer_datetime_format=True for consistent parsing.\n",
      "  df4['date']=pd.to_datetime(df4['date'])\n",
      "<ipython-input-15-b1497db94521>:1: UserWarning: Parsing '27/10/2021' in DD/MM/YYYY format. Provide format or specify infer_datetime_format=True for consistent parsing.\n",
      "  df4['date']=pd.to_datetime(df4['date'])\n",
      "<ipython-input-15-b1497db94521>:1: UserWarning: Parsing '28/10/2021' in DD/MM/YYYY format. Provide format or specify infer_datetime_format=True for consistent parsing.\n",
      "  df4['date']=pd.to_datetime(df4['date'])\n",
      "<ipython-input-15-b1497db94521>:1: UserWarning: Parsing '29/10/2021' in DD/MM/YYYY format. Provide format or specify infer_datetime_format=True for consistent parsing.\n",
      "  df4['date']=pd.to_datetime(df4['date'])\n",
      "<ipython-input-15-b1497db94521>:1: UserWarning: Parsing '15/11/2021' in DD/MM/YYYY format. Provide format or specify infer_datetime_format=True for consistent parsing.\n",
      "  df4['date']=pd.to_datetime(df4['date'])\n",
      "<ipython-input-15-b1497db94521>:1: UserWarning: Parsing '16/11/2021' in DD/MM/YYYY format. Provide format or specify infer_datetime_format=True for consistent parsing.\n",
      "  df4['date']=pd.to_datetime(df4['date'])\n",
      "<ipython-input-15-b1497db94521>:1: UserWarning: Parsing '17/11/2021' in DD/MM/YYYY format. Provide format or specify infer_datetime_format=True for consistent parsing.\n",
      "  df4['date']=pd.to_datetime(df4['date'])\n",
      "<ipython-input-15-b1497db94521>:1: UserWarning: Parsing '18/11/2021' in DD/MM/YYYY format. Provide format or specify infer_datetime_format=True for consistent parsing.\n",
      "  df4['date']=pd.to_datetime(df4['date'])\n",
      "<ipython-input-15-b1497db94521>:1: UserWarning: Parsing '19/11/2021' in DD/MM/YYYY format. Provide format or specify infer_datetime_format=True for consistent parsing.\n",
      "  df4['date']=pd.to_datetime(df4['date'])\n",
      "<ipython-input-15-b1497db94521>:1: UserWarning: Parsing '22/11/2021' in DD/MM/YYYY format. Provide format or specify infer_datetime_format=True for consistent parsing.\n",
      "  df4['date']=pd.to_datetime(df4['date'])\n",
      "<ipython-input-15-b1497db94521>:1: UserWarning: Parsing '23/11/2021' in DD/MM/YYYY format. Provide format or specify infer_datetime_format=True for consistent parsing.\n",
      "  df4['date']=pd.to_datetime(df4['date'])\n",
      "<ipython-input-15-b1497db94521>:1: UserWarning: Parsing '24/11/2021' in DD/MM/YYYY format. Provide format or specify infer_datetime_format=True for consistent parsing.\n",
      "  df4['date']=pd.to_datetime(df4['date'])\n",
      "<ipython-input-15-b1497db94521>:1: UserWarning: Parsing '26/11/2021' in DD/MM/YYYY format. Provide format or specify infer_datetime_format=True for consistent parsing.\n",
      "  df4['date']=pd.to_datetime(df4['date'])\n",
      "<ipython-input-15-b1497db94521>:1: UserWarning: Parsing '29/11/2021' in DD/MM/YYYY format. Provide format or specify infer_datetime_format=True for consistent parsing.\n",
      "  df4['date']=pd.to_datetime(df4['date'])\n",
      "<ipython-input-15-b1497db94521>:1: UserWarning: Parsing '30/11/2021' in DD/MM/YYYY format. Provide format or specify infer_datetime_format=True for consistent parsing.\n",
      "  df4['date']=pd.to_datetime(df4['date'])\n",
      "<ipython-input-15-b1497db94521>:1: UserWarning: Parsing '13/12/2021' in DD/MM/YYYY format. Provide format or specify infer_datetime_format=True for consistent parsing.\n",
      "  df4['date']=pd.to_datetime(df4['date'])\n",
      "<ipython-input-15-b1497db94521>:1: UserWarning: Parsing '14/12/2021' in DD/MM/YYYY format. Provide format or specify infer_datetime_format=True for consistent parsing.\n",
      "  df4['date']=pd.to_datetime(df4['date'])\n",
      "<ipython-input-15-b1497db94521>:1: UserWarning: Parsing '15/12/2021' in DD/MM/YYYY format. Provide format or specify infer_datetime_format=True for consistent parsing.\n",
      "  df4['date']=pd.to_datetime(df4['date'])\n",
      "<ipython-input-15-b1497db94521>:1: UserWarning: Parsing '16/12/2021' in DD/MM/YYYY format. Provide format or specify infer_datetime_format=True for consistent parsing.\n",
      "  df4['date']=pd.to_datetime(df4['date'])\n",
      "<ipython-input-15-b1497db94521>:1: UserWarning: Parsing '17/12/2021' in DD/MM/YYYY format. Provide format or specify infer_datetime_format=True for consistent parsing.\n",
      "  df4['date']=pd.to_datetime(df4['date'])\n",
      "<ipython-input-15-b1497db94521>:1: UserWarning: Parsing '20/12/2021' in DD/MM/YYYY format. Provide format or specify infer_datetime_format=True for consistent parsing.\n",
      "  df4['date']=pd.to_datetime(df4['date'])\n",
      "<ipython-input-15-b1497db94521>:1: UserWarning: Parsing '21/12/2021' in DD/MM/YYYY format. Provide format or specify infer_datetime_format=True for consistent parsing.\n",
      "  df4['date']=pd.to_datetime(df4['date'])\n",
      "<ipython-input-15-b1497db94521>:1: UserWarning: Parsing '22/12/2021' in DD/MM/YYYY format. Provide format or specify infer_datetime_format=True for consistent parsing.\n",
      "  df4['date']=pd.to_datetime(df4['date'])\n",
      "<ipython-input-15-b1497db94521>:1: UserWarning: Parsing '23/12/2021' in DD/MM/YYYY format. Provide format or specify infer_datetime_format=True for consistent parsing.\n",
      "  df4['date']=pd.to_datetime(df4['date'])\n",
      "<ipython-input-15-b1497db94521>:1: UserWarning: Parsing '27/12/2021' in DD/MM/YYYY format. Provide format or specify infer_datetime_format=True for consistent parsing.\n",
      "  df4['date']=pd.to_datetime(df4['date'])\n",
      "<ipython-input-15-b1497db94521>:1: UserWarning: Parsing '28/12/2021' in DD/MM/YYYY format. Provide format or specify infer_datetime_format=True for consistent parsing.\n",
      "  df4['date']=pd.to_datetime(df4['date'])\n",
      "<ipython-input-15-b1497db94521>:1: UserWarning: Parsing '29/12/2021' in DD/MM/YYYY format. Provide format or specify infer_datetime_format=True for consistent parsing.\n",
      "  df4['date']=pd.to_datetime(df4['date'])\n",
      "<ipython-input-15-b1497db94521>:1: UserWarning: Parsing '30/12/2021' in DD/MM/YYYY format. Provide format or specify infer_datetime_format=True for consistent parsing.\n",
      "  df4['date']=pd.to_datetime(df4['date'])\n",
      "<ipython-input-15-b1497db94521>:1: UserWarning: Parsing '31/12/2021' in DD/MM/YYYY format. Provide format or specify infer_datetime_format=True for consistent parsing.\n",
      "  df4['date']=pd.to_datetime(df4['date'])\n"
     ]
    }
   ],
   "source": [
    "df4['date']=pd.to_datetime(df4['date'])"
   ]
  },
  {
   "cell_type": "code",
   "execution_count": 16,
   "metadata": {},
   "outputs": [],
   "source": [
    "df4.set_index('date', inplace=True)"
   ]
  },
  {
   "cell_type": "code",
   "execution_count": 17,
   "metadata": {},
   "outputs": [
    {
     "data": {
      "text/html": [
       "<div>\n",
       "<style scoped>\n",
       "    .dataframe tbody tr th:only-of-type {\n",
       "        vertical-align: middle;\n",
       "    }\n",
       "\n",
       "    .dataframe tbody tr th {\n",
       "        vertical-align: top;\n",
       "    }\n",
       "\n",
       "    .dataframe thead th {\n",
       "        text-align: right;\n",
       "    }\n",
       "</style>\n",
       "<table border=\"1\" class=\"dataframe\">\n",
       "  <thead>\n",
       "    <tr style=\"text-align: right;\">\n",
       "      <th></th>\n",
       "      <th>S&amp;P 500 Buyback Index</th>\n",
       "    </tr>\n",
       "    <tr>\n",
       "      <th>date</th>\n",
       "      <th></th>\n",
       "    </tr>\n",
       "  </thead>\n",
       "  <tbody>\n",
       "    <tr>\n",
       "      <th>2012-03-30</th>\n",
       "      <td>68.0</td>\n",
       "    </tr>\n",
       "    <tr>\n",
       "      <th>2012-02-04</th>\n",
       "      <td>23.0</td>\n",
       "    </tr>\n",
       "    <tr>\n",
       "      <th>2012-03-04</th>\n",
       "      <td>79.0</td>\n",
       "    </tr>\n",
       "    <tr>\n",
       "      <th>2012-04-04</th>\n",
       "      <td>84.0</td>\n",
       "    </tr>\n",
       "    <tr>\n",
       "      <th>2012-05-04</th>\n",
       "      <td>89.0</td>\n",
       "    </tr>\n",
       "  </tbody>\n",
       "</table>\n",
       "</div>"
      ],
      "text/plain": [
       "           S&P 500 Buyback Index\n",
       "date                            \n",
       "2012-03-30                  68.0\n",
       "2012-02-04                  23.0\n",
       "2012-03-04                  79.0\n",
       "2012-04-04                  84.0\n",
       "2012-05-04                  89.0"
      ]
     },
     "execution_count": 17,
     "metadata": {},
     "output_type": "execute_result"
    }
   ],
   "source": [
    "df4.head()"
   ]
  },
  {
   "cell_type": "code",
   "execution_count": 18,
   "metadata": {},
   "outputs": [
    {
     "name": "stdout",
     "output_type": "stream",
     "text": [
      "<class 'pandas.core.frame.DataFrame'>\n",
      "DatetimeIndex: 2535 entries, 2012-03-30 to 2022-04-26\n",
      "Data columns (total 1 columns):\n",
      " #   Column                 Non-Null Count  Dtype \n",
      "---  ------                 --------------  ----- \n",
      " 0   S&P 500 Buyback Index  2535 non-null   object\n",
      "dtypes: object(1)\n",
      "memory usage: 39.6+ KB\n"
     ]
    }
   ],
   "source": [
    "df4.info()"
   ]
  },
  {
   "cell_type": "code",
   "execution_count": 27,
   "metadata": {},
   "outputs": [
    {
     "data": {
      "text/plain": [
       "0"
      ]
     },
     "execution_count": 27,
     "metadata": {},
     "output_type": "execute_result"
    }
   ],
   "source": [
    "df4['S&P 500 Buyback Index'].isnull().sum()"
   ]
  },
  {
   "cell_type": "code",
   "execution_count": 28,
   "metadata": {},
   "outputs": [
    {
     "data": {
      "text/plain": [
       "'nan'"
      ]
     },
     "execution_count": 28,
     "metadata": {},
     "output_type": "execute_result"
    }
   ],
   "source": [
    "df4['S&P 500 Buyback Index'][76]"
   ]
  },
  {
   "cell_type": "code",
   "execution_count": 31,
   "metadata": {},
   "outputs": [],
   "source": [
    "df4= df4.drop(df4.index[76])"
   ]
  },
  {
   "cell_type": "code",
   "execution_count": 33,
   "metadata": {},
   "outputs": [],
   "source": [
    "df4= df4.drop(df4.index[289])"
   ]
  },
  {
   "cell_type": "code",
   "execution_count": 35,
   "metadata": {},
   "outputs": [],
   "source": [
    "df4= df4.drop(df4.index[326])"
   ]
  },
  {
   "cell_type": "code",
   "execution_count": 37,
   "metadata": {},
   "outputs": [],
   "source": [
    "df4= df4.drop(df4.index[337])"
   ]
  },
  {
   "cell_type": "code",
   "execution_count": 39,
   "metadata": {},
   "outputs": [],
   "source": [
    "df4= df4.drop(df4.index[395])"
   ]
  },
  {
   "cell_type": "code",
   "execution_count": 41,
   "metadata": {},
   "outputs": [],
   "source": [
    "df4= df4.drop(df4.index[475])"
   ]
  },
  {
   "cell_type": "code",
   "execution_count": 43,
   "metadata": {},
   "outputs": [],
   "source": [
    "df4= df4.drop(df4.index[476])"
   ]
  },
  {
   "cell_type": "code",
   "execution_count": 45,
   "metadata": {},
   "outputs": [],
   "source": [
    "df4= df4.drop(df4.index[487])"
   ]
  },
  {
   "cell_type": "code",
   "execution_count": 47,
   "metadata": {},
   "outputs": [],
   "source": [
    "df4= df4.drop(df4.index[649])"
   ]
  },
  {
   "cell_type": "code",
   "execution_count": 77,
   "metadata": {},
   "outputs": [],
   "source": [
    "df4= df4.drop(df4.index[1988])"
   ]
  },
  {
   "cell_type": "code",
   "execution_count": 78,
   "metadata": {},
   "outputs": [],
   "source": [
    "df4['S&P 500 Buyback Index']=pd.to_numeric(df4['S&P 500 Buyback Index'])"
   ]
  },
  {
   "cell_type": "code",
   "execution_count": 79,
   "metadata": {},
   "outputs": [],
   "source": [
    "df4q=df4.resample('M').mean()"
   ]
  },
  {
   "cell_type": "code",
   "execution_count": 81,
   "metadata": {},
   "outputs": [
    {
     "data": {
      "text/html": [
       "<div>\n",
       "<style scoped>\n",
       "    .dataframe tbody tr th:only-of-type {\n",
       "        vertical-align: middle;\n",
       "    }\n",
       "\n",
       "    .dataframe tbody tr th {\n",
       "        vertical-align: top;\n",
       "    }\n",
       "\n",
       "    .dataframe thead th {\n",
       "        text-align: right;\n",
       "    }\n",
       "</style>\n",
       "<table border=\"1\" class=\"dataframe\">\n",
       "  <thead>\n",
       "    <tr style=\"text-align: right;\">\n",
       "      <th></th>\n",
       "      <th>S&amp;P 500 Buyback Index</th>\n",
       "    </tr>\n",
       "    <tr>\n",
       "      <th>date</th>\n",
       "      <th></th>\n",
       "    </tr>\n",
       "  </thead>\n",
       "  <tbody>\n",
       "    <tr>\n",
       "      <th>2012-01-31</th>\n",
       "      <td>30.600000</td>\n",
       "    </tr>\n",
       "    <tr>\n",
       "      <th>2012-02-29</th>\n",
       "      <td>46.666667</td>\n",
       "    </tr>\n",
       "    <tr>\n",
       "      <th>2012-03-31</th>\n",
       "      <td>65.000000</td>\n",
       "    </tr>\n",
       "    <tr>\n",
       "      <th>2012-04-30</th>\n",
       "      <td>55.444444</td>\n",
       "    </tr>\n",
       "    <tr>\n",
       "      <th>2012-05-31</th>\n",
       "      <td>48.700000</td>\n",
       "    </tr>\n",
       "  </tbody>\n",
       "</table>\n",
       "</div>"
      ],
      "text/plain": [
       "            S&P 500 Buyback Index\n",
       "date                             \n",
       "2012-01-31              30.600000\n",
       "2012-02-29              46.666667\n",
       "2012-03-31              65.000000\n",
       "2012-04-30              55.444444\n",
       "2012-05-31              48.700000"
      ]
     },
     "execution_count": 81,
     "metadata": {},
     "output_type": "execute_result"
    }
   ],
   "source": [
    "df4q.head()"
   ]
  },
  {
   "cell_type": "code",
   "execution_count": 80,
   "metadata": {},
   "outputs": [
    {
     "data": {
      "text/plain": [
       "array([68., 23., 79., 84., 89., 59., 97., 13., 64., 21., 99., 46., 31.,\n",
       "       33., 57., 65., 83.,  7., 41., 36., 74., 61., 95., 91., 42., 69.,\n",
       "       52., 93., 32.,  1., 27.,  5., 19., 75.,  9., 66.,  4., 71., 17.,\n",
       "       56.,  3., 49., 14., 44., 76., 48., 16., 45., 58., 86., 28., 43.,\n",
       "       37., 15., 38., 81., 11., 62., 72.,  8.,  6.,  2., 88., 34., 96.,\n",
       "       67., 54., 18., 22., 78., 82., 92., 63., 73., 53., 39., 98., 51.,\n",
       "       94., 85., 55., 26., 24., 47., 25., 29., 87., 35., 12., 77.])"
      ]
     },
     "execution_count": 80,
     "metadata": {},
     "output_type": "execute_result"
    }
   ],
   "source": [
    "df4['S&P 500 Buyback Index'].unique()"
   ]
  },
  {
   "cell_type": "code",
   "execution_count": 82,
   "metadata": {},
   "outputs": [],
   "source": [
    "df4q=df4q.round(0)"
   ]
  },
  {
   "cell_type": "code",
   "execution_count": 83,
   "metadata": {},
   "outputs": [],
   "source": [
    "df4q=df4q.reset_index()"
   ]
  },
  {
   "cell_type": "code",
   "execution_count": 84,
   "metadata": {},
   "outputs": [
    {
     "data": {
      "text/html": [
       "<div>\n",
       "<style scoped>\n",
       "    .dataframe tbody tr th:only-of-type {\n",
       "        vertical-align: middle;\n",
       "    }\n",
       "\n",
       "    .dataframe tbody tr th {\n",
       "        vertical-align: top;\n",
       "    }\n",
       "\n",
       "    .dataframe thead th {\n",
       "        text-align: right;\n",
       "    }\n",
       "</style>\n",
       "<table border=\"1\" class=\"dataframe\">\n",
       "  <thead>\n",
       "    <tr style=\"text-align: right;\">\n",
       "      <th></th>\n",
       "      <th>date</th>\n",
       "      <th>S&amp;P 500 Buyback Index</th>\n",
       "    </tr>\n",
       "  </thead>\n",
       "  <tbody>\n",
       "    <tr>\n",
       "      <th>0</th>\n",
       "      <td>2012-01-31</td>\n",
       "      <td>31.0</td>\n",
       "    </tr>\n",
       "    <tr>\n",
       "      <th>1</th>\n",
       "      <td>2012-02-29</td>\n",
       "      <td>47.0</td>\n",
       "    </tr>\n",
       "    <tr>\n",
       "      <th>2</th>\n",
       "      <td>2012-03-31</td>\n",
       "      <td>65.0</td>\n",
       "    </tr>\n",
       "    <tr>\n",
       "      <th>3</th>\n",
       "      <td>2012-04-30</td>\n",
       "      <td>55.0</td>\n",
       "    </tr>\n",
       "    <tr>\n",
       "      <th>4</th>\n",
       "      <td>2012-05-31</td>\n",
       "      <td>49.0</td>\n",
       "    </tr>\n",
       "  </tbody>\n",
       "</table>\n",
       "</div>"
      ],
      "text/plain": [
       "        date  S&P 500 Buyback Index\n",
       "0 2012-01-31                   31.0\n",
       "1 2012-02-29                   47.0\n",
       "2 2012-03-31                   65.0\n",
       "3 2012-04-30                   55.0\n",
       "4 2012-05-31                   49.0"
      ]
     },
     "execution_count": 84,
     "metadata": {},
     "output_type": "execute_result"
    }
   ],
   "source": [
    "df4q.head()"
   ]
  },
  {
   "cell_type": "code",
   "execution_count": 119,
   "metadata": {},
   "outputs": [],
   "source": [
    "df4q['DATE']=df4q['date']"
   ]
  },
  {
   "cell_type": "code",
   "execution_count": 121,
   "metadata": {},
   "outputs": [
    {
     "name": "stderr",
     "output_type": "stream",
     "text": [
      "<ipython-input-121-29ba4a3e66e5>:1: FutureWarning: In a future version of pandas all arguments of DataFrame.drop except for the argument 'labels' will be keyword-only.\n",
      "  df4q=df4q.drop(['date'],1)\n"
     ]
    }
   ],
   "source": [
    "df4q=df4q.drop(['date'],1)"
   ]
  },
  {
   "cell_type": "code",
   "execution_count": 85,
   "metadata": {},
   "outputs": [],
   "source": [
    "df=pd.read_csv('NASDAQCOM.csv')"
   ]
  },
  {
   "cell_type": "code",
   "execution_count": 86,
   "metadata": {},
   "outputs": [
    {
     "data": {
      "text/html": [
       "<div>\n",
       "<style scoped>\n",
       "    .dataframe tbody tr th:only-of-type {\n",
       "        vertical-align: middle;\n",
       "    }\n",
       "\n",
       "    .dataframe tbody tr th {\n",
       "        vertical-align: top;\n",
       "    }\n",
       "\n",
       "    .dataframe thead th {\n",
       "        text-align: right;\n",
       "    }\n",
       "</style>\n",
       "<table border=\"1\" class=\"dataframe\">\n",
       "  <thead>\n",
       "    <tr style=\"text-align: right;\">\n",
       "      <th></th>\n",
       "      <th>DATE</th>\n",
       "      <th>NASDAQCOM</th>\n",
       "    </tr>\n",
       "  </thead>\n",
       "  <tbody>\n",
       "    <tr>\n",
       "      <th>0</th>\n",
       "      <td>1971-02-05</td>\n",
       "      <td>100.00</td>\n",
       "    </tr>\n",
       "    <tr>\n",
       "      <th>1</th>\n",
       "      <td>1971-02-08</td>\n",
       "      <td>100.84</td>\n",
       "    </tr>\n",
       "    <tr>\n",
       "      <th>2</th>\n",
       "      <td>1971-02-09</td>\n",
       "      <td>100.76</td>\n",
       "    </tr>\n",
       "    <tr>\n",
       "      <th>3</th>\n",
       "      <td>1971-02-10</td>\n",
       "      <td>100.69</td>\n",
       "    </tr>\n",
       "    <tr>\n",
       "      <th>4</th>\n",
       "      <td>1971-02-11</td>\n",
       "      <td>101.45</td>\n",
       "    </tr>\n",
       "  </tbody>\n",
       "</table>\n",
       "</div>"
      ],
      "text/plain": [
       "         DATE NASDAQCOM\n",
       "0  1971-02-05    100.00\n",
       "1  1971-02-08    100.84\n",
       "2  1971-02-09    100.76\n",
       "3  1971-02-10    100.69\n",
       "4  1971-02-11    101.45"
      ]
     },
     "execution_count": 86,
     "metadata": {},
     "output_type": "execute_result"
    }
   ],
   "source": [
    "df.head()"
   ]
  },
  {
   "cell_type": "code",
   "execution_count": 87,
   "metadata": {},
   "outputs": [],
   "source": [
    "from datetime import datetime"
   ]
  },
  {
   "cell_type": "code",
   "execution_count": 88,
   "metadata": {},
   "outputs": [],
   "source": [
    "df['DATE']=pd.to_datetime(df['DATE'])"
   ]
  },
  {
   "cell_type": "code",
   "execution_count": 89,
   "metadata": {},
   "outputs": [],
   "source": [
    "df.set_index('DATE', inplace=True)"
   ]
  },
  {
   "cell_type": "code",
   "execution_count": 90,
   "metadata": {},
   "outputs": [],
   "source": [
    "df['NASDAQCOM']=df['NASDAQCOM'].str.split('.')"
   ]
  },
  {
   "cell_type": "code",
   "execution_count": 91,
   "metadata": {},
   "outputs": [
    {
     "data": {
      "text/plain": [
       "DATE\n",
       "1971-02-05    [100, 00]\n",
       "1971-02-08    [100, 84]\n",
       "1971-02-09    [100, 76]\n",
       "1971-02-10    [100, 69]\n",
       "1971-02-11    [101, 45]\n",
       "Name: NASDAQCOM, dtype: object"
      ]
     },
     "execution_count": 91,
     "metadata": {},
     "output_type": "execute_result"
    }
   ],
   "source": [
    "df['NASDAQCOM'].head()"
   ]
  },
  {
   "cell_type": "code",
   "execution_count": 92,
   "metadata": {},
   "outputs": [],
   "source": [
    "df['NASDAQCOM']=df['NASDAQCOM'].str[0]"
   ]
  },
  {
   "cell_type": "code",
   "execution_count": 93,
   "metadata": {},
   "outputs": [],
   "source": [
    "df['NASDAQCOM']=pd.to_numeric(df['NASDAQCOM'])"
   ]
  },
  {
   "cell_type": "code",
   "execution_count": 94,
   "metadata": {},
   "outputs": [],
   "source": [
    "df_q=df.resample('M').mean()"
   ]
  },
  {
   "cell_type": "code",
   "execution_count": 95,
   "metadata": {},
   "outputs": [
    {
     "data": {
      "text/plain": [
       "NASDAQCOM    443\n",
       "dtype: int64"
      ]
     },
     "execution_count": 95,
     "metadata": {},
     "output_type": "execute_result"
    }
   ],
   "source": [
    "df.isnull().sum()"
   ]
  },
  {
   "cell_type": "code",
   "execution_count": 96,
   "metadata": {},
   "outputs": [
    {
     "name": "stdout",
     "output_type": "stream",
     "text": [
      "<class 'pandas.core.frame.DataFrame'>\n",
      "DatetimeIndex: 615 entries, 1971-02-28 to 2022-04-30\n",
      "Freq: M\n",
      "Data columns (total 1 columns):\n",
      " #   Column     Non-Null Count  Dtype  \n",
      "---  ------     --------------  -----  \n",
      " 0   NASDAQCOM  615 non-null    float64\n",
      "dtypes: float64(1)\n",
      "memory usage: 9.6 KB\n"
     ]
    }
   ],
   "source": [
    "df_q.info()"
   ]
  },
  {
   "cell_type": "code",
   "execution_count": 97,
   "metadata": {},
   "outputs": [],
   "source": [
    "df_q=df_q.round(0)"
   ]
  },
  {
   "cell_type": "code",
   "execution_count": 98,
   "metadata": {},
   "outputs": [],
   "source": [
    "df_q=df_q.reset_index()"
   ]
  },
  {
   "cell_type": "code",
   "execution_count": 99,
   "metadata": {},
   "outputs": [],
   "source": [
    "df_q=df_q[df_q['DATE']>'2012-01-30']"
   ]
  },
  {
   "cell_type": "code",
   "execution_count": 100,
   "metadata": {},
   "outputs": [
    {
     "data": {
      "text/html": [
       "<div>\n",
       "<style scoped>\n",
       "    .dataframe tbody tr th:only-of-type {\n",
       "        vertical-align: middle;\n",
       "    }\n",
       "\n",
       "    .dataframe tbody tr th {\n",
       "        vertical-align: top;\n",
       "    }\n",
       "\n",
       "    .dataframe thead th {\n",
       "        text-align: right;\n",
       "    }\n",
       "</style>\n",
       "<table border=\"1\" class=\"dataframe\">\n",
       "  <thead>\n",
       "    <tr style=\"text-align: right;\">\n",
       "      <th></th>\n",
       "      <th>DATE</th>\n",
       "      <th>NASDAQCOM</th>\n",
       "    </tr>\n",
       "  </thead>\n",
       "  <tbody>\n",
       "    <tr>\n",
       "      <th>491</th>\n",
       "      <td>2012-01-31</td>\n",
       "      <td>2743.0</td>\n",
       "    </tr>\n",
       "    <tr>\n",
       "      <th>492</th>\n",
       "      <td>2012-02-29</td>\n",
       "      <td>2928.0</td>\n",
       "    </tr>\n",
       "    <tr>\n",
       "      <th>493</th>\n",
       "      <td>2012-03-31</td>\n",
       "      <td>3035.0</td>\n",
       "    </tr>\n",
       "    <tr>\n",
       "      <th>494</th>\n",
       "      <td>2012-04-30</td>\n",
       "      <td>3035.0</td>\n",
       "    </tr>\n",
       "    <tr>\n",
       "      <th>495</th>\n",
       "      <td>2012-05-31</td>\n",
       "      <td>2900.0</td>\n",
       "    </tr>\n",
       "  </tbody>\n",
       "</table>\n",
       "</div>"
      ],
      "text/plain": [
       "          DATE  NASDAQCOM\n",
       "491 2012-01-31     2743.0\n",
       "492 2012-02-29     2928.0\n",
       "493 2012-03-31     3035.0\n",
       "494 2012-04-30     3035.0\n",
       "495 2012-05-31     2900.0"
      ]
     },
     "execution_count": 100,
     "metadata": {},
     "output_type": "execute_result"
    }
   ],
   "source": [
    "df_q.head()"
   ]
  },
  {
   "cell_type": "code",
   "execution_count": 101,
   "metadata": {},
   "outputs": [
    {
     "data": {
      "text/plain": [
       "(124, 2)"
      ]
     },
     "execution_count": 101,
     "metadata": {},
     "output_type": "execute_result"
    }
   ],
   "source": [
    "df_q.shape"
   ]
  },
  {
   "cell_type": "code",
   "execution_count": 102,
   "metadata": {},
   "outputs": [],
   "source": [
    "df1=pd.read_csv('WALCL.csv')"
   ]
  },
  {
   "cell_type": "code",
   "execution_count": 103,
   "metadata": {},
   "outputs": [],
   "source": [
    "df1['DATE']=pd.to_datetime(df1['DATE'])"
   ]
  },
  {
   "cell_type": "code",
   "execution_count": 104,
   "metadata": {},
   "outputs": [
    {
     "name": "stdout",
     "output_type": "stream",
     "text": [
      "<class 'pandas.core.frame.DataFrame'>\n",
      "RangeIndex: 1010 entries, 0 to 1009\n",
      "Data columns (total 2 columns):\n",
      " #   Column  Non-Null Count  Dtype         \n",
      "---  ------  --------------  -----         \n",
      " 0   DATE    1010 non-null   datetime64[ns]\n",
      " 1   WALCL   1010 non-null   float64       \n",
      "dtypes: datetime64[ns](1), float64(1)\n",
      "memory usage: 15.9 KB\n"
     ]
    }
   ],
   "source": [
    "df1.info()"
   ]
  },
  {
   "cell_type": "code",
   "execution_count": 105,
   "metadata": {},
   "outputs": [],
   "source": [
    "df1.set_index('DATE', inplace=True)"
   ]
  },
  {
   "cell_type": "code",
   "execution_count": 106,
   "metadata": {},
   "outputs": [],
   "source": [
    "df1q=df1.resample('M').mean()"
   ]
  },
  {
   "cell_type": "code",
   "execution_count": 107,
   "metadata": {},
   "outputs": [
    {
     "data": {
      "text/plain": [
       "WALCL    0\n",
       "dtype: int64"
      ]
     },
     "execution_count": 107,
     "metadata": {},
     "output_type": "execute_result"
    }
   ],
   "source": [
    "df1.isnull().sum()"
   ]
  },
  {
   "cell_type": "code",
   "execution_count": 108,
   "metadata": {},
   "outputs": [],
   "source": [
    "df1q=df1q.reset_index()"
   ]
  },
  {
   "cell_type": "code",
   "execution_count": 109,
   "metadata": {},
   "outputs": [],
   "source": [
    "df1q=df1q.round(0)"
   ]
  },
  {
   "cell_type": "code",
   "execution_count": 110,
   "metadata": {},
   "outputs": [
    {
     "data": {
      "text/html": [
       "<div>\n",
       "<style scoped>\n",
       "    .dataframe tbody tr th:only-of-type {\n",
       "        vertical-align: middle;\n",
       "    }\n",
       "\n",
       "    .dataframe tbody tr th {\n",
       "        vertical-align: top;\n",
       "    }\n",
       "\n",
       "    .dataframe thead th {\n",
       "        text-align: right;\n",
       "    }\n",
       "</style>\n",
       "<table border=\"1\" class=\"dataframe\">\n",
       "  <thead>\n",
       "    <tr style=\"text-align: right;\">\n",
       "      <th></th>\n",
       "      <th>DATE</th>\n",
       "      <th>WALCL</th>\n",
       "    </tr>\n",
       "  </thead>\n",
       "  <tbody>\n",
       "    <tr>\n",
       "      <th>0</th>\n",
       "      <td>2002-12-31</td>\n",
       "      <td>725800.0</td>\n",
       "    </tr>\n",
       "    <tr>\n",
       "      <th>1</th>\n",
       "      <td>2003-01-31</td>\n",
       "      <td>724718.0</td>\n",
       "    </tr>\n",
       "    <tr>\n",
       "      <th>2</th>\n",
       "      <td>2003-02-28</td>\n",
       "      <td>721326.0</td>\n",
       "    </tr>\n",
       "    <tr>\n",
       "      <th>3</th>\n",
       "      <td>2003-03-31</td>\n",
       "      <td>723651.0</td>\n",
       "    </tr>\n",
       "    <tr>\n",
       "      <th>4</th>\n",
       "      <td>2003-04-30</td>\n",
       "      <td>736926.0</td>\n",
       "    </tr>\n",
       "  </tbody>\n",
       "</table>\n",
       "</div>"
      ],
      "text/plain": [
       "        DATE     WALCL\n",
       "0 2002-12-31  725800.0\n",
       "1 2003-01-31  724718.0\n",
       "2 2003-02-28  721326.0\n",
       "3 2003-03-31  723651.0\n",
       "4 2003-04-30  736926.0"
      ]
     },
     "execution_count": 110,
     "metadata": {},
     "output_type": "execute_result"
    }
   ],
   "source": [
    "df1q.head()"
   ]
  },
  {
   "cell_type": "code",
   "execution_count": 111,
   "metadata": {},
   "outputs": [],
   "source": [
    "df1q=df1q[df1q['DATE']>'2012-01-30']"
   ]
  },
  {
   "cell_type": "code",
   "execution_count": 112,
   "metadata": {},
   "outputs": [
    {
     "data": {
      "text/html": [
       "<div>\n",
       "<style scoped>\n",
       "    .dataframe tbody tr th:only-of-type {\n",
       "        vertical-align: middle;\n",
       "    }\n",
       "\n",
       "    .dataframe tbody tr th {\n",
       "        vertical-align: top;\n",
       "    }\n",
       "\n",
       "    .dataframe thead th {\n",
       "        text-align: right;\n",
       "    }\n",
       "</style>\n",
       "<table border=\"1\" class=\"dataframe\">\n",
       "  <thead>\n",
       "    <tr style=\"text-align: right;\">\n",
       "      <th></th>\n",
       "      <th>DATE</th>\n",
       "      <th>WALCL</th>\n",
       "    </tr>\n",
       "  </thead>\n",
       "  <tbody>\n",
       "    <tr>\n",
       "      <th>109</th>\n",
       "      <td>2012-01-31</td>\n",
       "      <td>2913952.0</td>\n",
       "    </tr>\n",
       "    <tr>\n",
       "      <th>110</th>\n",
       "      <td>2012-02-29</td>\n",
       "      <td>2929930.0</td>\n",
       "    </tr>\n",
       "    <tr>\n",
       "      <th>111</th>\n",
       "      <td>2012-03-31</td>\n",
       "      <td>2887272.0</td>\n",
       "    </tr>\n",
       "    <tr>\n",
       "      <th>112</th>\n",
       "      <td>2012-04-30</td>\n",
       "      <td>2868677.0</td>\n",
       "    </tr>\n",
       "    <tr>\n",
       "      <th>113</th>\n",
       "      <td>2012-05-31</td>\n",
       "      <td>2856313.0</td>\n",
       "    </tr>\n",
       "  </tbody>\n",
       "</table>\n",
       "</div>"
      ],
      "text/plain": [
       "          DATE      WALCL\n",
       "109 2012-01-31  2913952.0\n",
       "110 2012-02-29  2929930.0\n",
       "111 2012-03-31  2887272.0\n",
       "112 2012-04-30  2868677.0\n",
       "113 2012-05-31  2856313.0"
      ]
     },
     "execution_count": 112,
     "metadata": {},
     "output_type": "execute_result"
    }
   ],
   "source": [
    "df1q.head()"
   ]
  },
  {
   "cell_type": "code",
   "execution_count": 113,
   "metadata": {},
   "outputs": [
    {
     "data": {
      "text/plain": [
       "(124, 2)"
      ]
     },
     "execution_count": 113,
     "metadata": {},
     "output_type": "execute_result"
    }
   ],
   "source": [
    "df1q.shape"
   ]
  },
  {
   "cell_type": "code",
   "execution_count": 114,
   "metadata": {},
   "outputs": [],
   "source": [
    "df23=pd.merge(df_q,df1q)"
   ]
  },
  {
   "cell_type": "code",
   "execution_count": 115,
   "metadata": {},
   "outputs": [
    {
     "data": {
      "text/html": [
       "<div>\n",
       "<style scoped>\n",
       "    .dataframe tbody tr th:only-of-type {\n",
       "        vertical-align: middle;\n",
       "    }\n",
       "\n",
       "    .dataframe tbody tr th {\n",
       "        vertical-align: top;\n",
       "    }\n",
       "\n",
       "    .dataframe thead th {\n",
       "        text-align: right;\n",
       "    }\n",
       "</style>\n",
       "<table border=\"1\" class=\"dataframe\">\n",
       "  <thead>\n",
       "    <tr style=\"text-align: right;\">\n",
       "      <th></th>\n",
       "      <th>DATE</th>\n",
       "      <th>NASDAQCOM</th>\n",
       "      <th>WALCL</th>\n",
       "    </tr>\n",
       "  </thead>\n",
       "  <tbody>\n",
       "    <tr>\n",
       "      <th>0</th>\n",
       "      <td>2012-01-31</td>\n",
       "      <td>2743.0</td>\n",
       "      <td>2913952.0</td>\n",
       "    </tr>\n",
       "    <tr>\n",
       "      <th>1</th>\n",
       "      <td>2012-02-29</td>\n",
       "      <td>2928.0</td>\n",
       "      <td>2929930.0</td>\n",
       "    </tr>\n",
       "    <tr>\n",
       "      <th>2</th>\n",
       "      <td>2012-03-31</td>\n",
       "      <td>3035.0</td>\n",
       "      <td>2887272.0</td>\n",
       "    </tr>\n",
       "    <tr>\n",
       "      <th>3</th>\n",
       "      <td>2012-04-30</td>\n",
       "      <td>3035.0</td>\n",
       "      <td>2868677.0</td>\n",
       "    </tr>\n",
       "    <tr>\n",
       "      <th>4</th>\n",
       "      <td>2012-05-31</td>\n",
       "      <td>2900.0</td>\n",
       "      <td>2856313.0</td>\n",
       "    </tr>\n",
       "  </tbody>\n",
       "</table>\n",
       "</div>"
      ],
      "text/plain": [
       "        DATE  NASDAQCOM      WALCL\n",
       "0 2012-01-31     2743.0  2913952.0\n",
       "1 2012-02-29     2928.0  2929930.0\n",
       "2 2012-03-31     3035.0  2887272.0\n",
       "3 2012-04-30     3035.0  2868677.0\n",
       "4 2012-05-31     2900.0  2856313.0"
      ]
     },
     "execution_count": 115,
     "metadata": {},
     "output_type": "execute_result"
    }
   ],
   "source": [
    "df23.head()"
   ]
  },
  {
   "cell_type": "code",
   "execution_count": 116,
   "metadata": {},
   "outputs": [],
   "source": [
    "df23['DATE']=pd.to_datetime(df23['DATE'])"
   ]
  },
  {
   "cell_type": "code",
   "execution_count": 122,
   "metadata": {},
   "outputs": [],
   "source": [
    "df24=pd.merge(df23,df4q)"
   ]
  },
  {
   "cell_type": "code",
   "execution_count": 123,
   "metadata": {},
   "outputs": [
    {
     "data": {
      "text/html": [
       "<div>\n",
       "<style scoped>\n",
       "    .dataframe tbody tr th:only-of-type {\n",
       "        vertical-align: middle;\n",
       "    }\n",
       "\n",
       "    .dataframe tbody tr th {\n",
       "        vertical-align: top;\n",
       "    }\n",
       "\n",
       "    .dataframe thead th {\n",
       "        text-align: right;\n",
       "    }\n",
       "</style>\n",
       "<table border=\"1\" class=\"dataframe\">\n",
       "  <thead>\n",
       "    <tr style=\"text-align: right;\">\n",
       "      <th></th>\n",
       "      <th>DATE</th>\n",
       "      <th>NASDAQCOM</th>\n",
       "      <th>WALCL</th>\n",
       "      <th>S&amp;P 500 Buyback Index</th>\n",
       "    </tr>\n",
       "  </thead>\n",
       "  <tbody>\n",
       "    <tr>\n",
       "      <th>0</th>\n",
       "      <td>2012-01-31</td>\n",
       "      <td>2743.0</td>\n",
       "      <td>2913952.0</td>\n",
       "      <td>31.0</td>\n",
       "    </tr>\n",
       "    <tr>\n",
       "      <th>1</th>\n",
       "      <td>2012-02-29</td>\n",
       "      <td>2928.0</td>\n",
       "      <td>2929930.0</td>\n",
       "      <td>47.0</td>\n",
       "    </tr>\n",
       "    <tr>\n",
       "      <th>2</th>\n",
       "      <td>2012-03-31</td>\n",
       "      <td>3035.0</td>\n",
       "      <td>2887272.0</td>\n",
       "      <td>65.0</td>\n",
       "    </tr>\n",
       "    <tr>\n",
       "      <th>3</th>\n",
       "      <td>2012-04-30</td>\n",
       "      <td>3035.0</td>\n",
       "      <td>2868677.0</td>\n",
       "      <td>55.0</td>\n",
       "    </tr>\n",
       "    <tr>\n",
       "      <th>4</th>\n",
       "      <td>2012-05-31</td>\n",
       "      <td>2900.0</td>\n",
       "      <td>2856313.0</td>\n",
       "      <td>49.0</td>\n",
       "    </tr>\n",
       "  </tbody>\n",
       "</table>\n",
       "</div>"
      ],
      "text/plain": [
       "        DATE  NASDAQCOM      WALCL  S&P 500 Buyback Index\n",
       "0 2012-01-31     2743.0  2913952.0                   31.0\n",
       "1 2012-02-29     2928.0  2929930.0                   47.0\n",
       "2 2012-03-31     3035.0  2887272.0                   65.0\n",
       "3 2012-04-30     3035.0  2868677.0                   55.0\n",
       "4 2012-05-31     2900.0  2856313.0                   49.0"
      ]
     },
     "execution_count": 123,
     "metadata": {},
     "output_type": "execute_result"
    }
   ],
   "source": [
    "df24.head()"
   ]
  },
  {
   "cell_type": "code",
   "execution_count": 124,
   "metadata": {},
   "outputs": [
    {
     "data": {
      "text/plain": [
       "(124, 4)"
      ]
     },
     "execution_count": 124,
     "metadata": {},
     "output_type": "execute_result"
    }
   ],
   "source": [
    "df24.shape"
   ]
  },
  {
   "cell_type": "code",
   "execution_count": 125,
   "metadata": {},
   "outputs": [
    {
     "data": {
      "text/html": [
       "<div>\n",
       "<style scoped>\n",
       "    .dataframe tbody tr th:only-of-type {\n",
       "        vertical-align: middle;\n",
       "    }\n",
       "\n",
       "    .dataframe tbody tr th {\n",
       "        vertical-align: top;\n",
       "    }\n",
       "\n",
       "    .dataframe thead th {\n",
       "        text-align: right;\n",
       "    }\n",
       "</style>\n",
       "<table border=\"1\" class=\"dataframe\">\n",
       "  <thead>\n",
       "    <tr style=\"text-align: right;\">\n",
       "      <th></th>\n",
       "      <th>NASDAQCOM</th>\n",
       "      <th>WALCL</th>\n",
       "      <th>S&amp;P 500 Buyback Index</th>\n",
       "    </tr>\n",
       "  </thead>\n",
       "  <tbody>\n",
       "    <tr>\n",
       "      <th>NASDAQCOM</th>\n",
       "      <td>1.000000</td>\n",
       "      <td>0.909755</td>\n",
       "      <td>0.005051</td>\n",
       "    </tr>\n",
       "    <tr>\n",
       "      <th>WALCL</th>\n",
       "      <td>0.909755</td>\n",
       "      <td>1.000000</td>\n",
       "      <td>-0.006364</td>\n",
       "    </tr>\n",
       "    <tr>\n",
       "      <th>S&amp;P 500 Buyback Index</th>\n",
       "      <td>0.005051</td>\n",
       "      <td>-0.006364</td>\n",
       "      <td>1.000000</td>\n",
       "    </tr>\n",
       "  </tbody>\n",
       "</table>\n",
       "</div>"
      ],
      "text/plain": [
       "                       NASDAQCOM     WALCL  S&P 500 Buyback Index\n",
       "NASDAQCOM               1.000000  0.909755               0.005051\n",
       "WALCL                   0.909755  1.000000              -0.006364\n",
       "S&P 500 Buyback Index   0.005051 -0.006364               1.000000"
      ]
     },
     "execution_count": 125,
     "metadata": {},
     "output_type": "execute_result"
    }
   ],
   "source": [
    "df24.corr()"
   ]
  },
  {
   "cell_type": "code",
   "execution_count": 126,
   "metadata": {},
   "outputs": [
    {
     "data": {
      "text/plain": [
       "(124, 4)"
      ]
     },
     "execution_count": 126,
     "metadata": {},
     "output_type": "execute_result"
    }
   ],
   "source": [
    "df24.shape"
   ]
  },
  {
   "cell_type": "code",
   "execution_count": 127,
   "metadata": {},
   "outputs": [],
   "source": [
    "X=df24[['S&P 500 Buyback Index','WALCL']]"
   ]
  },
  {
   "cell_type": "code",
   "execution_count": 128,
   "metadata": {},
   "outputs": [],
   "source": [
    "y=df24['NASDAQCOM']"
   ]
  },
  {
   "cell_type": "code",
   "execution_count": 129,
   "metadata": {},
   "outputs": [],
   "source": [
    "import statsmodels\n",
    "import statsmodels.api as sm\n",
    "import matplotlib.pyplot as plt\n",
    "import seaborn as sns\n",
    "from sklearn.linear_model import LinearRegression\n",
    "from sklearn.model_selection import train_test_split\n",
    "from sklearn.preprocessing import StandardScaler"
   ]
  },
  {
   "cell_type": "code",
   "execution_count": 130,
   "metadata": {},
   "outputs": [],
   "source": [
    "from sklearn.preprocessing import MinMaxScaler\n",
    "\n",
    "scaler = MinMaxScaler(feature_range = (0,1))"
   ]
  },
  {
   "cell_type": "code",
   "execution_count": 131,
   "metadata": {},
   "outputs": [],
   "source": [
    "X_train, X_test, y_train, y_test = train_test_split(X, y, test_size=.20, random_state=1)"
   ]
  },
  {
   "cell_type": "code",
   "execution_count": 132,
   "metadata": {},
   "outputs": [],
   "source": [
    "scaler.fit(X_train)\n",
    "X_train = scaler.fit_transform(X_train)\n",
    "X_test = scaler.transform(X_test)"
   ]
  },
  {
   "cell_type": "code",
   "execution_count": 133,
   "metadata": {},
   "outputs": [
    {
     "data": {
      "text/plain": [
       "LinearRegression()"
      ]
     },
     "execution_count": 133,
     "metadata": {},
     "output_type": "execute_result"
    }
   ],
   "source": [
    "lr=LinearRegression()\n",
    "lr.fit(X,y)"
   ]
  },
  {
   "cell_type": "code",
   "execution_count": null,
   "metadata": {},
   "outputs": [],
   "source": [
    "lr_pred=lr.predict(X_test)"
   ]
  },
  {
   "cell_type": "code",
   "execution_count": 135,
   "metadata": {},
   "outputs": [
    {
     "data": {
      "text/plain": [
       "0.8277723775731494"
      ]
     },
     "execution_count": 135,
     "metadata": {},
     "output_type": "execute_result"
    }
   ],
   "source": [
    "lr.score(X,y)"
   ]
  },
  {
   "cell_type": "code",
   "execution_count": 136,
   "metadata": {},
   "outputs": [
    {
     "name": "stdout",
     "output_type": "stream",
     "text": [
      "                            OLS Regression Results                            \n",
      "==============================================================================\n",
      "Dep. Variable:              NASDAQCOM   R-squared:                       0.828\n",
      "Model:                            OLS   Adj. R-squared:                  0.825\n",
      "Method:                 Least Squares   F-statistic:                     290.8\n",
      "Date:                Sat, 30 Apr 2022   Prob (F-statistic):           6.08e-47\n",
      "Time:                        11:13:22   Log-Likelihood:                -1079.8\n",
      "No. Observations:                 124   AIC:                             2166.\n",
      "Df Residuals:                     121   BIC:                             2174.\n",
      "Df Model:                           2                                         \n",
      "Covariance Type:            nonrobust                                         \n",
      "=========================================================================================\n",
      "                            coef    std err          t      P>|t|      [0.025      0.975]\n",
      "-----------------------------------------------------------------------------------------\n",
      "const                 -2792.7811    963.101     -2.900      0.004   -4699.494    -886.069\n",
      "S&P 500 Buyback Index     5.4337     18.909      0.287      0.774     -32.003      42.870\n",
      "WALCL                     0.0020   8.16e-05     24.115      0.000       0.002       0.002\n",
      "==============================================================================\n",
      "Omnibus:                       11.328   Durbin-Watson:                   0.094\n",
      "Prob(Omnibus):                  0.003   Jarque-Bera (JB):               12.419\n",
      "Skew:                           0.752   Prob(JB):                      0.00201\n",
      "Kurtosis:                       2.625   Cond. No.                     3.68e+07\n",
      "==============================================================================\n",
      "\n",
      "Notes:\n",
      "[1] Standard Errors assume that the covariance matrix of the errors is correctly specified.\n",
      "[2] The condition number is large, 3.68e+07. This might indicate that there are\n",
      "strong multicollinearity or other numerical problems.\n"
     ]
    }
   ],
   "source": [
    "X = sm.add_constant(X) # adding a constant\n",
    "\n",
    "model = sm.OLS(y, X).fit()\n",
    "predictions = model.predict(X) \n",
    "\n",
    "print(model.summary())"
   ]
  },
  {
   "cell_type": "code",
   "execution_count": 139,
   "metadata": {},
   "outputs": [
    {
     "name": "stdout",
     "output_type": "stream",
     "text": [
      "0.8128914518375181\n"
     ]
    }
   ],
   "source": [
    "from sklearn.preprocessing import PolynomialFeatures\n",
    "from sklearn import linear_model\n",
    "\n",
    "poly = PolynomialFeatures(degree=5, interaction_only=True)\n",
    "X_train5 = poly.fit_transform(X_train)\n",
    "X_test5 = poly.fit_transform(X_test)\n",
    "\n",
    "poly_clf = linear_model.LinearRegression()\n",
    "\n",
    "poly_clf.fit(X_train5, y_train)\n",
    "\n",
    "y_pred = poly_clf.predict(X_test5)\n",
    "\n",
    "print(poly_clf.score(X_train5, y_train))"
   ]
  },
  {
   "cell_type": "code",
   "execution_count": 140,
   "metadata": {},
   "outputs": [
    {
     "data": {
      "text/html": [
       "<div>\n",
       "<style scoped>\n",
       "    .dataframe tbody tr th:only-of-type {\n",
       "        vertical-align: middle;\n",
       "    }\n",
       "\n",
       "    .dataframe tbody tr th {\n",
       "        vertical-align: top;\n",
       "    }\n",
       "\n",
       "    .dataframe thead th {\n",
       "        text-align: right;\n",
       "    }\n",
       "</style>\n",
       "<table border=\"1\" class=\"dataframe\">\n",
       "  <thead>\n",
       "    <tr style=\"text-align: right;\">\n",
       "      <th></th>\n",
       "      <th>DATE</th>\n",
       "      <th>NASDAQCOM</th>\n",
       "      <th>WALCL</th>\n",
       "      <th>S&amp;P 500 Buyback Index</th>\n",
       "    </tr>\n",
       "  </thead>\n",
       "  <tbody>\n",
       "    <tr>\n",
       "      <th>0</th>\n",
       "      <td>2012-01-31</td>\n",
       "      <td>2743.0</td>\n",
       "      <td>2913952.0</td>\n",
       "      <td>31.0</td>\n",
       "    </tr>\n",
       "    <tr>\n",
       "      <th>1</th>\n",
       "      <td>2012-02-29</td>\n",
       "      <td>2928.0</td>\n",
       "      <td>2929930.0</td>\n",
       "      <td>47.0</td>\n",
       "    </tr>\n",
       "    <tr>\n",
       "      <th>2</th>\n",
       "      <td>2012-03-31</td>\n",
       "      <td>3035.0</td>\n",
       "      <td>2887272.0</td>\n",
       "      <td>65.0</td>\n",
       "    </tr>\n",
       "    <tr>\n",
       "      <th>3</th>\n",
       "      <td>2012-04-30</td>\n",
       "      <td>3035.0</td>\n",
       "      <td>2868677.0</td>\n",
       "      <td>55.0</td>\n",
       "    </tr>\n",
       "    <tr>\n",
       "      <th>4</th>\n",
       "      <td>2012-05-31</td>\n",
       "      <td>2900.0</td>\n",
       "      <td>2856313.0</td>\n",
       "      <td>49.0</td>\n",
       "    </tr>\n",
       "  </tbody>\n",
       "</table>\n",
       "</div>"
      ],
      "text/plain": [
       "        DATE  NASDAQCOM      WALCL  S&P 500 Buyback Index\n",
       "0 2012-01-31     2743.0  2913952.0                   31.0\n",
       "1 2012-02-29     2928.0  2929930.0                   47.0\n",
       "2 2012-03-31     3035.0  2887272.0                   65.0\n",
       "3 2012-04-30     3035.0  2868677.0                   55.0\n",
       "4 2012-05-31     2900.0  2856313.0                   49.0"
      ]
     },
     "execution_count": 140,
     "metadata": {},
     "output_type": "execute_result"
    }
   ],
   "source": [
    "df24.head()"
   ]
  },
  {
   "cell_type": "code",
   "execution_count": 141,
   "metadata": {},
   "outputs": [],
   "source": [
    "df24['open']=df24['NASDAQCOM'].shift()"
   ]
  },
  {
   "cell_type": "code",
   "execution_count": 142,
   "metadata": {},
   "outputs": [],
   "source": [
    "df24['diff']=df24['NASDAQCOM']-df24['open']"
   ]
  },
  {
   "cell_type": "code",
   "execution_count": 143,
   "metadata": {},
   "outputs": [
    {
     "data": {
      "text/html": [
       "<div>\n",
       "<style scoped>\n",
       "    .dataframe tbody tr th:only-of-type {\n",
       "        vertical-align: middle;\n",
       "    }\n",
       "\n",
       "    .dataframe tbody tr th {\n",
       "        vertical-align: top;\n",
       "    }\n",
       "\n",
       "    .dataframe thead th {\n",
       "        text-align: right;\n",
       "    }\n",
       "</style>\n",
       "<table border=\"1\" class=\"dataframe\">\n",
       "  <thead>\n",
       "    <tr style=\"text-align: right;\">\n",
       "      <th></th>\n",
       "      <th>DATE</th>\n",
       "      <th>NASDAQCOM</th>\n",
       "      <th>WALCL</th>\n",
       "      <th>S&amp;P 500 Buyback Index</th>\n",
       "      <th>open</th>\n",
       "      <th>diff</th>\n",
       "    </tr>\n",
       "  </thead>\n",
       "  <tbody>\n",
       "    <tr>\n",
       "      <th>0</th>\n",
       "      <td>2012-01-31</td>\n",
       "      <td>2743.0</td>\n",
       "      <td>2913952.0</td>\n",
       "      <td>31.0</td>\n",
       "      <td>NaN</td>\n",
       "      <td>NaN</td>\n",
       "    </tr>\n",
       "    <tr>\n",
       "      <th>1</th>\n",
       "      <td>2012-02-29</td>\n",
       "      <td>2928.0</td>\n",
       "      <td>2929930.0</td>\n",
       "      <td>47.0</td>\n",
       "      <td>2743.0</td>\n",
       "      <td>185.0</td>\n",
       "    </tr>\n",
       "    <tr>\n",
       "      <th>2</th>\n",
       "      <td>2012-03-31</td>\n",
       "      <td>3035.0</td>\n",
       "      <td>2887272.0</td>\n",
       "      <td>65.0</td>\n",
       "      <td>2928.0</td>\n",
       "      <td>107.0</td>\n",
       "    </tr>\n",
       "    <tr>\n",
       "      <th>3</th>\n",
       "      <td>2012-04-30</td>\n",
       "      <td>3035.0</td>\n",
       "      <td>2868677.0</td>\n",
       "      <td>55.0</td>\n",
       "      <td>3035.0</td>\n",
       "      <td>0.0</td>\n",
       "    </tr>\n",
       "    <tr>\n",
       "      <th>4</th>\n",
       "      <td>2012-05-31</td>\n",
       "      <td>2900.0</td>\n",
       "      <td>2856313.0</td>\n",
       "      <td>49.0</td>\n",
       "      <td>3035.0</td>\n",
       "      <td>-135.0</td>\n",
       "    </tr>\n",
       "  </tbody>\n",
       "</table>\n",
       "</div>"
      ],
      "text/plain": [
       "        DATE  NASDAQCOM      WALCL  S&P 500 Buyback Index    open   diff\n",
       "0 2012-01-31     2743.0  2913952.0                   31.0     NaN    NaN\n",
       "1 2012-02-29     2928.0  2929930.0                   47.0  2743.0  185.0\n",
       "2 2012-03-31     3035.0  2887272.0                   65.0  2928.0  107.0\n",
       "3 2012-04-30     3035.0  2868677.0                   55.0  3035.0    0.0\n",
       "4 2012-05-31     2900.0  2856313.0                   49.0  3035.0 -135.0"
      ]
     },
     "execution_count": 143,
     "metadata": {},
     "output_type": "execute_result"
    }
   ],
   "source": [
    "df24.head()"
   ]
  },
  {
   "cell_type": "code",
   "execution_count": 144,
   "metadata": {},
   "outputs": [
    {
     "name": "stdout",
     "output_type": "stream",
     "text": [
      "<class 'pandas.core.frame.DataFrame'>\n",
      "Int64Index: 124 entries, 0 to 123\n",
      "Data columns (total 6 columns):\n",
      " #   Column                 Non-Null Count  Dtype         \n",
      "---  ------                 --------------  -----         \n",
      " 0   DATE                   124 non-null    datetime64[ns]\n",
      " 1   NASDAQCOM              124 non-null    float64       \n",
      " 2   WALCL                  124 non-null    float64       \n",
      " 3   S&P 500 Buyback Index  124 non-null    float64       \n",
      " 4   open                   123 non-null    float64       \n",
      " 5   diff                   123 non-null    float64       \n",
      "dtypes: datetime64[ns](1), float64(5)\n",
      "memory usage: 6.8 KB\n"
     ]
    }
   ],
   "source": [
    "df24.info()"
   ]
  },
  {
   "cell_type": "code",
   "execution_count": 145,
   "metadata": {},
   "outputs": [],
   "source": [
    "def Getup(no):\n",
    "    if no>0:\n",
    "        return \"up\"\n",
    "    elif no<=0:\n",
    "        return \"down\"\n",
    "    else:\n",
    "        return \"other\""
   ]
  },
  {
   "cell_type": "code",
   "execution_count": 146,
   "metadata": {},
   "outputs": [],
   "source": [
    "df24['up-down'] = df24['diff'].apply(lambda x: Getup(x))"
   ]
  },
  {
   "cell_type": "code",
   "execution_count": 147,
   "metadata": {},
   "outputs": [
    {
     "data": {
      "text/html": [
       "<div>\n",
       "<style scoped>\n",
       "    .dataframe tbody tr th:only-of-type {\n",
       "        vertical-align: middle;\n",
       "    }\n",
       "\n",
       "    .dataframe tbody tr th {\n",
       "        vertical-align: top;\n",
       "    }\n",
       "\n",
       "    .dataframe thead th {\n",
       "        text-align: right;\n",
       "    }\n",
       "</style>\n",
       "<table border=\"1\" class=\"dataframe\">\n",
       "  <thead>\n",
       "    <tr style=\"text-align: right;\">\n",
       "      <th></th>\n",
       "      <th>DATE</th>\n",
       "      <th>NASDAQCOM</th>\n",
       "      <th>WALCL</th>\n",
       "      <th>S&amp;P 500 Buyback Index</th>\n",
       "      <th>open</th>\n",
       "      <th>diff</th>\n",
       "      <th>up-down</th>\n",
       "    </tr>\n",
       "  </thead>\n",
       "  <tbody>\n",
       "    <tr>\n",
       "      <th>0</th>\n",
       "      <td>2012-01-31</td>\n",
       "      <td>2743.0</td>\n",
       "      <td>2913952.0</td>\n",
       "      <td>31.0</td>\n",
       "      <td>NaN</td>\n",
       "      <td>NaN</td>\n",
       "      <td>other</td>\n",
       "    </tr>\n",
       "    <tr>\n",
       "      <th>1</th>\n",
       "      <td>2012-02-29</td>\n",
       "      <td>2928.0</td>\n",
       "      <td>2929930.0</td>\n",
       "      <td>47.0</td>\n",
       "      <td>2743.0</td>\n",
       "      <td>185.0</td>\n",
       "      <td>up</td>\n",
       "    </tr>\n",
       "    <tr>\n",
       "      <th>2</th>\n",
       "      <td>2012-03-31</td>\n",
       "      <td>3035.0</td>\n",
       "      <td>2887272.0</td>\n",
       "      <td>65.0</td>\n",
       "      <td>2928.0</td>\n",
       "      <td>107.0</td>\n",
       "      <td>up</td>\n",
       "    </tr>\n",
       "    <tr>\n",
       "      <th>3</th>\n",
       "      <td>2012-04-30</td>\n",
       "      <td>3035.0</td>\n",
       "      <td>2868677.0</td>\n",
       "      <td>55.0</td>\n",
       "      <td>3035.0</td>\n",
       "      <td>0.0</td>\n",
       "      <td>down</td>\n",
       "    </tr>\n",
       "    <tr>\n",
       "      <th>4</th>\n",
       "      <td>2012-05-31</td>\n",
       "      <td>2900.0</td>\n",
       "      <td>2856313.0</td>\n",
       "      <td>49.0</td>\n",
       "      <td>3035.0</td>\n",
       "      <td>-135.0</td>\n",
       "      <td>down</td>\n",
       "    </tr>\n",
       "    <tr>\n",
       "      <th>...</th>\n",
       "      <td>...</td>\n",
       "      <td>...</td>\n",
       "      <td>...</td>\n",
       "      <td>...</td>\n",
       "      <td>...</td>\n",
       "      <td>...</td>\n",
       "      <td>...</td>\n",
       "    </tr>\n",
       "    <tr>\n",
       "      <th>119</th>\n",
       "      <td>2021-12-31</td>\n",
       "      <td>15474.0</td>\n",
       "      <td>8723909.0</td>\n",
       "      <td>66.0</td>\n",
       "      <td>15814.0</td>\n",
       "      <td>-340.0</td>\n",
       "      <td>down</td>\n",
       "    </tr>\n",
       "    <tr>\n",
       "      <th>120</th>\n",
       "      <td>2022-01-31</td>\n",
       "      <td>14531.0</td>\n",
       "      <td>8820580.0</td>\n",
       "      <td>44.0</td>\n",
       "      <td>15474.0</td>\n",
       "      <td>-943.0</td>\n",
       "      <td>down</td>\n",
       "    </tr>\n",
       "    <tr>\n",
       "      <th>121</th>\n",
       "      <td>2022-02-28</td>\n",
       "      <td>13898.0</td>\n",
       "      <td>8897596.0</td>\n",
       "      <td>34.0</td>\n",
       "      <td>14531.0</td>\n",
       "      <td>-633.0</td>\n",
       "      <td>down</td>\n",
       "    </tr>\n",
       "    <tr>\n",
       "      <th>122</th>\n",
       "      <td>2022-03-31</td>\n",
       "      <td>13623.0</td>\n",
       "      <td>8933825.0</td>\n",
       "      <td>48.0</td>\n",
       "      <td>13898.0</td>\n",
       "      <td>-275.0</td>\n",
       "      <td>down</td>\n",
       "    </tr>\n",
       "    <tr>\n",
       "      <th>123</th>\n",
       "      <td>2022-04-30</td>\n",
       "      <td>13482.0</td>\n",
       "      <td>8952977.0</td>\n",
       "      <td>50.0</td>\n",
       "      <td>13623.0</td>\n",
       "      <td>-141.0</td>\n",
       "      <td>down</td>\n",
       "    </tr>\n",
       "  </tbody>\n",
       "</table>\n",
       "<p>124 rows × 7 columns</p>\n",
       "</div>"
      ],
      "text/plain": [
       "          DATE  NASDAQCOM      WALCL  S&P 500 Buyback Index     open   diff  \\\n",
       "0   2012-01-31     2743.0  2913952.0                   31.0      NaN    NaN   \n",
       "1   2012-02-29     2928.0  2929930.0                   47.0   2743.0  185.0   \n",
       "2   2012-03-31     3035.0  2887272.0                   65.0   2928.0  107.0   \n",
       "3   2012-04-30     3035.0  2868677.0                   55.0   3035.0    0.0   \n",
       "4   2012-05-31     2900.0  2856313.0                   49.0   3035.0 -135.0   \n",
       "..         ...        ...        ...                    ...      ...    ...   \n",
       "119 2021-12-31    15474.0  8723909.0                   66.0  15814.0 -340.0   \n",
       "120 2022-01-31    14531.0  8820580.0                   44.0  15474.0 -943.0   \n",
       "121 2022-02-28    13898.0  8897596.0                   34.0  14531.0 -633.0   \n",
       "122 2022-03-31    13623.0  8933825.0                   48.0  13898.0 -275.0   \n",
       "123 2022-04-30    13482.0  8952977.0                   50.0  13623.0 -141.0   \n",
       "\n",
       "    up-down  \n",
       "0     other  \n",
       "1        up  \n",
       "2        up  \n",
       "3      down  \n",
       "4      down  \n",
       "..      ...  \n",
       "119    down  \n",
       "120    down  \n",
       "121    down  \n",
       "122    down  \n",
       "123    down  \n",
       "\n",
       "[124 rows x 7 columns]"
      ]
     },
     "execution_count": 147,
     "metadata": {},
     "output_type": "execute_result"
    }
   ],
   "source": [
    "df24"
   ]
  },
  {
   "cell_type": "code",
   "execution_count": 148,
   "metadata": {},
   "outputs": [
    {
     "data": {
      "text/plain": [
       "up       90\n",
       "down     33\n",
       "other     1\n",
       "Name: up-down, dtype: int64"
      ]
     },
     "execution_count": 148,
     "metadata": {},
     "output_type": "execute_result"
    }
   ],
   "source": [
    "df24['up-down'].value_counts()"
   ]
  },
  {
   "cell_type": "code",
   "execution_count": 149,
   "metadata": {},
   "outputs": [],
   "source": [
    "df26=df24[1:]"
   ]
  },
  {
   "cell_type": "code",
   "execution_count": 150,
   "metadata": {},
   "outputs": [
    {
     "data": {
      "text/html": [
       "<div>\n",
       "<style scoped>\n",
       "    .dataframe tbody tr th:only-of-type {\n",
       "        vertical-align: middle;\n",
       "    }\n",
       "\n",
       "    .dataframe tbody tr th {\n",
       "        vertical-align: top;\n",
       "    }\n",
       "\n",
       "    .dataframe thead th {\n",
       "        text-align: right;\n",
       "    }\n",
       "</style>\n",
       "<table border=\"1\" class=\"dataframe\">\n",
       "  <thead>\n",
       "    <tr style=\"text-align: right;\">\n",
       "      <th></th>\n",
       "      <th>DATE</th>\n",
       "      <th>NASDAQCOM</th>\n",
       "      <th>WALCL</th>\n",
       "      <th>S&amp;P 500 Buyback Index</th>\n",
       "      <th>open</th>\n",
       "      <th>diff</th>\n",
       "      <th>up-down</th>\n",
       "    </tr>\n",
       "  </thead>\n",
       "  <tbody>\n",
       "    <tr>\n",
       "      <th>1</th>\n",
       "      <td>2012-02-29</td>\n",
       "      <td>2928.0</td>\n",
       "      <td>2929930.0</td>\n",
       "      <td>47.0</td>\n",
       "      <td>2743.0</td>\n",
       "      <td>185.0</td>\n",
       "      <td>up</td>\n",
       "    </tr>\n",
       "    <tr>\n",
       "      <th>2</th>\n",
       "      <td>2012-03-31</td>\n",
       "      <td>3035.0</td>\n",
       "      <td>2887272.0</td>\n",
       "      <td>65.0</td>\n",
       "      <td>2928.0</td>\n",
       "      <td>107.0</td>\n",
       "      <td>up</td>\n",
       "    </tr>\n",
       "    <tr>\n",
       "      <th>3</th>\n",
       "      <td>2012-04-30</td>\n",
       "      <td>3035.0</td>\n",
       "      <td>2868677.0</td>\n",
       "      <td>55.0</td>\n",
       "      <td>3035.0</td>\n",
       "      <td>0.0</td>\n",
       "      <td>down</td>\n",
       "    </tr>\n",
       "    <tr>\n",
       "      <th>4</th>\n",
       "      <td>2012-05-31</td>\n",
       "      <td>2900.0</td>\n",
       "      <td>2856313.0</td>\n",
       "      <td>49.0</td>\n",
       "      <td>3035.0</td>\n",
       "      <td>-135.0</td>\n",
       "      <td>down</td>\n",
       "    </tr>\n",
       "    <tr>\n",
       "      <th>5</th>\n",
       "      <td>2012-06-30</td>\n",
       "      <td>2850.0</td>\n",
       "      <td>2863870.0</td>\n",
       "      <td>36.0</td>\n",
       "      <td>2900.0</td>\n",
       "      <td>-50.0</td>\n",
       "      <td>down</td>\n",
       "    </tr>\n",
       "    <tr>\n",
       "      <th>...</th>\n",
       "      <td>...</td>\n",
       "      <td>...</td>\n",
       "      <td>...</td>\n",
       "      <td>...</td>\n",
       "      <td>...</td>\n",
       "      <td>...</td>\n",
       "      <td>...</td>\n",
       "    </tr>\n",
       "    <tr>\n",
       "      <th>119</th>\n",
       "      <td>2021-12-31</td>\n",
       "      <td>15474.0</td>\n",
       "      <td>8723909.0</td>\n",
       "      <td>66.0</td>\n",
       "      <td>15814.0</td>\n",
       "      <td>-340.0</td>\n",
       "      <td>down</td>\n",
       "    </tr>\n",
       "    <tr>\n",
       "      <th>120</th>\n",
       "      <td>2022-01-31</td>\n",
       "      <td>14531.0</td>\n",
       "      <td>8820580.0</td>\n",
       "      <td>44.0</td>\n",
       "      <td>15474.0</td>\n",
       "      <td>-943.0</td>\n",
       "      <td>down</td>\n",
       "    </tr>\n",
       "    <tr>\n",
       "      <th>121</th>\n",
       "      <td>2022-02-28</td>\n",
       "      <td>13898.0</td>\n",
       "      <td>8897596.0</td>\n",
       "      <td>34.0</td>\n",
       "      <td>14531.0</td>\n",
       "      <td>-633.0</td>\n",
       "      <td>down</td>\n",
       "    </tr>\n",
       "    <tr>\n",
       "      <th>122</th>\n",
       "      <td>2022-03-31</td>\n",
       "      <td>13623.0</td>\n",
       "      <td>8933825.0</td>\n",
       "      <td>48.0</td>\n",
       "      <td>13898.0</td>\n",
       "      <td>-275.0</td>\n",
       "      <td>down</td>\n",
       "    </tr>\n",
       "    <tr>\n",
       "      <th>123</th>\n",
       "      <td>2022-04-30</td>\n",
       "      <td>13482.0</td>\n",
       "      <td>8952977.0</td>\n",
       "      <td>50.0</td>\n",
       "      <td>13623.0</td>\n",
       "      <td>-141.0</td>\n",
       "      <td>down</td>\n",
       "    </tr>\n",
       "  </tbody>\n",
       "</table>\n",
       "<p>123 rows × 7 columns</p>\n",
       "</div>"
      ],
      "text/plain": [
       "          DATE  NASDAQCOM      WALCL  S&P 500 Buyback Index     open   diff  \\\n",
       "1   2012-02-29     2928.0  2929930.0                   47.0   2743.0  185.0   \n",
       "2   2012-03-31     3035.0  2887272.0                   65.0   2928.0  107.0   \n",
       "3   2012-04-30     3035.0  2868677.0                   55.0   3035.0    0.0   \n",
       "4   2012-05-31     2900.0  2856313.0                   49.0   3035.0 -135.0   \n",
       "5   2012-06-30     2850.0  2863870.0                   36.0   2900.0  -50.0   \n",
       "..         ...        ...        ...                    ...      ...    ...   \n",
       "119 2021-12-31    15474.0  8723909.0                   66.0  15814.0 -340.0   \n",
       "120 2022-01-31    14531.0  8820580.0                   44.0  15474.0 -943.0   \n",
       "121 2022-02-28    13898.0  8897596.0                   34.0  14531.0 -633.0   \n",
       "122 2022-03-31    13623.0  8933825.0                   48.0  13898.0 -275.0   \n",
       "123 2022-04-30    13482.0  8952977.0                   50.0  13623.0 -141.0   \n",
       "\n",
       "    up-down  \n",
       "1        up  \n",
       "2        up  \n",
       "3      down  \n",
       "4      down  \n",
       "5      down  \n",
       "..      ...  \n",
       "119    down  \n",
       "120    down  \n",
       "121    down  \n",
       "122    down  \n",
       "123    down  \n",
       "\n",
       "[123 rows x 7 columns]"
      ]
     },
     "execution_count": 150,
     "metadata": {},
     "output_type": "execute_result"
    }
   ],
   "source": [
    "df26"
   ]
  },
  {
   "cell_type": "code",
   "execution_count": 152,
   "metadata": {},
   "outputs": [],
   "source": [
    "X=df26[['S&P 500 Buyback Index','WALCL']]\n",
    "y=df26['up-down'] "
   ]
  },
  {
   "cell_type": "code",
   "execution_count": 153,
   "metadata": {},
   "outputs": [],
   "source": [
    "from sklearn.preprocessing import MinMaxScaler\n",
    "\n",
    "scaler = MinMaxScaler(feature_range = (0,1))"
   ]
  },
  {
   "cell_type": "code",
   "execution_count": 154,
   "metadata": {},
   "outputs": [],
   "source": [
    "from sklearn import datasets\n",
    "from sklearn.metrics import confusion_matrix\n",
    "from sklearn.model_selection import train_test_split\n",
    "from sklearn.preprocessing import StandardScaler\n",
    "from sklearn.pipeline import Pipeline\n",
    "from sklearn.ensemble import RandomForestClassifier\n",
    "from sklearn.metrics import accuracy_score\n",
    "from sklearn.metrics import accuracy_score,precision_score,recall_score,f1_score\n",
    "from sklearn.metrics import confusion_matrix, classification_report"
   ]
  },
  {
   "cell_type": "code",
   "execution_count": 155,
   "metadata": {},
   "outputs": [],
   "source": [
    "X_train, X_test, y_train, y_test = train_test_split(X, y, test_size=.20, random_state=1,stratify=y)"
   ]
  },
  {
   "cell_type": "code",
   "execution_count": 156,
   "metadata": {},
   "outputs": [],
   "source": [
    "scaler.fit(X_train)\n",
    "X_train = scaler.fit_transform(X_train)\n",
    "X_test = scaler.transform(X_test)"
   ]
  },
  {
   "cell_type": "code",
   "execution_count": 195,
   "metadata": {},
   "outputs": [],
   "source": [
    "rfc=RandomForestClassifier(n_estimators=200)"
   ]
  },
  {
   "cell_type": "code",
   "execution_count": 196,
   "metadata": {},
   "outputs": [
    {
     "data": {
      "text/plain": [
       "RandomForestClassifier(n_estimators=200)"
      ]
     },
     "execution_count": 196,
     "metadata": {},
     "output_type": "execute_result"
    }
   ],
   "source": [
    "rfc.fit(X_train,y_train)"
   ]
  },
  {
   "cell_type": "code",
   "execution_count": 197,
   "metadata": {},
   "outputs": [],
   "source": [
    "rfc_pred=rfc.predict(X_test)"
   ]
  },
  {
   "cell_type": "code",
   "execution_count": 198,
   "metadata": {},
   "outputs": [
    {
     "name": "stdout",
     "output_type": "stream",
     "text": [
      "              precision    recall  f1-score   support\n",
      "\n",
      "        down       0.14      0.14      0.14         7\n",
      "          up       0.67      0.67      0.67        18\n",
      "\n",
      "    accuracy                           0.52        25\n",
      "   macro avg       0.40      0.40      0.40        25\n",
      "weighted avg       0.52      0.52      0.52        25\n",
      "\n"
     ]
    }
   ],
   "source": [
    "print(classification_report(y_test,rfc_pred))"
   ]
  },
  {
   "cell_type": "code",
   "execution_count": 199,
   "metadata": {},
   "outputs": [
    {
     "data": {
      "text/plain": [
       "array([[ 1,  6],\n",
       "       [ 6, 12]], dtype=int64)"
      ]
     },
     "execution_count": 199,
     "metadata": {},
     "output_type": "execute_result"
    }
   ],
   "source": [
    "confusion_matrix(y_test,rfc_pred)"
   ]
  },
  {
   "cell_type": "code",
   "execution_count": 200,
   "metadata": {},
   "outputs": [],
   "source": [
    "from sklearn.linear_model import LogisticRegression\n",
    "from sklearn.model_selection import GridSearchCV"
   ]
  },
  {
   "cell_type": "code",
   "execution_count": 201,
   "metadata": {},
   "outputs": [],
   "source": [
    "param_grid_lr = {\n",
    "    'max_iter': [20, 50, 100, 200, 500, 1000],                      \n",
    "    'solver': ['newton-cg', 'lbfgs', 'liblinear', 'sag', 'saga'],   \n",
    "    'class_weight': ['balanced']                                    \n",
    "}"
   ]
  },
  {
   "cell_type": "code",
   "execution_count": 202,
   "metadata": {},
   "outputs": [],
   "source": [
    "lr=LogisticRegression()"
   ]
  },
  {
   "cell_type": "code",
   "execution_count": 203,
   "metadata": {},
   "outputs": [],
   "source": [
    "grid_search = GridSearchCV(estimator = lr, param_grid = param_grid_lr, \n",
    "                          cv = 3, n_jobs = -1, verbose = 2)"
   ]
  },
  {
   "cell_type": "code",
   "execution_count": 204,
   "metadata": {},
   "outputs": [
    {
     "name": "stdout",
     "output_type": "stream",
     "text": [
      "Fitting 3 folds for each of 30 candidates, totalling 90 fits\n"
     ]
    },
    {
     "data": {
      "text/plain": [
       "GridSearchCV(cv=3, estimator=LogisticRegression(), n_jobs=-1,\n",
       "             param_grid={'class_weight': ['balanced'],\n",
       "                         'max_iter': [20, 50, 100, 200, 500, 1000],\n",
       "                         'solver': ['newton-cg', 'lbfgs', 'liblinear', 'sag',\n",
       "                                    'saga']},\n",
       "             verbose=2)"
      ]
     },
     "execution_count": 204,
     "metadata": {},
     "output_type": "execute_result"
    }
   ],
   "source": [
    "grid_search.fit(X_train,y_train)"
   ]
  },
  {
   "cell_type": "code",
   "execution_count": 205,
   "metadata": {},
   "outputs": [
    {
     "name": "stdout",
     "output_type": "stream",
     "text": [
      "LogisticRegression(class_weight='balanced', max_iter=20, solver='liblinear')\n"
     ]
    }
   ],
   "source": [
    "print(grid_search.best_estimator_)"
   ]
  },
  {
   "cell_type": "code",
   "execution_count": 206,
   "metadata": {},
   "outputs": [],
   "source": [
    "lr_pred=grid_search.predict(X_test)"
   ]
  },
  {
   "cell_type": "code",
   "execution_count": 207,
   "metadata": {},
   "outputs": [
    {
     "name": "stdout",
     "output_type": "stream",
     "text": [
      "              precision    recall  f1-score   support\n",
      "\n",
      "        down       0.40      0.29      0.33         7\n",
      "          up       0.75      0.83      0.79        18\n",
      "\n",
      "    accuracy                           0.68        25\n",
      "   macro avg       0.57      0.56      0.56        25\n",
      "weighted avg       0.65      0.68      0.66        25\n",
      "\n"
     ]
    }
   ],
   "source": [
    "print(classification_report(y_test,lr_pred))"
   ]
  },
  {
   "cell_type": "code",
   "execution_count": 208,
   "metadata": {},
   "outputs": [],
   "source": [
    "from imblearn.over_sampling import SMOTE"
   ]
  },
  {
   "cell_type": "code",
   "execution_count": 214,
   "metadata": {},
   "outputs": [],
   "source": [
    "smote = SMOTE(random_state=42)\n",
    "X_oversample, y_oversample = smote.fit_resample(X_train, y_train)"
   ]
  },
  {
   "cell_type": "code",
   "execution_count": 215,
   "metadata": {},
   "outputs": [
    {
     "data": {
      "text/plain": [
       "LogisticRegression()"
      ]
     },
     "execution_count": 215,
     "metadata": {},
     "output_type": "execute_result"
    }
   ],
   "source": [
    "classifier_o = LogisticRegression()"
   ]
  },
  {
   "cell_type": "code",
   "execution_count": null,
   "metadata": {},
   "outputs": [],
   "source": [
    "classifier_o.fit(X_oversample, y_oversample)"
   ]
  },
  {
   "cell_type": "code",
   "execution_count": 216,
   "metadata": {},
   "outputs": [
    {
     "name": "stdout",
     "output_type": "stream",
     "text": [
      "              precision    recall  f1-score   support\n",
      "\n",
      "        down       0.40      0.29      0.33         7\n",
      "          up       0.75      0.83      0.79        18\n",
      "\n",
      "    accuracy                           0.68        25\n",
      "   macro avg       0.57      0.56      0.56        25\n",
      "weighted avg       0.65      0.68      0.66        25\n",
      "\n"
     ]
    }
   ],
   "source": [
    "print(classification_report(y_test, classifier_o.predict(X_test)))"
   ]
  },
  {
   "cell_type": "code",
   "execution_count": 217,
   "metadata": {},
   "outputs": [],
   "source": [
    "from imblearn.over_sampling import SMOTENC"
   ]
  },
  {
   "cell_type": "code",
   "execution_count": 218,
   "metadata": {},
   "outputs": [],
   "source": [
    "smotenc = SMOTENC([1],random_state = 42)\n",
    "X_oversample, y_oversample = smotenc.fit_resample(X_train, y_train)"
   ]
  },
  {
   "cell_type": "code",
   "execution_count": null,
   "metadata": {},
   "outputs": [],
   "source": [
    "classifier = LogisticRegression()\n",
    "classifier.fit(X_train, y_train)\n",
    "print(classification_report(y_test, classifier.predict(X_test)))"
   ]
  },
  {
   "cell_type": "code",
   "execution_count": 220,
   "metadata": {},
   "outputs": [],
   "source": [
    "from imblearn.combine import SMOTEENN"
   ]
  },
  {
   "cell_type": "code",
   "execution_count": 221,
   "metadata": {},
   "outputs": [],
   "source": [
    "smenn=SMOTEENN()"
   ]
  },
  {
   "cell_type": "code",
   "execution_count": 222,
   "metadata": {},
   "outputs": [],
   "source": [
    "X_train_smenn,y_train_smenn=smenn.fit_resample(X_train,y_train)"
   ]
  },
  {
   "cell_type": "code",
   "execution_count": 223,
   "metadata": {},
   "outputs": [
    {
     "name": "stdout",
     "output_type": "stream",
     "text": [
      "              precision    recall  f1-score   support\n",
      "\n",
      "        down       0.33      0.43      0.38         7\n",
      "          up       0.75      0.67      0.71        18\n",
      "\n",
      "    accuracy                           0.60        25\n",
      "   macro avg       0.54      0.55      0.54        25\n",
      "weighted avg       0.63      0.60      0.61        25\n",
      "\n"
     ]
    }
   ],
   "source": [
    "classifier = LogisticRegression()\n",
    "classifier.fit(X_train_smenn, y_train_smenn)\n",
    "print(classification_report(y_test, classifier.predict(X_test)))"
   ]
  },
  {
   "cell_type": "code",
   "execution_count": 228,
   "metadata": {},
   "outputs": [
    {
     "name": "stdout",
     "output_type": "stream",
     "text": [
      "              precision    recall  f1-score   support\n",
      "\n",
      "        down       0.20      0.14      0.17         7\n",
      "          up       0.70      0.78      0.74        18\n",
      "\n",
      "    accuracy                           0.60        25\n",
      "   macro avg       0.45      0.46      0.45        25\n",
      "weighted avg       0.56      0.60      0.58        25\n",
      "\n"
     ]
    }
   ],
   "source": [
    "classifier = RandomForestClassifier()\n",
    "classifier.fit(X_train_smenn, y_train_smenn)\n",
    "print(classification_report(y_test, classifier.predict(X_test)))"
   ]
  },
  {
   "cell_type": "code",
   "execution_count": 224,
   "metadata": {},
   "outputs": [],
   "source": [
    "from imblearn.combine import SMOTETomek"
   ]
  },
  {
   "cell_type": "code",
   "execution_count": 225,
   "metadata": {},
   "outputs": [],
   "source": [
    "st=SMOTETomek()"
   ]
  },
  {
   "cell_type": "code",
   "execution_count": 226,
   "metadata": {},
   "outputs": [],
   "source": [
    "X_train_st,y_train_st=st.fit_resample(X_train,y_train)"
   ]
  },
  {
   "cell_type": "code",
   "execution_count": 227,
   "metadata": {},
   "outputs": [
    {
     "name": "stdout",
     "output_type": "stream",
     "text": [
      "              precision    recall  f1-score   support\n",
      "\n",
      "        down       0.25      0.14      0.18         7\n",
      "          up       0.71      0.83      0.77        18\n",
      "\n",
      "    accuracy                           0.64        25\n",
      "   macro avg       0.48      0.49      0.48        25\n",
      "weighted avg       0.58      0.64      0.60        25\n",
      "\n"
     ]
    }
   ],
   "source": [
    "classifier = LogisticRegression()\n",
    "classifier.fit(X_train_st, y_train_st)\n",
    "print(classification_report(y_test, classifier.predict(X_test)))"
   ]
  },
  {
   "cell_type": "code",
   "execution_count": 229,
   "metadata": {},
   "outputs": [
    {
     "name": "stdout",
     "output_type": "stream",
     "text": [
      "              precision    recall  f1-score   support\n",
      "\n",
      "        down       0.33      0.43      0.38         7\n",
      "          up       0.75      0.67      0.71        18\n",
      "\n",
      "    accuracy                           0.60        25\n",
      "   macro avg       0.54      0.55      0.54        25\n",
      "weighted avg       0.63      0.60      0.61        25\n",
      "\n"
     ]
    }
   ],
   "source": [
    "classifier = RandomForestClassifier()\n",
    "classifier.fit(X_train_st, y_train_st)\n",
    "print(classification_report(y_test, classifier.predict(X_test)))"
   ]
  },
  {
   "cell_type": "code",
   "execution_count": null,
   "metadata": {},
   "outputs": [],
   "source": []
  }
 ],
 "metadata": {
  "kernelspec": {
   "display_name": "Python 3",
   "language": "python",
   "name": "python3"
  },
  "language_info": {
   "codemirror_mode": {
    "name": "ipython",
    "version": 3
   },
   "file_extension": ".py",
   "mimetype": "text/x-python",
   "name": "python",
   "nbconvert_exporter": "python",
   "pygments_lexer": "ipython3",
   "version": "3.8.3"
  }
 },
 "nbformat": 4,
 "nbformat_minor": 4
}
