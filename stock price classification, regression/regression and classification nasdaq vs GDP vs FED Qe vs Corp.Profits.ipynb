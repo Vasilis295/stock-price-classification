{
 "cells": [
  {
   "cell_type": "code",
   "execution_count": 1,
   "metadata": {},
   "outputs": [],
   "source": [
    "import numpy as np\n",
    "import pandas as pd"
   ]
  },
  {
   "cell_type": "code",
   "execution_count": 2,
   "metadata": {},
   "outputs": [],
   "source": [
    "df=pd.read_csv('NASDAQCOM.csv')"
   ]
  },
  {
   "cell_type": "code",
   "execution_count": 3,
   "metadata": {},
   "outputs": [
    {
     "data": {
      "text/html": [
       "<div>\n",
       "<style scoped>\n",
       "    .dataframe tbody tr th:only-of-type {\n",
       "        vertical-align: middle;\n",
       "    }\n",
       "\n",
       "    .dataframe tbody tr th {\n",
       "        vertical-align: top;\n",
       "    }\n",
       "\n",
       "    .dataframe thead th {\n",
       "        text-align: right;\n",
       "    }\n",
       "</style>\n",
       "<table border=\"1\" class=\"dataframe\">\n",
       "  <thead>\n",
       "    <tr style=\"text-align: right;\">\n",
       "      <th></th>\n",
       "      <th>DATE</th>\n",
       "      <th>NASDAQCOM</th>\n",
       "    </tr>\n",
       "  </thead>\n",
       "  <tbody>\n",
       "    <tr>\n",
       "      <th>0</th>\n",
       "      <td>1971-02-05</td>\n",
       "      <td>100.00</td>\n",
       "    </tr>\n",
       "    <tr>\n",
       "      <th>1</th>\n",
       "      <td>1971-02-08</td>\n",
       "      <td>100.84</td>\n",
       "    </tr>\n",
       "    <tr>\n",
       "      <th>2</th>\n",
       "      <td>1971-02-09</td>\n",
       "      <td>100.76</td>\n",
       "    </tr>\n",
       "    <tr>\n",
       "      <th>3</th>\n",
       "      <td>1971-02-10</td>\n",
       "      <td>100.69</td>\n",
       "    </tr>\n",
       "    <tr>\n",
       "      <th>4</th>\n",
       "      <td>1971-02-11</td>\n",
       "      <td>101.45</td>\n",
       "    </tr>\n",
       "  </tbody>\n",
       "</table>\n",
       "</div>"
      ],
      "text/plain": [
       "         DATE NASDAQCOM\n",
       "0  1971-02-05    100.00\n",
       "1  1971-02-08    100.84\n",
       "2  1971-02-09    100.76\n",
       "3  1971-02-10    100.69\n",
       "4  1971-02-11    101.45"
      ]
     },
     "execution_count": 3,
     "metadata": {},
     "output_type": "execute_result"
    }
   ],
   "source": [
    "df.head()"
   ]
  },
  {
   "cell_type": "code",
   "execution_count": 4,
   "metadata": {},
   "outputs": [],
   "source": [
    "from datetime import datetime"
   ]
  },
  {
   "cell_type": "code",
   "execution_count": 5,
   "metadata": {},
   "outputs": [],
   "source": [
    "df['DATE']=pd.to_datetime(df['DATE'])"
   ]
  },
  {
   "cell_type": "code",
   "execution_count": 6,
   "metadata": {},
   "outputs": [],
   "source": [
    "df.set_index('DATE', inplace=True)"
   ]
  },
  {
   "cell_type": "code",
   "execution_count": 7,
   "metadata": {},
   "outputs": [],
   "source": [
    "df['NASDAQCOM']=df['NASDAQCOM'].str.split('.')"
   ]
  },
  {
   "cell_type": "code",
   "execution_count": 8,
   "metadata": {},
   "outputs": [
    {
     "data": {
      "text/plain": [
       "DATE\n",
       "1971-02-05    [100, 00]\n",
       "1971-02-08    [100, 84]\n",
       "1971-02-09    [100, 76]\n",
       "1971-02-10    [100, 69]\n",
       "1971-02-11    [101, 45]\n",
       "Name: NASDAQCOM, dtype: object"
      ]
     },
     "execution_count": 8,
     "metadata": {},
     "output_type": "execute_result"
    }
   ],
   "source": [
    "df['NASDAQCOM'].head()"
   ]
  },
  {
   "cell_type": "code",
   "execution_count": 9,
   "metadata": {},
   "outputs": [],
   "source": [
    "df['NASDAQCOM']=df['NASDAQCOM'].str[0]"
   ]
  },
  {
   "cell_type": "code",
   "execution_count": 10,
   "metadata": {},
   "outputs": [],
   "source": [
    "df['NASDAQCOM']=pd.to_numeric(df['NASDAQCOM'])"
   ]
  },
  {
   "cell_type": "code",
   "execution_count": 11,
   "metadata": {},
   "outputs": [],
   "source": [
    "df_q=df.resample('QS').mean()"
   ]
  },
  {
   "cell_type": "code",
   "execution_count": 12,
   "metadata": {},
   "outputs": [
    {
     "data": {
      "text/plain": [
       "NASDAQCOM    443\n",
       "dtype: int64"
      ]
     },
     "execution_count": 12,
     "metadata": {},
     "output_type": "execute_result"
    }
   ],
   "source": [
    "df.isnull().sum()"
   ]
  },
  {
   "cell_type": "code",
   "execution_count": 13,
   "metadata": {},
   "outputs": [
    {
     "name": "stdout",
     "output_type": "stream",
     "text": [
      "<class 'pandas.core.frame.DataFrame'>\n",
      "DatetimeIndex: 206 entries, 1971-01-01 to 2022-04-01\n",
      "Freq: QS-JAN\n",
      "Data columns (total 1 columns):\n",
      " #   Column     Non-Null Count  Dtype  \n",
      "---  ------     --------------  -----  \n",
      " 0   NASDAQCOM  206 non-null    float64\n",
      "dtypes: float64(1)\n",
      "memory usage: 3.2 KB\n"
     ]
    }
   ],
   "source": [
    "df_q.info()"
   ]
  },
  {
   "cell_type": "code",
   "execution_count": 14,
   "metadata": {},
   "outputs": [],
   "source": [
    "df_q=df_q.round(0)"
   ]
  },
  {
   "cell_type": "code",
   "execution_count": 15,
   "metadata": {},
   "outputs": [],
   "source": [
    "df_q=df_q.reset_index()"
   ]
  },
  {
   "cell_type": "code",
   "execution_count": 16,
   "metadata": {},
   "outputs": [],
   "source": [
    "df_q=df_q[df_q['DATE']>'2012-09-30']"
   ]
  },
  {
   "cell_type": "code",
   "execution_count": 17,
   "metadata": {},
   "outputs": [
    {
     "data": {
      "text/html": [
       "<div>\n",
       "<style scoped>\n",
       "    .dataframe tbody tr th:only-of-type {\n",
       "        vertical-align: middle;\n",
       "    }\n",
       "\n",
       "    .dataframe tbody tr th {\n",
       "        vertical-align: top;\n",
       "    }\n",
       "\n",
       "    .dataframe thead th {\n",
       "        text-align: right;\n",
       "    }\n",
       "</style>\n",
       "<table border=\"1\" class=\"dataframe\">\n",
       "  <thead>\n",
       "    <tr style=\"text-align: right;\">\n",
       "      <th></th>\n",
       "      <th>DATE</th>\n",
       "      <th>NASDAQCOM</th>\n",
       "    </tr>\n",
       "  </thead>\n",
       "  <tbody>\n",
       "    <tr>\n",
       "      <th>167</th>\n",
       "      <td>2012-10-01</td>\n",
       "      <td>3001.0</td>\n",
       "    </tr>\n",
       "    <tr>\n",
       "      <th>168</th>\n",
       "      <td>2013-01-01</td>\n",
       "      <td>3176.0</td>\n",
       "    </tr>\n",
       "    <tr>\n",
       "      <th>169</th>\n",
       "      <td>2013-04-01</td>\n",
       "      <td>3368.0</td>\n",
       "    </tr>\n",
       "    <tr>\n",
       "      <th>170</th>\n",
       "      <td>2013-07-01</td>\n",
       "      <td>3640.0</td>\n",
       "    </tr>\n",
       "    <tr>\n",
       "      <th>171</th>\n",
       "      <td>2013-10-01</td>\n",
       "      <td>3957.0</td>\n",
       "    </tr>\n",
       "  </tbody>\n",
       "</table>\n",
       "</div>"
      ],
      "text/plain": [
       "          DATE  NASDAQCOM\n",
       "167 2012-10-01     3001.0\n",
       "168 2013-01-01     3176.0\n",
       "169 2013-04-01     3368.0\n",
       "170 2013-07-01     3640.0\n",
       "171 2013-10-01     3957.0"
      ]
     },
     "execution_count": 17,
     "metadata": {},
     "output_type": "execute_result"
    }
   ],
   "source": [
    "df_q.head()"
   ]
  },
  {
   "cell_type": "code",
   "execution_count": 18,
   "metadata": {},
   "outputs": [
    {
     "data": {
      "text/plain": [
       "(39, 2)"
      ]
     },
     "execution_count": 18,
     "metadata": {},
     "output_type": "execute_result"
    }
   ],
   "source": [
    "df_q.shape"
   ]
  },
  {
   "cell_type": "code",
   "execution_count": 19,
   "metadata": {},
   "outputs": [],
   "source": [
    "df3=pd.read_csv('CP.csv')"
   ]
  },
  {
   "cell_type": "code",
   "execution_count": 20,
   "metadata": {},
   "outputs": [
    {
     "data": {
      "text/html": [
       "<div>\n",
       "<style scoped>\n",
       "    .dataframe tbody tr th:only-of-type {\n",
       "        vertical-align: middle;\n",
       "    }\n",
       "\n",
       "    .dataframe tbody tr th {\n",
       "        vertical-align: top;\n",
       "    }\n",
       "\n",
       "    .dataframe thead th {\n",
       "        text-align: right;\n",
       "    }\n",
       "</style>\n",
       "<table border=\"1\" class=\"dataframe\">\n",
       "  <thead>\n",
       "    <tr style=\"text-align: right;\">\n",
       "      <th></th>\n",
       "      <th>DATE</th>\n",
       "      <th>CP</th>\n",
       "    </tr>\n",
       "  </thead>\n",
       "  <tbody>\n",
       "    <tr>\n",
       "      <th>0</th>\n",
       "      <td>1947-01-01</td>\n",
       "      <td>21.970</td>\n",
       "    </tr>\n",
       "    <tr>\n",
       "      <th>1</th>\n",
       "      <td>1947-04-01</td>\n",
       "      <td>20.788</td>\n",
       "    </tr>\n",
       "    <tr>\n",
       "      <th>2</th>\n",
       "      <td>1947-07-01</td>\n",
       "      <td>20.564</td>\n",
       "    </tr>\n",
       "    <tr>\n",
       "      <th>3</th>\n",
       "      <td>1947-10-01</td>\n",
       "      <td>22.451</td>\n",
       "    </tr>\n",
       "    <tr>\n",
       "      <th>4</th>\n",
       "      <td>1948-01-01</td>\n",
       "      <td>23.739</td>\n",
       "    </tr>\n",
       "  </tbody>\n",
       "</table>\n",
       "</div>"
      ],
      "text/plain": [
       "         DATE      CP\n",
       "0  1947-01-01  21.970\n",
       "1  1947-04-01  20.788\n",
       "2  1947-07-01  20.564\n",
       "3  1947-10-01  22.451\n",
       "4  1948-01-01  23.739"
      ]
     },
     "execution_count": 20,
     "metadata": {},
     "output_type": "execute_result"
    }
   ],
   "source": [
    "df3.head()"
   ]
  },
  {
   "cell_type": "code",
   "execution_count": 21,
   "metadata": {},
   "outputs": [
    {
     "data": {
      "text/plain": [
       "DATE    0\n",
       "CP      0\n",
       "dtype: int64"
      ]
     },
     "execution_count": 21,
     "metadata": {},
     "output_type": "execute_result"
    }
   ],
   "source": [
    "df3.isnull().sum()"
   ]
  },
  {
   "cell_type": "code",
   "execution_count": 22,
   "metadata": {},
   "outputs": [],
   "source": [
    "df3=df3[df3['DATE']>'2012-09-30']"
   ]
  },
  {
   "cell_type": "code",
   "execution_count": 23,
   "metadata": {},
   "outputs": [],
   "source": [
    "df3=df3.round(0)"
   ]
  },
  {
   "cell_type": "code",
   "execution_count": 24,
   "metadata": {},
   "outputs": [
    {
     "data": {
      "text/html": [
       "<div>\n",
       "<style scoped>\n",
       "    .dataframe tbody tr th:only-of-type {\n",
       "        vertical-align: middle;\n",
       "    }\n",
       "\n",
       "    .dataframe tbody tr th {\n",
       "        vertical-align: top;\n",
       "    }\n",
       "\n",
       "    .dataframe thead th {\n",
       "        text-align: right;\n",
       "    }\n",
       "</style>\n",
       "<table border=\"1\" class=\"dataframe\">\n",
       "  <thead>\n",
       "    <tr style=\"text-align: right;\">\n",
       "      <th></th>\n",
       "      <th>DATE</th>\n",
       "      <th>CP</th>\n",
       "    </tr>\n",
       "  </thead>\n",
       "  <tbody>\n",
       "    <tr>\n",
       "      <th>263</th>\n",
       "      <td>2012-10-01</td>\n",
       "      <td>1786.0</td>\n",
       "    </tr>\n",
       "    <tr>\n",
       "      <th>264</th>\n",
       "      <td>2013-01-01</td>\n",
       "      <td>1766.0</td>\n",
       "    </tr>\n",
       "    <tr>\n",
       "      <th>265</th>\n",
       "      <td>2013-04-01</td>\n",
       "      <td>1758.0</td>\n",
       "    </tr>\n",
       "    <tr>\n",
       "      <th>266</th>\n",
       "      <td>2013-07-01</td>\n",
       "      <td>1793.0</td>\n",
       "    </tr>\n",
       "    <tr>\n",
       "      <th>267</th>\n",
       "      <td>2013-10-01</td>\n",
       "      <td>1839.0</td>\n",
       "    </tr>\n",
       "  </tbody>\n",
       "</table>\n",
       "</div>"
      ],
      "text/plain": [
       "           DATE      CP\n",
       "263  2012-10-01  1786.0\n",
       "264  2013-01-01  1766.0\n",
       "265  2013-04-01  1758.0\n",
       "266  2013-07-01  1793.0\n",
       "267  2013-10-01  1839.0"
      ]
     },
     "execution_count": 24,
     "metadata": {},
     "output_type": "execute_result"
    }
   ],
   "source": [
    "df3.head()"
   ]
  },
  {
   "cell_type": "code",
   "execution_count": 25,
   "metadata": {},
   "outputs": [
    {
     "data": {
      "text/plain": [
       "(37, 2)"
      ]
     },
     "execution_count": 25,
     "metadata": {},
     "output_type": "execute_result"
    }
   ],
   "source": [
    "df3.shape"
   ]
  },
  {
   "cell_type": "code",
   "execution_count": 26,
   "metadata": {},
   "outputs": [],
   "source": [
    "df2=pd.read_csv('GDP (1).csv')"
   ]
  },
  {
   "cell_type": "code",
   "execution_count": 27,
   "metadata": {},
   "outputs": [
    {
     "data": {
      "text/html": [
       "<div>\n",
       "<style scoped>\n",
       "    .dataframe tbody tr th:only-of-type {\n",
       "        vertical-align: middle;\n",
       "    }\n",
       "\n",
       "    .dataframe tbody tr th {\n",
       "        vertical-align: top;\n",
       "    }\n",
       "\n",
       "    .dataframe thead th {\n",
       "        text-align: right;\n",
       "    }\n",
       "</style>\n",
       "<table border=\"1\" class=\"dataframe\">\n",
       "  <thead>\n",
       "    <tr style=\"text-align: right;\">\n",
       "      <th></th>\n",
       "      <th>DATE</th>\n",
       "      <th>GDP</th>\n",
       "    </tr>\n",
       "  </thead>\n",
       "  <tbody>\n",
       "    <tr>\n",
       "      <th>0</th>\n",
       "      <td>1947-01-01</td>\n",
       "      <td>243.164</td>\n",
       "    </tr>\n",
       "    <tr>\n",
       "      <th>1</th>\n",
       "      <td>1947-04-01</td>\n",
       "      <td>245.968</td>\n",
       "    </tr>\n",
       "    <tr>\n",
       "      <th>2</th>\n",
       "      <td>1947-07-01</td>\n",
       "      <td>249.585</td>\n",
       "    </tr>\n",
       "    <tr>\n",
       "      <th>3</th>\n",
       "      <td>1947-10-01</td>\n",
       "      <td>259.745</td>\n",
       "    </tr>\n",
       "    <tr>\n",
       "      <th>4</th>\n",
       "      <td>1948-01-01</td>\n",
       "      <td>265.742</td>\n",
       "    </tr>\n",
       "  </tbody>\n",
       "</table>\n",
       "</div>"
      ],
      "text/plain": [
       "         DATE      GDP\n",
       "0  1947-01-01  243.164\n",
       "1  1947-04-01  245.968\n",
       "2  1947-07-01  249.585\n",
       "3  1947-10-01  259.745\n",
       "4  1948-01-01  265.742"
      ]
     },
     "execution_count": 27,
     "metadata": {},
     "output_type": "execute_result"
    }
   ],
   "source": [
    "df2.head()"
   ]
  },
  {
   "cell_type": "code",
   "execution_count": 28,
   "metadata": {},
   "outputs": [
    {
     "data": {
      "text/plain": [
       "DATE    0\n",
       "GDP     0\n",
       "dtype: int64"
      ]
     },
     "execution_count": 28,
     "metadata": {},
     "output_type": "execute_result"
    }
   ],
   "source": [
    "df2.isnull().sum()"
   ]
  },
  {
   "cell_type": "code",
   "execution_count": 29,
   "metadata": {},
   "outputs": [],
   "source": [
    "df2=df2[df2['DATE']>'2012-09-30']"
   ]
  },
  {
   "cell_type": "code",
   "execution_count": 30,
   "metadata": {},
   "outputs": [],
   "source": [
    "df2=df2.round(0)"
   ]
  },
  {
   "cell_type": "code",
   "execution_count": 31,
   "metadata": {},
   "outputs": [
    {
     "data": {
      "text/html": [
       "<div>\n",
       "<style scoped>\n",
       "    .dataframe tbody tr th:only-of-type {\n",
       "        vertical-align: middle;\n",
       "    }\n",
       "\n",
       "    .dataframe tbody tr th {\n",
       "        vertical-align: top;\n",
       "    }\n",
       "\n",
       "    .dataframe thead th {\n",
       "        text-align: right;\n",
       "    }\n",
       "</style>\n",
       "<table border=\"1\" class=\"dataframe\">\n",
       "  <thead>\n",
       "    <tr style=\"text-align: right;\">\n",
       "      <th></th>\n",
       "      <th>DATE</th>\n",
       "      <th>GDP</th>\n",
       "    </tr>\n",
       "  </thead>\n",
       "  <tbody>\n",
       "    <tr>\n",
       "      <th>263</th>\n",
       "      <td>2012-10-01</td>\n",
       "      <td>16420.0</td>\n",
       "    </tr>\n",
       "    <tr>\n",
       "      <th>264</th>\n",
       "      <td>2013-01-01</td>\n",
       "      <td>16629.0</td>\n",
       "    </tr>\n",
       "    <tr>\n",
       "      <th>265</th>\n",
       "      <td>2013-04-01</td>\n",
       "      <td>16700.0</td>\n",
       "    </tr>\n",
       "    <tr>\n",
       "      <th>266</th>\n",
       "      <td>2013-07-01</td>\n",
       "      <td>16911.0</td>\n",
       "    </tr>\n",
       "    <tr>\n",
       "      <th>267</th>\n",
       "      <td>2013-10-01</td>\n",
       "      <td>17133.0</td>\n",
       "    </tr>\n",
       "  </tbody>\n",
       "</table>\n",
       "</div>"
      ],
      "text/plain": [
       "           DATE      GDP\n",
       "263  2012-10-01  16420.0\n",
       "264  2013-01-01  16629.0\n",
       "265  2013-04-01  16700.0\n",
       "266  2013-07-01  16911.0\n",
       "267  2013-10-01  17133.0"
      ]
     },
     "execution_count": 31,
     "metadata": {},
     "output_type": "execute_result"
    }
   ],
   "source": [
    "df2.head()"
   ]
  },
  {
   "cell_type": "code",
   "execution_count": 32,
   "metadata": {},
   "outputs": [],
   "source": [
    "df1=pd.read_csv('WALCL.csv')"
   ]
  },
  {
   "cell_type": "code",
   "execution_count": 33,
   "metadata": {},
   "outputs": [],
   "source": [
    "df1['DATE']=pd.to_datetime(df1['DATE'])"
   ]
  },
  {
   "cell_type": "code",
   "execution_count": 34,
   "metadata": {},
   "outputs": [
    {
     "name": "stdout",
     "output_type": "stream",
     "text": [
      "<class 'pandas.core.frame.DataFrame'>\n",
      "RangeIndex: 1010 entries, 0 to 1009\n",
      "Data columns (total 2 columns):\n",
      " #   Column  Non-Null Count  Dtype         \n",
      "---  ------  --------------  -----         \n",
      " 0   DATE    1010 non-null   datetime64[ns]\n",
      " 1   WALCL   1010 non-null   float64       \n",
      "dtypes: datetime64[ns](1), float64(1)\n",
      "memory usage: 15.9 KB\n"
     ]
    }
   ],
   "source": [
    "df1.info()"
   ]
  },
  {
   "cell_type": "code",
   "execution_count": 35,
   "metadata": {},
   "outputs": [],
   "source": [
    "df1.set_index('DATE', inplace=True)"
   ]
  },
  {
   "cell_type": "code",
   "execution_count": 36,
   "metadata": {},
   "outputs": [],
   "source": [
    "df1q=df1.resample('QS').mean()"
   ]
  },
  {
   "cell_type": "code",
   "execution_count": 37,
   "metadata": {},
   "outputs": [
    {
     "data": {
      "text/plain": [
       "WALCL    0\n",
       "dtype: int64"
      ]
     },
     "execution_count": 37,
     "metadata": {},
     "output_type": "execute_result"
    }
   ],
   "source": [
    "df1.isnull().sum()"
   ]
  },
  {
   "cell_type": "code",
   "execution_count": 38,
   "metadata": {},
   "outputs": [],
   "source": [
    "df1q=df1q.reset_index()"
   ]
  },
  {
   "cell_type": "code",
   "execution_count": 39,
   "metadata": {},
   "outputs": [],
   "source": [
    "df1q=df1q.round(0)"
   ]
  },
  {
   "cell_type": "code",
   "execution_count": 40,
   "metadata": {},
   "outputs": [
    {
     "data": {
      "text/html": [
       "<div>\n",
       "<style scoped>\n",
       "    .dataframe tbody tr th:only-of-type {\n",
       "        vertical-align: middle;\n",
       "    }\n",
       "\n",
       "    .dataframe tbody tr th {\n",
       "        vertical-align: top;\n",
       "    }\n",
       "\n",
       "    .dataframe thead th {\n",
       "        text-align: right;\n",
       "    }\n",
       "</style>\n",
       "<table border=\"1\" class=\"dataframe\">\n",
       "  <thead>\n",
       "    <tr style=\"text-align: right;\">\n",
       "      <th></th>\n",
       "      <th>DATE</th>\n",
       "      <th>WALCL</th>\n",
       "    </tr>\n",
       "  </thead>\n",
       "  <tbody>\n",
       "    <tr>\n",
       "      <th>0</th>\n",
       "      <td>2002-10-01</td>\n",
       "      <td>725800.0</td>\n",
       "    </tr>\n",
       "    <tr>\n",
       "      <th>1</th>\n",
       "      <td>2003-01-01</td>\n",
       "      <td>723346.0</td>\n",
       "    </tr>\n",
       "    <tr>\n",
       "      <th>2</th>\n",
       "      <td>2003-04-01</td>\n",
       "      <td>737916.0</td>\n",
       "    </tr>\n",
       "    <tr>\n",
       "      <th>3</th>\n",
       "      <td>2003-07-01</td>\n",
       "      <td>741690.0</td>\n",
       "    </tr>\n",
       "    <tr>\n",
       "      <th>4</th>\n",
       "      <td>2003-10-01</td>\n",
       "      <td>751828.0</td>\n",
       "    </tr>\n",
       "  </tbody>\n",
       "</table>\n",
       "</div>"
      ],
      "text/plain": [
       "        DATE     WALCL\n",
       "0 2002-10-01  725800.0\n",
       "1 2003-01-01  723346.0\n",
       "2 2003-04-01  737916.0\n",
       "3 2003-07-01  741690.0\n",
       "4 2003-10-01  751828.0"
      ]
     },
     "execution_count": 40,
     "metadata": {},
     "output_type": "execute_result"
    }
   ],
   "source": [
    "df1q.head()"
   ]
  },
  {
   "cell_type": "code",
   "execution_count": 41,
   "metadata": {},
   "outputs": [
    {
     "data": {
      "text/plain": [
       "(79, 2)"
      ]
     },
     "execution_count": 41,
     "metadata": {},
     "output_type": "execute_result"
    }
   ],
   "source": [
    "df1q.shape"
   ]
  },
  {
   "cell_type": "code",
   "execution_count": 42,
   "metadata": {},
   "outputs": [],
   "source": [
    "df23=pd.merge(df2,df3)"
   ]
  },
  {
   "cell_type": "code",
   "execution_count": 43,
   "metadata": {},
   "outputs": [
    {
     "data": {
      "text/html": [
       "<div>\n",
       "<style scoped>\n",
       "    .dataframe tbody tr th:only-of-type {\n",
       "        vertical-align: middle;\n",
       "    }\n",
       "\n",
       "    .dataframe tbody tr th {\n",
       "        vertical-align: top;\n",
       "    }\n",
       "\n",
       "    .dataframe thead th {\n",
       "        text-align: right;\n",
       "    }\n",
       "</style>\n",
       "<table border=\"1\" class=\"dataframe\">\n",
       "  <thead>\n",
       "    <tr style=\"text-align: right;\">\n",
       "      <th></th>\n",
       "      <th>DATE</th>\n",
       "      <th>GDP</th>\n",
       "      <th>CP</th>\n",
       "    </tr>\n",
       "  </thead>\n",
       "  <tbody>\n",
       "    <tr>\n",
       "      <th>0</th>\n",
       "      <td>2012-10-01</td>\n",
       "      <td>16420.0</td>\n",
       "      <td>1786.0</td>\n",
       "    </tr>\n",
       "    <tr>\n",
       "      <th>1</th>\n",
       "      <td>2013-01-01</td>\n",
       "      <td>16629.0</td>\n",
       "      <td>1766.0</td>\n",
       "    </tr>\n",
       "    <tr>\n",
       "      <th>2</th>\n",
       "      <td>2013-04-01</td>\n",
       "      <td>16700.0</td>\n",
       "      <td>1758.0</td>\n",
       "    </tr>\n",
       "    <tr>\n",
       "      <th>3</th>\n",
       "      <td>2013-07-01</td>\n",
       "      <td>16911.0</td>\n",
       "      <td>1793.0</td>\n",
       "    </tr>\n",
       "    <tr>\n",
       "      <th>4</th>\n",
       "      <td>2013-10-01</td>\n",
       "      <td>17133.0</td>\n",
       "      <td>1839.0</td>\n",
       "    </tr>\n",
       "  </tbody>\n",
       "</table>\n",
       "</div>"
      ],
      "text/plain": [
       "         DATE      GDP      CP\n",
       "0  2012-10-01  16420.0  1786.0\n",
       "1  2013-01-01  16629.0  1766.0\n",
       "2  2013-04-01  16700.0  1758.0\n",
       "3  2013-07-01  16911.0  1793.0\n",
       "4  2013-10-01  17133.0  1839.0"
      ]
     },
     "execution_count": 43,
     "metadata": {},
     "output_type": "execute_result"
    }
   ],
   "source": [
    "df23.head()"
   ]
  },
  {
   "cell_type": "code",
   "execution_count": 44,
   "metadata": {},
   "outputs": [],
   "source": [
    "df23['DATE']=pd.to_datetime(df23['DATE'])"
   ]
  },
  {
   "cell_type": "code",
   "execution_count": 45,
   "metadata": {},
   "outputs": [],
   "source": [
    "df24=pd.merge(df23,df_q)"
   ]
  },
  {
   "cell_type": "code",
   "execution_count": 46,
   "metadata": {},
   "outputs": [
    {
     "data": {
      "text/html": [
       "<div>\n",
       "<style scoped>\n",
       "    .dataframe tbody tr th:only-of-type {\n",
       "        vertical-align: middle;\n",
       "    }\n",
       "\n",
       "    .dataframe tbody tr th {\n",
       "        vertical-align: top;\n",
       "    }\n",
       "\n",
       "    .dataframe thead th {\n",
       "        text-align: right;\n",
       "    }\n",
       "</style>\n",
       "<table border=\"1\" class=\"dataframe\">\n",
       "  <thead>\n",
       "    <tr style=\"text-align: right;\">\n",
       "      <th></th>\n",
       "      <th>DATE</th>\n",
       "      <th>GDP</th>\n",
       "      <th>CP</th>\n",
       "      <th>NASDAQCOM</th>\n",
       "    </tr>\n",
       "  </thead>\n",
       "  <tbody>\n",
       "    <tr>\n",
       "      <th>0</th>\n",
       "      <td>2012-10-01</td>\n",
       "      <td>16420.0</td>\n",
       "      <td>1786.0</td>\n",
       "      <td>3001.0</td>\n",
       "    </tr>\n",
       "    <tr>\n",
       "      <th>1</th>\n",
       "      <td>2013-01-01</td>\n",
       "      <td>16629.0</td>\n",
       "      <td>1766.0</td>\n",
       "      <td>3176.0</td>\n",
       "    </tr>\n",
       "    <tr>\n",
       "      <th>2</th>\n",
       "      <td>2013-04-01</td>\n",
       "      <td>16700.0</td>\n",
       "      <td>1758.0</td>\n",
       "      <td>3368.0</td>\n",
       "    </tr>\n",
       "    <tr>\n",
       "      <th>3</th>\n",
       "      <td>2013-07-01</td>\n",
       "      <td>16911.0</td>\n",
       "      <td>1793.0</td>\n",
       "      <td>3640.0</td>\n",
       "    </tr>\n",
       "    <tr>\n",
       "      <th>4</th>\n",
       "      <td>2013-10-01</td>\n",
       "      <td>17133.0</td>\n",
       "      <td>1839.0</td>\n",
       "      <td>3957.0</td>\n",
       "    </tr>\n",
       "  </tbody>\n",
       "</table>\n",
       "</div>"
      ],
      "text/plain": [
       "        DATE      GDP      CP  NASDAQCOM\n",
       "0 2012-10-01  16420.0  1786.0     3001.0\n",
       "1 2013-01-01  16629.0  1766.0     3176.0\n",
       "2 2013-04-01  16700.0  1758.0     3368.0\n",
       "3 2013-07-01  16911.0  1793.0     3640.0\n",
       "4 2013-10-01  17133.0  1839.0     3957.0"
      ]
     },
     "execution_count": 46,
     "metadata": {},
     "output_type": "execute_result"
    }
   ],
   "source": [
    "df24.head()"
   ]
  },
  {
   "cell_type": "code",
   "execution_count": 47,
   "metadata": {},
   "outputs": [
    {
     "data": {
      "text/plain": [
       "(37, 4)"
      ]
     },
     "execution_count": 47,
     "metadata": {},
     "output_type": "execute_result"
    }
   ],
   "source": [
    "df24.shape"
   ]
  },
  {
   "cell_type": "code",
   "execution_count": 48,
   "metadata": {},
   "outputs": [
    {
     "data": {
      "text/html": [
       "<div>\n",
       "<style scoped>\n",
       "    .dataframe tbody tr th:only-of-type {\n",
       "        vertical-align: middle;\n",
       "    }\n",
       "\n",
       "    .dataframe tbody tr th {\n",
       "        vertical-align: top;\n",
       "    }\n",
       "\n",
       "    .dataframe thead th {\n",
       "        text-align: right;\n",
       "    }\n",
       "</style>\n",
       "<table border=\"1\" class=\"dataframe\">\n",
       "  <thead>\n",
       "    <tr style=\"text-align: right;\">\n",
       "      <th></th>\n",
       "      <th>GDP</th>\n",
       "      <th>CP</th>\n",
       "      <th>NASDAQCOM</th>\n",
       "    </tr>\n",
       "  </thead>\n",
       "  <tbody>\n",
       "    <tr>\n",
       "      <th>GDP</th>\n",
       "      <td>1.000000</td>\n",
       "      <td>0.755995</td>\n",
       "      <td>0.926398</td>\n",
       "    </tr>\n",
       "    <tr>\n",
       "      <th>CP</th>\n",
       "      <td>0.755995</td>\n",
       "      <td>1.000000</td>\n",
       "      <td>0.856102</td>\n",
       "    </tr>\n",
       "    <tr>\n",
       "      <th>NASDAQCOM</th>\n",
       "      <td>0.926398</td>\n",
       "      <td>0.856102</td>\n",
       "      <td>1.000000</td>\n",
       "    </tr>\n",
       "  </tbody>\n",
       "</table>\n",
       "</div>"
      ],
      "text/plain": [
       "                GDP        CP  NASDAQCOM\n",
       "GDP        1.000000  0.755995   0.926398\n",
       "CP         0.755995  1.000000   0.856102\n",
       "NASDAQCOM  0.926398  0.856102   1.000000"
      ]
     },
     "execution_count": 48,
     "metadata": {},
     "output_type": "execute_result"
    }
   ],
   "source": [
    "df24.corr()"
   ]
  },
  {
   "cell_type": "code",
   "execution_count": 49,
   "metadata": {},
   "outputs": [],
   "source": [
    "df25=pd.merge(df24,df1q)"
   ]
  },
  {
   "cell_type": "code",
   "execution_count": 50,
   "metadata": {},
   "outputs": [
    {
     "data": {
      "text/html": [
       "<div>\n",
       "<style scoped>\n",
       "    .dataframe tbody tr th:only-of-type {\n",
       "        vertical-align: middle;\n",
       "    }\n",
       "\n",
       "    .dataframe tbody tr th {\n",
       "        vertical-align: top;\n",
       "    }\n",
       "\n",
       "    .dataframe thead th {\n",
       "        text-align: right;\n",
       "    }\n",
       "</style>\n",
       "<table border=\"1\" class=\"dataframe\">\n",
       "  <thead>\n",
       "    <tr style=\"text-align: right;\">\n",
       "      <th></th>\n",
       "      <th>DATE</th>\n",
       "      <th>GDP</th>\n",
       "      <th>CP</th>\n",
       "      <th>NASDAQCOM</th>\n",
       "      <th>WALCL</th>\n",
       "    </tr>\n",
       "  </thead>\n",
       "  <tbody>\n",
       "    <tr>\n",
       "      <th>0</th>\n",
       "      <td>2012-10-01</td>\n",
       "      <td>16420.0</td>\n",
       "      <td>1786.0</td>\n",
       "      <td>3001.0</td>\n",
       "      <td>2858947.0</td>\n",
       "    </tr>\n",
       "    <tr>\n",
       "      <th>1</th>\n",
       "      <td>2013-01-01</td>\n",
       "      <td>16629.0</td>\n",
       "      <td>1766.0</td>\n",
       "      <td>3176.0</td>\n",
       "      <td>3060648.0</td>\n",
       "    </tr>\n",
       "    <tr>\n",
       "      <th>2</th>\n",
       "      <td>2013-04-01</td>\n",
       "      <td>16700.0</td>\n",
       "      <td>1758.0</td>\n",
       "      <td>3368.0</td>\n",
       "      <td>3353623.0</td>\n",
       "    </tr>\n",
       "    <tr>\n",
       "      <th>3</th>\n",
       "      <td>2013-07-01</td>\n",
       "      <td>16911.0</td>\n",
       "      <td>1793.0</td>\n",
       "      <td>3640.0</td>\n",
       "      <td>3613485.0</td>\n",
       "    </tr>\n",
       "    <tr>\n",
       "      <th>4</th>\n",
       "      <td>2013-10-01</td>\n",
       "      <td>17133.0</td>\n",
       "      <td>1839.0</td>\n",
       "      <td>3957.0</td>\n",
       "      <td>3889295.0</td>\n",
       "    </tr>\n",
       "  </tbody>\n",
       "</table>\n",
       "</div>"
      ],
      "text/plain": [
       "        DATE      GDP      CP  NASDAQCOM      WALCL\n",
       "0 2012-10-01  16420.0  1786.0     3001.0  2858947.0\n",
       "1 2013-01-01  16629.0  1766.0     3176.0  3060648.0\n",
       "2 2013-04-01  16700.0  1758.0     3368.0  3353623.0\n",
       "3 2013-07-01  16911.0  1793.0     3640.0  3613485.0\n",
       "4 2013-10-01  17133.0  1839.0     3957.0  3889295.0"
      ]
     },
     "execution_count": 50,
     "metadata": {},
     "output_type": "execute_result"
    }
   ],
   "source": [
    "df25.head()"
   ]
  },
  {
   "cell_type": "code",
   "execution_count": 51,
   "metadata": {},
   "outputs": [
    {
     "data": {
      "text/html": [
       "<div>\n",
       "<style scoped>\n",
       "    .dataframe tbody tr th:only-of-type {\n",
       "        vertical-align: middle;\n",
       "    }\n",
       "\n",
       "    .dataframe tbody tr th {\n",
       "        vertical-align: top;\n",
       "    }\n",
       "\n",
       "    .dataframe thead th {\n",
       "        text-align: right;\n",
       "    }\n",
       "</style>\n",
       "<table border=\"1\" class=\"dataframe\">\n",
       "  <thead>\n",
       "    <tr style=\"text-align: right;\">\n",
       "      <th></th>\n",
       "      <th>GDP</th>\n",
       "      <th>CP</th>\n",
       "      <th>NASDAQCOM</th>\n",
       "      <th>WALCL</th>\n",
       "    </tr>\n",
       "  </thead>\n",
       "  <tbody>\n",
       "    <tr>\n",
       "      <th>GDP</th>\n",
       "      <td>1.000000</td>\n",
       "      <td>0.755995</td>\n",
       "      <td>0.926398</td>\n",
       "      <td>0.693463</td>\n",
       "    </tr>\n",
       "    <tr>\n",
       "      <th>CP</th>\n",
       "      <td>0.755995</td>\n",
       "      <td>1.000000</td>\n",
       "      <td>0.856102</td>\n",
       "      <td>0.783715</td>\n",
       "    </tr>\n",
       "    <tr>\n",
       "      <th>NASDAQCOM</th>\n",
       "      <td>0.926398</td>\n",
       "      <td>0.856102</td>\n",
       "      <td>1.000000</td>\n",
       "      <td>0.890090</td>\n",
       "    </tr>\n",
       "    <tr>\n",
       "      <th>WALCL</th>\n",
       "      <td>0.693463</td>\n",
       "      <td>0.783715</td>\n",
       "      <td>0.890090</td>\n",
       "      <td>1.000000</td>\n",
       "    </tr>\n",
       "  </tbody>\n",
       "</table>\n",
       "</div>"
      ],
      "text/plain": [
       "                GDP        CP  NASDAQCOM     WALCL\n",
       "GDP        1.000000  0.755995   0.926398  0.693463\n",
       "CP         0.755995  1.000000   0.856102  0.783715\n",
       "NASDAQCOM  0.926398  0.856102   1.000000  0.890090\n",
       "WALCL      0.693463  0.783715   0.890090  1.000000"
      ]
     },
     "execution_count": 51,
     "metadata": {},
     "output_type": "execute_result"
    }
   ],
   "source": [
    "df25.corr()"
   ]
  },
  {
   "cell_type": "code",
   "execution_count": 52,
   "metadata": {},
   "outputs": [
    {
     "data": {
      "text/plain": [
       "(37, 5)"
      ]
     },
     "execution_count": 52,
     "metadata": {},
     "output_type": "execute_result"
    }
   ],
   "source": [
    "df25.shape"
   ]
  },
  {
   "cell_type": "code",
   "execution_count": 53,
   "metadata": {},
   "outputs": [],
   "source": [
    "X=df25[['GDP','CP','WALCL']]"
   ]
  },
  {
   "cell_type": "code",
   "execution_count": 54,
   "metadata": {},
   "outputs": [],
   "source": [
    "y=df25['NASDAQCOM']"
   ]
  },
  {
   "cell_type": "code",
   "execution_count": 55,
   "metadata": {},
   "outputs": [],
   "source": [
    "import statsmodels\n",
    "import statsmodels.api as sm\n",
    "import matplotlib.pyplot as plt\n",
    "import seaborn as sns\n",
    "from sklearn.linear_model import LinearRegression\n",
    "from sklearn.model_selection import train_test_split\n",
    "from sklearn.preprocessing import StandardScaler"
   ]
  },
  {
   "cell_type": "code",
   "execution_count": 56,
   "metadata": {},
   "outputs": [],
   "source": [
    "from sklearn.preprocessing import MinMaxScaler\n",
    "\n",
    "scaler = MinMaxScaler(feature_range = (0,1))"
   ]
  },
  {
   "cell_type": "code",
   "execution_count": 57,
   "metadata": {},
   "outputs": [],
   "source": [
    "X_train, X_test, y_train, y_test = train_test_split(X, y, test_size=.20, random_state=1)"
   ]
  },
  {
   "cell_type": "code",
   "execution_count": 58,
   "metadata": {},
   "outputs": [],
   "source": [
    "scaler.fit(X_train)\n",
    "X_train = scaler.fit_transform(X_train)\n",
    "X_test = scaler.transform(X_test)"
   ]
  },
  {
   "cell_type": "code",
   "execution_count": 59,
   "metadata": {},
   "outputs": [
    {
     "data": {
      "text/plain": [
       "LinearRegression()"
      ]
     },
     "execution_count": 59,
     "metadata": {},
     "output_type": "execute_result"
    }
   ],
   "source": [
    "lr=LinearRegression()\n",
    "lr.fit(X,y)"
   ]
  },
  {
   "cell_type": "code",
   "execution_count": null,
   "metadata": {},
   "outputs": [],
   "source": [
    "lr_pred=lr.predict(X_test)"
   ]
  },
  {
   "cell_type": "code",
   "execution_count": 61,
   "metadata": {},
   "outputs": [
    {
     "data": {
      "text/plain": [
       "0.9797944303307612"
      ]
     },
     "execution_count": 61,
     "metadata": {},
     "output_type": "execute_result"
    }
   ],
   "source": [
    "lr.score(X,y)"
   ]
  },
  {
   "cell_type": "code",
   "execution_count": 62,
   "metadata": {},
   "outputs": [
    {
     "name": "stdout",
     "output_type": "stream",
     "text": [
      "                            OLS Regression Results                            \n",
      "==============================================================================\n",
      "Dep. Variable:              NASDAQCOM   R-squared:                       0.980\n",
      "Model:                            OLS   Adj. R-squared:                  0.978\n",
      "Method:                 Least Squares   F-statistic:                     533.4\n",
      "Date:                Sat, 30 Apr 2022   Prob (F-statistic):           5.09e-28\n",
      "Time:                        10:31:13   Log-Likelihood:                -279.95\n",
      "No. Observations:                  37   AIC:                             567.9\n",
      "Df Residuals:                      33   BIC:                             574.3\n",
      "Df Model:                           3                                         \n",
      "Covariance Type:            nonrobust                                         \n",
      "==============================================================================\n",
      "                 coef    std err          t      P>|t|      [0.025      0.975]\n",
      "------------------------------------------------------------------------------\n",
      "const      -1.819e+04    927.631    -19.614      0.000   -2.01e+04   -1.63e+04\n",
      "GDP            0.9218      0.065     14.138      0.000       0.789       1.054\n",
      "CP             1.2963      0.549      2.363      0.024       0.180       2.412\n",
      "WALCL          0.0010   9.42e-05     10.301      0.000       0.001       0.001\n",
      "==============================================================================\n",
      "Omnibus:                        2.765   Durbin-Watson:                   0.535\n",
      "Prob(Omnibus):                  0.251   Jarque-Bera (JB):                2.034\n",
      "Skew:                           0.403   Prob(JB):                        0.362\n",
      "Kurtosis:                       2.182   Cond. No.                     5.73e+07\n",
      "==============================================================================\n",
      "\n",
      "Notes:\n",
      "[1] Standard Errors assume that the covariance matrix of the errors is correctly specified.\n",
      "[2] The condition number is large, 5.73e+07. This might indicate that there are\n",
      "strong multicollinearity or other numerical problems.\n"
     ]
    }
   ],
   "source": [
    "X = sm.add_constant(X) # adding a constant\n",
    "\n",
    "model = sm.OLS(y, X).fit()\n",
    "predictions = model.predict(X) \n",
    "\n",
    "print(model.summary())"
   ]
  },
  {
   "cell_type": "code",
   "execution_count": 63,
   "metadata": {},
   "outputs": [
    {
     "name": "stdout",
     "output_type": "stream",
     "text": [
      "0.9946800859263429\n"
     ]
    }
   ],
   "source": [
    "from sklearn.preprocessing import PolynomialFeatures\n",
    "from sklearn import linear_model\n",
    "\n",
    "poly = PolynomialFeatures(degree=5, interaction_only=True)\n",
    "X_train5 = poly.fit_transform(X_train)\n",
    "X_test5 = poly.fit_transform(X_test)\n",
    "\n",
    "poly_clf = linear_model.LinearRegression()\n",
    "\n",
    "poly_clf.fit(X_train5, y_train)\n",
    "\n",
    "y_pred = poly_clf.predict(X_test5)\n",
    "\n",
    "print(poly_clf.score(X_train5, y_train))"
   ]
  },
  {
   "cell_type": "code",
   "execution_count": 64,
   "metadata": {},
   "outputs": [
    {
     "data": {
      "text/html": [
       "<div>\n",
       "<style scoped>\n",
       "    .dataframe tbody tr th:only-of-type {\n",
       "        vertical-align: middle;\n",
       "    }\n",
       "\n",
       "    .dataframe tbody tr th {\n",
       "        vertical-align: top;\n",
       "    }\n",
       "\n",
       "    .dataframe thead th {\n",
       "        text-align: right;\n",
       "    }\n",
       "</style>\n",
       "<table border=\"1\" class=\"dataframe\">\n",
       "  <thead>\n",
       "    <tr style=\"text-align: right;\">\n",
       "      <th></th>\n",
       "      <th>DATE</th>\n",
       "      <th>GDP</th>\n",
       "      <th>CP</th>\n",
       "      <th>NASDAQCOM</th>\n",
       "      <th>WALCL</th>\n",
       "    </tr>\n",
       "  </thead>\n",
       "  <tbody>\n",
       "    <tr>\n",
       "      <th>0</th>\n",
       "      <td>2012-10-01</td>\n",
       "      <td>16420.0</td>\n",
       "      <td>1786.0</td>\n",
       "      <td>3001.0</td>\n",
       "      <td>2858947.0</td>\n",
       "    </tr>\n",
       "    <tr>\n",
       "      <th>1</th>\n",
       "      <td>2013-01-01</td>\n",
       "      <td>16629.0</td>\n",
       "      <td>1766.0</td>\n",
       "      <td>3176.0</td>\n",
       "      <td>3060648.0</td>\n",
       "    </tr>\n",
       "    <tr>\n",
       "      <th>2</th>\n",
       "      <td>2013-04-01</td>\n",
       "      <td>16700.0</td>\n",
       "      <td>1758.0</td>\n",
       "      <td>3368.0</td>\n",
       "      <td>3353623.0</td>\n",
       "    </tr>\n",
       "    <tr>\n",
       "      <th>3</th>\n",
       "      <td>2013-07-01</td>\n",
       "      <td>16911.0</td>\n",
       "      <td>1793.0</td>\n",
       "      <td>3640.0</td>\n",
       "      <td>3613485.0</td>\n",
       "    </tr>\n",
       "    <tr>\n",
       "      <th>4</th>\n",
       "      <td>2013-10-01</td>\n",
       "      <td>17133.0</td>\n",
       "      <td>1839.0</td>\n",
       "      <td>3957.0</td>\n",
       "      <td>3889295.0</td>\n",
       "    </tr>\n",
       "  </tbody>\n",
       "</table>\n",
       "</div>"
      ],
      "text/plain": [
       "        DATE      GDP      CP  NASDAQCOM      WALCL\n",
       "0 2012-10-01  16420.0  1786.0     3001.0  2858947.0\n",
       "1 2013-01-01  16629.0  1766.0     3176.0  3060648.0\n",
       "2 2013-04-01  16700.0  1758.0     3368.0  3353623.0\n",
       "3 2013-07-01  16911.0  1793.0     3640.0  3613485.0\n",
       "4 2013-10-01  17133.0  1839.0     3957.0  3889295.0"
      ]
     },
     "execution_count": 64,
     "metadata": {},
     "output_type": "execute_result"
    }
   ],
   "source": [
    "df25.head()"
   ]
  },
  {
   "cell_type": "code",
   "execution_count": 65,
   "metadata": {},
   "outputs": [],
   "source": [
    "df25['open']=df24['NASDAQCOM'].shift()"
   ]
  },
  {
   "cell_type": "code",
   "execution_count": 66,
   "metadata": {},
   "outputs": [],
   "source": [
    "df25['diff']=df24['NASDAQCOM']-df25['open']"
   ]
  },
  {
   "cell_type": "code",
   "execution_count": 67,
   "metadata": {},
   "outputs": [
    {
     "data": {
      "text/html": [
       "<div>\n",
       "<style scoped>\n",
       "    .dataframe tbody tr th:only-of-type {\n",
       "        vertical-align: middle;\n",
       "    }\n",
       "\n",
       "    .dataframe tbody tr th {\n",
       "        vertical-align: top;\n",
       "    }\n",
       "\n",
       "    .dataframe thead th {\n",
       "        text-align: right;\n",
       "    }\n",
       "</style>\n",
       "<table border=\"1\" class=\"dataframe\">\n",
       "  <thead>\n",
       "    <tr style=\"text-align: right;\">\n",
       "      <th></th>\n",
       "      <th>DATE</th>\n",
       "      <th>GDP</th>\n",
       "      <th>CP</th>\n",
       "      <th>NASDAQCOM</th>\n",
       "      <th>WALCL</th>\n",
       "      <th>open</th>\n",
       "      <th>diff</th>\n",
       "    </tr>\n",
       "  </thead>\n",
       "  <tbody>\n",
       "    <tr>\n",
       "      <th>0</th>\n",
       "      <td>2012-10-01</td>\n",
       "      <td>16420.0</td>\n",
       "      <td>1786.0</td>\n",
       "      <td>3001.0</td>\n",
       "      <td>2858947.0</td>\n",
       "      <td>NaN</td>\n",
       "      <td>NaN</td>\n",
       "    </tr>\n",
       "    <tr>\n",
       "      <th>1</th>\n",
       "      <td>2013-01-01</td>\n",
       "      <td>16629.0</td>\n",
       "      <td>1766.0</td>\n",
       "      <td>3176.0</td>\n",
       "      <td>3060648.0</td>\n",
       "      <td>3001.0</td>\n",
       "      <td>175.0</td>\n",
       "    </tr>\n",
       "    <tr>\n",
       "      <th>2</th>\n",
       "      <td>2013-04-01</td>\n",
       "      <td>16700.0</td>\n",
       "      <td>1758.0</td>\n",
       "      <td>3368.0</td>\n",
       "      <td>3353623.0</td>\n",
       "      <td>3176.0</td>\n",
       "      <td>192.0</td>\n",
       "    </tr>\n",
       "    <tr>\n",
       "      <th>3</th>\n",
       "      <td>2013-07-01</td>\n",
       "      <td>16911.0</td>\n",
       "      <td>1793.0</td>\n",
       "      <td>3640.0</td>\n",
       "      <td>3613485.0</td>\n",
       "      <td>3368.0</td>\n",
       "      <td>272.0</td>\n",
       "    </tr>\n",
       "    <tr>\n",
       "      <th>4</th>\n",
       "      <td>2013-10-01</td>\n",
       "      <td>17133.0</td>\n",
       "      <td>1839.0</td>\n",
       "      <td>3957.0</td>\n",
       "      <td>3889295.0</td>\n",
       "      <td>3640.0</td>\n",
       "      <td>317.0</td>\n",
       "    </tr>\n",
       "  </tbody>\n",
       "</table>\n",
       "</div>"
      ],
      "text/plain": [
       "        DATE      GDP      CP  NASDAQCOM      WALCL    open   diff\n",
       "0 2012-10-01  16420.0  1786.0     3001.0  2858947.0     NaN    NaN\n",
       "1 2013-01-01  16629.0  1766.0     3176.0  3060648.0  3001.0  175.0\n",
       "2 2013-04-01  16700.0  1758.0     3368.0  3353623.0  3176.0  192.0\n",
       "3 2013-07-01  16911.0  1793.0     3640.0  3613485.0  3368.0  272.0\n",
       "4 2013-10-01  17133.0  1839.0     3957.0  3889295.0  3640.0  317.0"
      ]
     },
     "execution_count": 67,
     "metadata": {},
     "output_type": "execute_result"
    }
   ],
   "source": [
    "df25.head()"
   ]
  },
  {
   "cell_type": "code",
   "execution_count": 68,
   "metadata": {},
   "outputs": [
    {
     "name": "stdout",
     "output_type": "stream",
     "text": [
      "<class 'pandas.core.frame.DataFrame'>\n",
      "Int64Index: 37 entries, 0 to 36\n",
      "Data columns (total 7 columns):\n",
      " #   Column     Non-Null Count  Dtype         \n",
      "---  ------     --------------  -----         \n",
      " 0   DATE       37 non-null     datetime64[ns]\n",
      " 1   GDP        37 non-null     float64       \n",
      " 2   CP         37 non-null     float64       \n",
      " 3   NASDAQCOM  37 non-null     float64       \n",
      " 4   WALCL      37 non-null     float64       \n",
      " 5   open       36 non-null     float64       \n",
      " 6   diff       36 non-null     float64       \n",
      "dtypes: datetime64[ns](1), float64(6)\n",
      "memory usage: 2.3 KB\n"
     ]
    }
   ],
   "source": [
    "df25.info()"
   ]
  },
  {
   "cell_type": "code",
   "execution_count": 74,
   "metadata": {},
   "outputs": [],
   "source": [
    "def Getup(no):\n",
    "    if no>0:\n",
    "        return \"up\"\n",
    "    elif no<=0:\n",
    "        return \"down\"\n",
    "    else:\n",
    "        return \"other\""
   ]
  },
  {
   "cell_type": "code",
   "execution_count": 75,
   "metadata": {},
   "outputs": [],
   "source": [
    "df25['up-down'] = df25['diff'].apply(lambda x: Getup(x))"
   ]
  },
  {
   "cell_type": "code",
   "execution_count": 76,
   "metadata": {},
   "outputs": [
    {
     "data": {
      "text/html": [
       "<div>\n",
       "<style scoped>\n",
       "    .dataframe tbody tr th:only-of-type {\n",
       "        vertical-align: middle;\n",
       "    }\n",
       "\n",
       "    .dataframe tbody tr th {\n",
       "        vertical-align: top;\n",
       "    }\n",
       "\n",
       "    .dataframe thead th {\n",
       "        text-align: right;\n",
       "    }\n",
       "</style>\n",
       "<table border=\"1\" class=\"dataframe\">\n",
       "  <thead>\n",
       "    <tr style=\"text-align: right;\">\n",
       "      <th></th>\n",
       "      <th>DATE</th>\n",
       "      <th>GDP</th>\n",
       "      <th>CP</th>\n",
       "      <th>NASDAQCOM</th>\n",
       "      <th>WALCL</th>\n",
       "      <th>open</th>\n",
       "      <th>diff</th>\n",
       "      <th>up-down</th>\n",
       "    </tr>\n",
       "  </thead>\n",
       "  <tbody>\n",
       "    <tr>\n",
       "      <th>0</th>\n",
       "      <td>2012-10-01</td>\n",
       "      <td>16420.0</td>\n",
       "      <td>1786.0</td>\n",
       "      <td>3001.0</td>\n",
       "      <td>2858947.0</td>\n",
       "      <td>NaN</td>\n",
       "      <td>NaN</td>\n",
       "      <td>other</td>\n",
       "    </tr>\n",
       "    <tr>\n",
       "      <th>1</th>\n",
       "      <td>2013-01-01</td>\n",
       "      <td>16629.0</td>\n",
       "      <td>1766.0</td>\n",
       "      <td>3176.0</td>\n",
       "      <td>3060648.0</td>\n",
       "      <td>3001.0</td>\n",
       "      <td>175.0</td>\n",
       "      <td>up</td>\n",
       "    </tr>\n",
       "    <tr>\n",
       "      <th>2</th>\n",
       "      <td>2013-04-01</td>\n",
       "      <td>16700.0</td>\n",
       "      <td>1758.0</td>\n",
       "      <td>3368.0</td>\n",
       "      <td>3353623.0</td>\n",
       "      <td>3176.0</td>\n",
       "      <td>192.0</td>\n",
       "      <td>up</td>\n",
       "    </tr>\n",
       "    <tr>\n",
       "      <th>3</th>\n",
       "      <td>2013-07-01</td>\n",
       "      <td>16911.0</td>\n",
       "      <td>1793.0</td>\n",
       "      <td>3640.0</td>\n",
       "      <td>3613485.0</td>\n",
       "      <td>3368.0</td>\n",
       "      <td>272.0</td>\n",
       "      <td>up</td>\n",
       "    </tr>\n",
       "    <tr>\n",
       "      <th>4</th>\n",
       "      <td>2013-10-01</td>\n",
       "      <td>17133.0</td>\n",
       "      <td>1839.0</td>\n",
       "      <td>3957.0</td>\n",
       "      <td>3889295.0</td>\n",
       "      <td>3640.0</td>\n",
       "      <td>317.0</td>\n",
       "      <td>up</td>\n",
       "    </tr>\n",
       "    <tr>\n",
       "      <th>5</th>\n",
       "      <td>2014-01-01</td>\n",
       "      <td>17144.0</td>\n",
       "      <td>1768.0</td>\n",
       "      <td>4210.0</td>\n",
       "      <td>4127964.0</td>\n",
       "      <td>3957.0</td>\n",
       "      <td>253.0</td>\n",
       "      <td>up</td>\n",
       "    </tr>\n",
       "    <tr>\n",
       "      <th>6</th>\n",
       "      <td>2014-04-01</td>\n",
       "      <td>17463.0</td>\n",
       "      <td>1865.0</td>\n",
       "      <td>4195.0</td>\n",
       "      <td>4311948.0</td>\n",
       "      <td>4210.0</td>\n",
       "      <td>-15.0</td>\n",
       "      <td>down</td>\n",
       "    </tr>\n",
       "    <tr>\n",
       "      <th>7</th>\n",
       "      <td>2014-07-01</td>\n",
       "      <td>17743.0</td>\n",
       "      <td>1918.0</td>\n",
       "      <td>4482.0</td>\n",
       "      <td>4414642.0</td>\n",
       "      <td>4195.0</td>\n",
       "      <td>287.0</td>\n",
       "      <td>up</td>\n",
       "    </tr>\n",
       "    <tr>\n",
       "      <th>8</th>\n",
       "      <td>2014-10-01</td>\n",
       "      <td>17853.0</td>\n",
       "      <td>1879.0</td>\n",
       "      <td>4600.0</td>\n",
       "      <td>4484785.0</td>\n",
       "      <td>4482.0</td>\n",
       "      <td>118.0</td>\n",
       "      <td>up</td>\n",
       "    </tr>\n",
       "    <tr>\n",
       "      <th>9</th>\n",
       "      <td>2015-01-01</td>\n",
       "      <td>17991.0</td>\n",
       "      <td>1771.0</td>\n",
       "      <td>4825.0</td>\n",
       "      <td>4497297.0</td>\n",
       "      <td>4600.0</td>\n",
       "      <td>225.0</td>\n",
       "      <td>up</td>\n",
       "    </tr>\n",
       "    <tr>\n",
       "      <th>10</th>\n",
       "      <td>2015-04-01</td>\n",
       "      <td>18194.0</td>\n",
       "      <td>1789.0</td>\n",
       "      <td>5030.0</td>\n",
       "      <td>4480482.0</td>\n",
       "      <td>4825.0</td>\n",
       "      <td>205.0</td>\n",
       "      <td>up</td>\n",
       "    </tr>\n",
       "    <tr>\n",
       "      <th>11</th>\n",
       "      <td>2015-07-01</td>\n",
       "      <td>18307.0</td>\n",
       "      <td>1732.0</td>\n",
       "      <td>4924.0</td>\n",
       "      <td>4485814.0</td>\n",
       "      <td>5030.0</td>\n",
       "      <td>-106.0</td>\n",
       "      <td>down</td>\n",
       "    </tr>\n",
       "    <tr>\n",
       "      <th>12</th>\n",
       "      <td>2015-10-01</td>\n",
       "      <td>18332.0</td>\n",
       "      <td>1635.0</td>\n",
       "      <td>4998.0</td>\n",
       "      <td>4489102.0</td>\n",
       "      <td>4924.0</td>\n",
       "      <td>74.0</td>\n",
       "      <td>up</td>\n",
       "    </tr>\n",
       "    <tr>\n",
       "      <th>13</th>\n",
       "      <td>2016-01-01</td>\n",
       "      <td>18425.0</td>\n",
       "      <td>1697.0</td>\n",
       "      <td>4614.0</td>\n",
       "      <td>4486484.0</td>\n",
       "      <td>4998.0</td>\n",
       "      <td>-384.0</td>\n",
       "      <td>down</td>\n",
       "    </tr>\n",
       "    <tr>\n",
       "      <th>14</th>\n",
       "      <td>2016-04-01</td>\n",
       "      <td>18612.0</td>\n",
       "      <td>1758.0</td>\n",
       "      <td>4845.0</td>\n",
       "      <td>4475798.0</td>\n",
       "      <td>4614.0</td>\n",
       "      <td>231.0</td>\n",
       "      <td>up</td>\n",
       "    </tr>\n",
       "    <tr>\n",
       "      <th>15</th>\n",
       "      <td>2016-07-01</td>\n",
       "      <td>18775.0</td>\n",
       "      <td>1754.0</td>\n",
       "      <td>5168.0</td>\n",
       "      <td>4468330.0</td>\n",
       "      <td>4845.0</td>\n",
       "      <td>323.0</td>\n",
       "      <td>up</td>\n",
       "    </tr>\n",
       "    <tr>\n",
       "      <th>16</th>\n",
       "      <td>2016-10-01</td>\n",
       "      <td>18968.0</td>\n",
       "      <td>1823.0</td>\n",
       "      <td>5309.0</td>\n",
       "      <td>4457911.0</td>\n",
       "      <td>5168.0</td>\n",
       "      <td>141.0</td>\n",
       "      <td>up</td>\n",
       "    </tr>\n",
       "    <tr>\n",
       "      <th>17</th>\n",
       "      <td>2017-01-01</td>\n",
       "      <td>19154.0</td>\n",
       "      <td>1911.0</td>\n",
       "      <td>5736.0</td>\n",
       "      <td>4460615.0</td>\n",
       "      <td>5309.0</td>\n",
       "      <td>427.0</td>\n",
       "      <td>up</td>\n",
       "    </tr>\n",
       "    <tr>\n",
       "      <th>18</th>\n",
       "      <td>2017-04-01</td>\n",
       "      <td>19323.0</td>\n",
       "      <td>1896.0</td>\n",
       "      <td>6095.0</td>\n",
       "      <td>4471341.0</td>\n",
       "      <td>5736.0</td>\n",
       "      <td>359.0</td>\n",
       "      <td>up</td>\n",
       "    </tr>\n",
       "    <tr>\n",
       "      <th>19</th>\n",
       "      <td>2017-07-01</td>\n",
       "      <td>19559.0</td>\n",
       "      <td>1948.0</td>\n",
       "      <td>6343.0</td>\n",
       "      <td>4463849.0</td>\n",
       "      <td>6095.0</td>\n",
       "      <td>248.0</td>\n",
       "      <td>up</td>\n",
       "    </tr>\n",
       "    <tr>\n",
       "      <th>20</th>\n",
       "      <td>2017-10-01</td>\n",
       "      <td>19883.0</td>\n",
       "      <td>1775.0</td>\n",
       "      <td>6758.0</td>\n",
       "      <td>4452972.0</td>\n",
       "      <td>6343.0</td>\n",
       "      <td>415.0</td>\n",
       "      <td>up</td>\n",
       "    </tr>\n",
       "    <tr>\n",
       "      <th>21</th>\n",
       "      <td>2018-01-01</td>\n",
       "      <td>20144.0</td>\n",
       "      <td>1947.0</td>\n",
       "      <td>7253.0</td>\n",
       "      <td>4418993.0</td>\n",
       "      <td>6758.0</td>\n",
       "      <td>495.0</td>\n",
       "      <td>up</td>\n",
       "    </tr>\n",
       "    <tr>\n",
       "      <th>22</th>\n",
       "      <td>2018-04-01</td>\n",
       "      <td>20492.0</td>\n",
       "      <td>1972.0</td>\n",
       "      <td>7355.0</td>\n",
       "      <td>4346987.0</td>\n",
       "      <td>7253.0</td>\n",
       "      <td>102.0</td>\n",
       "      <td>up</td>\n",
       "    </tr>\n",
       "    <tr>\n",
       "      <th>23</th>\n",
       "      <td>2018-07-01</td>\n",
       "      <td>20659.0</td>\n",
       "      <td>1986.0</td>\n",
       "      <td>7874.0</td>\n",
       "      <td>4243144.0</td>\n",
       "      <td>7355.0</td>\n",
       "      <td>519.0</td>\n",
       "      <td>up</td>\n",
       "    </tr>\n",
       "    <tr>\n",
       "      <th>24</th>\n",
       "      <td>2018-10-01</td>\n",
       "      <td>20813.0</td>\n",
       "      <td>2005.0</td>\n",
       "      <td>7215.0</td>\n",
       "      <td>4128102.0</td>\n",
       "      <td>7874.0</td>\n",
       "      <td>-659.0</td>\n",
       "      <td>down</td>\n",
       "    </tr>\n",
       "    <tr>\n",
       "      <th>25</th>\n",
       "      <td>2019-01-01</td>\n",
       "      <td>21002.0</td>\n",
       "      <td>1937.0</td>\n",
       "      <td>7343.0</td>\n",
       "      <td>4009351.0</td>\n",
       "      <td>7215.0</td>\n",
       "      <td>128.0</td>\n",
       "      <td>up</td>\n",
       "    </tr>\n",
       "    <tr>\n",
       "      <th>26</th>\n",
       "      <td>2019-04-01</td>\n",
       "      <td>21289.0</td>\n",
       "      <td>1986.0</td>\n",
       "      <td>7876.0</td>\n",
       "      <td>3881489.0</td>\n",
       "      <td>7343.0</td>\n",
       "      <td>533.0</td>\n",
       "      <td>up</td>\n",
       "    </tr>\n",
       "    <tr>\n",
       "      <th>27</th>\n",
       "      <td>2019-07-01</td>\n",
       "      <td>21505.0</td>\n",
       "      <td>1923.0</td>\n",
       "      <td>8067.0</td>\n",
       "      <td>3795758.0</td>\n",
       "      <td>7876.0</td>\n",
       "      <td>191.0</td>\n",
       "      <td>up</td>\n",
       "    </tr>\n",
       "    <tr>\n",
       "      <th>28</th>\n",
       "      <td>2019-10-01</td>\n",
       "      <td>21694.0</td>\n",
       "      <td>1964.0</td>\n",
       "      <td>8445.0</td>\n",
       "      <td>4037312.0</td>\n",
       "      <td>8067.0</td>\n",
       "      <td>378.0</td>\n",
       "      <td>up</td>\n",
       "    </tr>\n",
       "    <tr>\n",
       "      <th>29</th>\n",
       "      <td>2020-01-01</td>\n",
       "      <td>21481.0</td>\n",
       "      <td>1743.0</td>\n",
       "      <td>8771.0</td>\n",
       "      <td>4304006.0</td>\n",
       "      <td>8445.0</td>\n",
       "      <td>326.0</td>\n",
       "      <td>up</td>\n",
       "    </tr>\n",
       "    <tr>\n",
       "      <th>30</th>\n",
       "      <td>2020-04-01</td>\n",
       "      <td>19477.0</td>\n",
       "      <td>1578.0</td>\n",
       "      <td>9091.0</td>\n",
       "      <td>6753313.0</td>\n",
       "      <td>8771.0</td>\n",
       "      <td>320.0</td>\n",
       "      <td>up</td>\n",
       "    </tr>\n",
       "    <tr>\n",
       "      <th>31</th>\n",
       "      <td>2020-07-01</td>\n",
       "      <td>21139.0</td>\n",
       "      <td>2148.0</td>\n",
       "      <td>10926.0</td>\n",
       "      <td>6996256.0</td>\n",
       "      <td>9091.0</td>\n",
       "      <td>1835.0</td>\n",
       "      <td>up</td>\n",
       "    </tr>\n",
       "    <tr>\n",
       "      <th>32</th>\n",
       "      <td>2020-10-01</td>\n",
       "      <td>21478.0</td>\n",
       "      <td>2164.0</td>\n",
       "      <td>11954.0</td>\n",
       "      <td>7225935.0</td>\n",
       "      <td>10926.0</td>\n",
       "      <td>1028.0</td>\n",
       "      <td>up</td>\n",
       "    </tr>\n",
       "    <tr>\n",
       "      <th>33</th>\n",
       "      <td>2021-01-01</td>\n",
       "      <td>22038.0</td>\n",
       "      <td>2368.0</td>\n",
       "      <td>13351.0</td>\n",
       "      <td>7517579.0</td>\n",
       "      <td>11954.0</td>\n",
       "      <td>1397.0</td>\n",
       "      <td>up</td>\n",
       "    </tr>\n",
       "    <tr>\n",
       "      <th>34</th>\n",
       "      <td>2021-04-01</td>\n",
       "      <td>22741.0</td>\n",
       "      <td>2690.0</td>\n",
       "      <td>13847.0</td>\n",
       "      <td>7900327.0</td>\n",
       "      <td>13351.0</td>\n",
       "      <td>496.0</td>\n",
       "      <td>up</td>\n",
       "    </tr>\n",
       "    <tr>\n",
       "      <th>35</th>\n",
       "      <td>2021-07-01</td>\n",
       "      <td>23202.0</td>\n",
       "      <td>2722.0</td>\n",
       "      <td>14839.0</td>\n",
       "      <td>8309389.0</td>\n",
       "      <td>13847.0</td>\n",
       "      <td>992.0</td>\n",
       "      <td>up</td>\n",
       "    </tr>\n",
       "    <tr>\n",
       "      <th>36</th>\n",
       "      <td>2021-10-01</td>\n",
       "      <td>24003.0</td>\n",
       "      <td>2700.0</td>\n",
       "      <td>15390.0</td>\n",
       "      <td>8636952.0</td>\n",
       "      <td>14839.0</td>\n",
       "      <td>551.0</td>\n",
       "      <td>up</td>\n",
       "    </tr>\n",
       "  </tbody>\n",
       "</table>\n",
       "</div>"
      ],
      "text/plain": [
       "         DATE      GDP      CP  NASDAQCOM      WALCL     open    diff up-down\n",
       "0  2012-10-01  16420.0  1786.0     3001.0  2858947.0      NaN     NaN   other\n",
       "1  2013-01-01  16629.0  1766.0     3176.0  3060648.0   3001.0   175.0      up\n",
       "2  2013-04-01  16700.0  1758.0     3368.0  3353623.0   3176.0   192.0      up\n",
       "3  2013-07-01  16911.0  1793.0     3640.0  3613485.0   3368.0   272.0      up\n",
       "4  2013-10-01  17133.0  1839.0     3957.0  3889295.0   3640.0   317.0      up\n",
       "5  2014-01-01  17144.0  1768.0     4210.0  4127964.0   3957.0   253.0      up\n",
       "6  2014-04-01  17463.0  1865.0     4195.0  4311948.0   4210.0   -15.0    down\n",
       "7  2014-07-01  17743.0  1918.0     4482.0  4414642.0   4195.0   287.0      up\n",
       "8  2014-10-01  17853.0  1879.0     4600.0  4484785.0   4482.0   118.0      up\n",
       "9  2015-01-01  17991.0  1771.0     4825.0  4497297.0   4600.0   225.0      up\n",
       "10 2015-04-01  18194.0  1789.0     5030.0  4480482.0   4825.0   205.0      up\n",
       "11 2015-07-01  18307.0  1732.0     4924.0  4485814.0   5030.0  -106.0    down\n",
       "12 2015-10-01  18332.0  1635.0     4998.0  4489102.0   4924.0    74.0      up\n",
       "13 2016-01-01  18425.0  1697.0     4614.0  4486484.0   4998.0  -384.0    down\n",
       "14 2016-04-01  18612.0  1758.0     4845.0  4475798.0   4614.0   231.0      up\n",
       "15 2016-07-01  18775.0  1754.0     5168.0  4468330.0   4845.0   323.0      up\n",
       "16 2016-10-01  18968.0  1823.0     5309.0  4457911.0   5168.0   141.0      up\n",
       "17 2017-01-01  19154.0  1911.0     5736.0  4460615.0   5309.0   427.0      up\n",
       "18 2017-04-01  19323.0  1896.0     6095.0  4471341.0   5736.0   359.0      up\n",
       "19 2017-07-01  19559.0  1948.0     6343.0  4463849.0   6095.0   248.0      up\n",
       "20 2017-10-01  19883.0  1775.0     6758.0  4452972.0   6343.0   415.0      up\n",
       "21 2018-01-01  20144.0  1947.0     7253.0  4418993.0   6758.0   495.0      up\n",
       "22 2018-04-01  20492.0  1972.0     7355.0  4346987.0   7253.0   102.0      up\n",
       "23 2018-07-01  20659.0  1986.0     7874.0  4243144.0   7355.0   519.0      up\n",
       "24 2018-10-01  20813.0  2005.0     7215.0  4128102.0   7874.0  -659.0    down\n",
       "25 2019-01-01  21002.0  1937.0     7343.0  4009351.0   7215.0   128.0      up\n",
       "26 2019-04-01  21289.0  1986.0     7876.0  3881489.0   7343.0   533.0      up\n",
       "27 2019-07-01  21505.0  1923.0     8067.0  3795758.0   7876.0   191.0      up\n",
       "28 2019-10-01  21694.0  1964.0     8445.0  4037312.0   8067.0   378.0      up\n",
       "29 2020-01-01  21481.0  1743.0     8771.0  4304006.0   8445.0   326.0      up\n",
       "30 2020-04-01  19477.0  1578.0     9091.0  6753313.0   8771.0   320.0      up\n",
       "31 2020-07-01  21139.0  2148.0    10926.0  6996256.0   9091.0  1835.0      up\n",
       "32 2020-10-01  21478.0  2164.0    11954.0  7225935.0  10926.0  1028.0      up\n",
       "33 2021-01-01  22038.0  2368.0    13351.0  7517579.0  11954.0  1397.0      up\n",
       "34 2021-04-01  22741.0  2690.0    13847.0  7900327.0  13351.0   496.0      up\n",
       "35 2021-07-01  23202.0  2722.0    14839.0  8309389.0  13847.0   992.0      up\n",
       "36 2021-10-01  24003.0  2700.0    15390.0  8636952.0  14839.0   551.0      up"
      ]
     },
     "execution_count": 76,
     "metadata": {},
     "output_type": "execute_result"
    }
   ],
   "source": [
    "df25"
   ]
  },
  {
   "cell_type": "code",
   "execution_count": 77,
   "metadata": {},
   "outputs": [
    {
     "data": {
      "text/plain": [
       "up       32\n",
       "down      4\n",
       "other     1\n",
       "Name: up-down, dtype: int64"
      ]
     },
     "execution_count": 77,
     "metadata": {},
     "output_type": "execute_result"
    }
   ],
   "source": [
    "df25['up-down'].value_counts()"
   ]
  },
  {
   "cell_type": "code",
   "execution_count": 78,
   "metadata": {},
   "outputs": [],
   "source": [
    "df26=df25[1:]"
   ]
  },
  {
   "cell_type": "code",
   "execution_count": 79,
   "metadata": {},
   "outputs": [
    {
     "data": {
      "text/html": [
       "<div>\n",
       "<style scoped>\n",
       "    .dataframe tbody tr th:only-of-type {\n",
       "        vertical-align: middle;\n",
       "    }\n",
       "\n",
       "    .dataframe tbody tr th {\n",
       "        vertical-align: top;\n",
       "    }\n",
       "\n",
       "    .dataframe thead th {\n",
       "        text-align: right;\n",
       "    }\n",
       "</style>\n",
       "<table border=\"1\" class=\"dataframe\">\n",
       "  <thead>\n",
       "    <tr style=\"text-align: right;\">\n",
       "      <th></th>\n",
       "      <th>DATE</th>\n",
       "      <th>GDP</th>\n",
       "      <th>CP</th>\n",
       "      <th>NASDAQCOM</th>\n",
       "      <th>WALCL</th>\n",
       "      <th>open</th>\n",
       "      <th>diff</th>\n",
       "      <th>up-down</th>\n",
       "    </tr>\n",
       "  </thead>\n",
       "  <tbody>\n",
       "    <tr>\n",
       "      <th>1</th>\n",
       "      <td>2013-01-01</td>\n",
       "      <td>16629.0</td>\n",
       "      <td>1766.0</td>\n",
       "      <td>3176.0</td>\n",
       "      <td>3060648.0</td>\n",
       "      <td>3001.0</td>\n",
       "      <td>175.0</td>\n",
       "      <td>up</td>\n",
       "    </tr>\n",
       "    <tr>\n",
       "      <th>2</th>\n",
       "      <td>2013-04-01</td>\n",
       "      <td>16700.0</td>\n",
       "      <td>1758.0</td>\n",
       "      <td>3368.0</td>\n",
       "      <td>3353623.0</td>\n",
       "      <td>3176.0</td>\n",
       "      <td>192.0</td>\n",
       "      <td>up</td>\n",
       "    </tr>\n",
       "    <tr>\n",
       "      <th>3</th>\n",
       "      <td>2013-07-01</td>\n",
       "      <td>16911.0</td>\n",
       "      <td>1793.0</td>\n",
       "      <td>3640.0</td>\n",
       "      <td>3613485.0</td>\n",
       "      <td>3368.0</td>\n",
       "      <td>272.0</td>\n",
       "      <td>up</td>\n",
       "    </tr>\n",
       "    <tr>\n",
       "      <th>4</th>\n",
       "      <td>2013-10-01</td>\n",
       "      <td>17133.0</td>\n",
       "      <td>1839.0</td>\n",
       "      <td>3957.0</td>\n",
       "      <td>3889295.0</td>\n",
       "      <td>3640.0</td>\n",
       "      <td>317.0</td>\n",
       "      <td>up</td>\n",
       "    </tr>\n",
       "    <tr>\n",
       "      <th>5</th>\n",
       "      <td>2014-01-01</td>\n",
       "      <td>17144.0</td>\n",
       "      <td>1768.0</td>\n",
       "      <td>4210.0</td>\n",
       "      <td>4127964.0</td>\n",
       "      <td>3957.0</td>\n",
       "      <td>253.0</td>\n",
       "      <td>up</td>\n",
       "    </tr>\n",
       "    <tr>\n",
       "      <th>6</th>\n",
       "      <td>2014-04-01</td>\n",
       "      <td>17463.0</td>\n",
       "      <td>1865.0</td>\n",
       "      <td>4195.0</td>\n",
       "      <td>4311948.0</td>\n",
       "      <td>4210.0</td>\n",
       "      <td>-15.0</td>\n",
       "      <td>down</td>\n",
       "    </tr>\n",
       "    <tr>\n",
       "      <th>7</th>\n",
       "      <td>2014-07-01</td>\n",
       "      <td>17743.0</td>\n",
       "      <td>1918.0</td>\n",
       "      <td>4482.0</td>\n",
       "      <td>4414642.0</td>\n",
       "      <td>4195.0</td>\n",
       "      <td>287.0</td>\n",
       "      <td>up</td>\n",
       "    </tr>\n",
       "    <tr>\n",
       "      <th>8</th>\n",
       "      <td>2014-10-01</td>\n",
       "      <td>17853.0</td>\n",
       "      <td>1879.0</td>\n",
       "      <td>4600.0</td>\n",
       "      <td>4484785.0</td>\n",
       "      <td>4482.0</td>\n",
       "      <td>118.0</td>\n",
       "      <td>up</td>\n",
       "    </tr>\n",
       "    <tr>\n",
       "      <th>9</th>\n",
       "      <td>2015-01-01</td>\n",
       "      <td>17991.0</td>\n",
       "      <td>1771.0</td>\n",
       "      <td>4825.0</td>\n",
       "      <td>4497297.0</td>\n",
       "      <td>4600.0</td>\n",
       "      <td>225.0</td>\n",
       "      <td>up</td>\n",
       "    </tr>\n",
       "    <tr>\n",
       "      <th>10</th>\n",
       "      <td>2015-04-01</td>\n",
       "      <td>18194.0</td>\n",
       "      <td>1789.0</td>\n",
       "      <td>5030.0</td>\n",
       "      <td>4480482.0</td>\n",
       "      <td>4825.0</td>\n",
       "      <td>205.0</td>\n",
       "      <td>up</td>\n",
       "    </tr>\n",
       "    <tr>\n",
       "      <th>11</th>\n",
       "      <td>2015-07-01</td>\n",
       "      <td>18307.0</td>\n",
       "      <td>1732.0</td>\n",
       "      <td>4924.0</td>\n",
       "      <td>4485814.0</td>\n",
       "      <td>5030.0</td>\n",
       "      <td>-106.0</td>\n",
       "      <td>down</td>\n",
       "    </tr>\n",
       "    <tr>\n",
       "      <th>12</th>\n",
       "      <td>2015-10-01</td>\n",
       "      <td>18332.0</td>\n",
       "      <td>1635.0</td>\n",
       "      <td>4998.0</td>\n",
       "      <td>4489102.0</td>\n",
       "      <td>4924.0</td>\n",
       "      <td>74.0</td>\n",
       "      <td>up</td>\n",
       "    </tr>\n",
       "    <tr>\n",
       "      <th>13</th>\n",
       "      <td>2016-01-01</td>\n",
       "      <td>18425.0</td>\n",
       "      <td>1697.0</td>\n",
       "      <td>4614.0</td>\n",
       "      <td>4486484.0</td>\n",
       "      <td>4998.0</td>\n",
       "      <td>-384.0</td>\n",
       "      <td>down</td>\n",
       "    </tr>\n",
       "    <tr>\n",
       "      <th>14</th>\n",
       "      <td>2016-04-01</td>\n",
       "      <td>18612.0</td>\n",
       "      <td>1758.0</td>\n",
       "      <td>4845.0</td>\n",
       "      <td>4475798.0</td>\n",
       "      <td>4614.0</td>\n",
       "      <td>231.0</td>\n",
       "      <td>up</td>\n",
       "    </tr>\n",
       "    <tr>\n",
       "      <th>15</th>\n",
       "      <td>2016-07-01</td>\n",
       "      <td>18775.0</td>\n",
       "      <td>1754.0</td>\n",
       "      <td>5168.0</td>\n",
       "      <td>4468330.0</td>\n",
       "      <td>4845.0</td>\n",
       "      <td>323.0</td>\n",
       "      <td>up</td>\n",
       "    </tr>\n",
       "    <tr>\n",
       "      <th>16</th>\n",
       "      <td>2016-10-01</td>\n",
       "      <td>18968.0</td>\n",
       "      <td>1823.0</td>\n",
       "      <td>5309.0</td>\n",
       "      <td>4457911.0</td>\n",
       "      <td>5168.0</td>\n",
       "      <td>141.0</td>\n",
       "      <td>up</td>\n",
       "    </tr>\n",
       "    <tr>\n",
       "      <th>17</th>\n",
       "      <td>2017-01-01</td>\n",
       "      <td>19154.0</td>\n",
       "      <td>1911.0</td>\n",
       "      <td>5736.0</td>\n",
       "      <td>4460615.0</td>\n",
       "      <td>5309.0</td>\n",
       "      <td>427.0</td>\n",
       "      <td>up</td>\n",
       "    </tr>\n",
       "    <tr>\n",
       "      <th>18</th>\n",
       "      <td>2017-04-01</td>\n",
       "      <td>19323.0</td>\n",
       "      <td>1896.0</td>\n",
       "      <td>6095.0</td>\n",
       "      <td>4471341.0</td>\n",
       "      <td>5736.0</td>\n",
       "      <td>359.0</td>\n",
       "      <td>up</td>\n",
       "    </tr>\n",
       "    <tr>\n",
       "      <th>19</th>\n",
       "      <td>2017-07-01</td>\n",
       "      <td>19559.0</td>\n",
       "      <td>1948.0</td>\n",
       "      <td>6343.0</td>\n",
       "      <td>4463849.0</td>\n",
       "      <td>6095.0</td>\n",
       "      <td>248.0</td>\n",
       "      <td>up</td>\n",
       "    </tr>\n",
       "    <tr>\n",
       "      <th>20</th>\n",
       "      <td>2017-10-01</td>\n",
       "      <td>19883.0</td>\n",
       "      <td>1775.0</td>\n",
       "      <td>6758.0</td>\n",
       "      <td>4452972.0</td>\n",
       "      <td>6343.0</td>\n",
       "      <td>415.0</td>\n",
       "      <td>up</td>\n",
       "    </tr>\n",
       "    <tr>\n",
       "      <th>21</th>\n",
       "      <td>2018-01-01</td>\n",
       "      <td>20144.0</td>\n",
       "      <td>1947.0</td>\n",
       "      <td>7253.0</td>\n",
       "      <td>4418993.0</td>\n",
       "      <td>6758.0</td>\n",
       "      <td>495.0</td>\n",
       "      <td>up</td>\n",
       "    </tr>\n",
       "    <tr>\n",
       "      <th>22</th>\n",
       "      <td>2018-04-01</td>\n",
       "      <td>20492.0</td>\n",
       "      <td>1972.0</td>\n",
       "      <td>7355.0</td>\n",
       "      <td>4346987.0</td>\n",
       "      <td>7253.0</td>\n",
       "      <td>102.0</td>\n",
       "      <td>up</td>\n",
       "    </tr>\n",
       "    <tr>\n",
       "      <th>23</th>\n",
       "      <td>2018-07-01</td>\n",
       "      <td>20659.0</td>\n",
       "      <td>1986.0</td>\n",
       "      <td>7874.0</td>\n",
       "      <td>4243144.0</td>\n",
       "      <td>7355.0</td>\n",
       "      <td>519.0</td>\n",
       "      <td>up</td>\n",
       "    </tr>\n",
       "    <tr>\n",
       "      <th>24</th>\n",
       "      <td>2018-10-01</td>\n",
       "      <td>20813.0</td>\n",
       "      <td>2005.0</td>\n",
       "      <td>7215.0</td>\n",
       "      <td>4128102.0</td>\n",
       "      <td>7874.0</td>\n",
       "      <td>-659.0</td>\n",
       "      <td>down</td>\n",
       "    </tr>\n",
       "    <tr>\n",
       "      <th>25</th>\n",
       "      <td>2019-01-01</td>\n",
       "      <td>21002.0</td>\n",
       "      <td>1937.0</td>\n",
       "      <td>7343.0</td>\n",
       "      <td>4009351.0</td>\n",
       "      <td>7215.0</td>\n",
       "      <td>128.0</td>\n",
       "      <td>up</td>\n",
       "    </tr>\n",
       "    <tr>\n",
       "      <th>26</th>\n",
       "      <td>2019-04-01</td>\n",
       "      <td>21289.0</td>\n",
       "      <td>1986.0</td>\n",
       "      <td>7876.0</td>\n",
       "      <td>3881489.0</td>\n",
       "      <td>7343.0</td>\n",
       "      <td>533.0</td>\n",
       "      <td>up</td>\n",
       "    </tr>\n",
       "    <tr>\n",
       "      <th>27</th>\n",
       "      <td>2019-07-01</td>\n",
       "      <td>21505.0</td>\n",
       "      <td>1923.0</td>\n",
       "      <td>8067.0</td>\n",
       "      <td>3795758.0</td>\n",
       "      <td>7876.0</td>\n",
       "      <td>191.0</td>\n",
       "      <td>up</td>\n",
       "    </tr>\n",
       "    <tr>\n",
       "      <th>28</th>\n",
       "      <td>2019-10-01</td>\n",
       "      <td>21694.0</td>\n",
       "      <td>1964.0</td>\n",
       "      <td>8445.0</td>\n",
       "      <td>4037312.0</td>\n",
       "      <td>8067.0</td>\n",
       "      <td>378.0</td>\n",
       "      <td>up</td>\n",
       "    </tr>\n",
       "    <tr>\n",
       "      <th>29</th>\n",
       "      <td>2020-01-01</td>\n",
       "      <td>21481.0</td>\n",
       "      <td>1743.0</td>\n",
       "      <td>8771.0</td>\n",
       "      <td>4304006.0</td>\n",
       "      <td>8445.0</td>\n",
       "      <td>326.0</td>\n",
       "      <td>up</td>\n",
       "    </tr>\n",
       "    <tr>\n",
       "      <th>30</th>\n",
       "      <td>2020-04-01</td>\n",
       "      <td>19477.0</td>\n",
       "      <td>1578.0</td>\n",
       "      <td>9091.0</td>\n",
       "      <td>6753313.0</td>\n",
       "      <td>8771.0</td>\n",
       "      <td>320.0</td>\n",
       "      <td>up</td>\n",
       "    </tr>\n",
       "    <tr>\n",
       "      <th>31</th>\n",
       "      <td>2020-07-01</td>\n",
       "      <td>21139.0</td>\n",
       "      <td>2148.0</td>\n",
       "      <td>10926.0</td>\n",
       "      <td>6996256.0</td>\n",
       "      <td>9091.0</td>\n",
       "      <td>1835.0</td>\n",
       "      <td>up</td>\n",
       "    </tr>\n",
       "    <tr>\n",
       "      <th>32</th>\n",
       "      <td>2020-10-01</td>\n",
       "      <td>21478.0</td>\n",
       "      <td>2164.0</td>\n",
       "      <td>11954.0</td>\n",
       "      <td>7225935.0</td>\n",
       "      <td>10926.0</td>\n",
       "      <td>1028.0</td>\n",
       "      <td>up</td>\n",
       "    </tr>\n",
       "    <tr>\n",
       "      <th>33</th>\n",
       "      <td>2021-01-01</td>\n",
       "      <td>22038.0</td>\n",
       "      <td>2368.0</td>\n",
       "      <td>13351.0</td>\n",
       "      <td>7517579.0</td>\n",
       "      <td>11954.0</td>\n",
       "      <td>1397.0</td>\n",
       "      <td>up</td>\n",
       "    </tr>\n",
       "    <tr>\n",
       "      <th>34</th>\n",
       "      <td>2021-04-01</td>\n",
       "      <td>22741.0</td>\n",
       "      <td>2690.0</td>\n",
       "      <td>13847.0</td>\n",
       "      <td>7900327.0</td>\n",
       "      <td>13351.0</td>\n",
       "      <td>496.0</td>\n",
       "      <td>up</td>\n",
       "    </tr>\n",
       "    <tr>\n",
       "      <th>35</th>\n",
       "      <td>2021-07-01</td>\n",
       "      <td>23202.0</td>\n",
       "      <td>2722.0</td>\n",
       "      <td>14839.0</td>\n",
       "      <td>8309389.0</td>\n",
       "      <td>13847.0</td>\n",
       "      <td>992.0</td>\n",
       "      <td>up</td>\n",
       "    </tr>\n",
       "    <tr>\n",
       "      <th>36</th>\n",
       "      <td>2021-10-01</td>\n",
       "      <td>24003.0</td>\n",
       "      <td>2700.0</td>\n",
       "      <td>15390.0</td>\n",
       "      <td>8636952.0</td>\n",
       "      <td>14839.0</td>\n",
       "      <td>551.0</td>\n",
       "      <td>up</td>\n",
       "    </tr>\n",
       "  </tbody>\n",
       "</table>\n",
       "</div>"
      ],
      "text/plain": [
       "         DATE      GDP      CP  NASDAQCOM      WALCL     open    diff up-down\n",
       "1  2013-01-01  16629.0  1766.0     3176.0  3060648.0   3001.0   175.0      up\n",
       "2  2013-04-01  16700.0  1758.0     3368.0  3353623.0   3176.0   192.0      up\n",
       "3  2013-07-01  16911.0  1793.0     3640.0  3613485.0   3368.0   272.0      up\n",
       "4  2013-10-01  17133.0  1839.0     3957.0  3889295.0   3640.0   317.0      up\n",
       "5  2014-01-01  17144.0  1768.0     4210.0  4127964.0   3957.0   253.0      up\n",
       "6  2014-04-01  17463.0  1865.0     4195.0  4311948.0   4210.0   -15.0    down\n",
       "7  2014-07-01  17743.0  1918.0     4482.0  4414642.0   4195.0   287.0      up\n",
       "8  2014-10-01  17853.0  1879.0     4600.0  4484785.0   4482.0   118.0      up\n",
       "9  2015-01-01  17991.0  1771.0     4825.0  4497297.0   4600.0   225.0      up\n",
       "10 2015-04-01  18194.0  1789.0     5030.0  4480482.0   4825.0   205.0      up\n",
       "11 2015-07-01  18307.0  1732.0     4924.0  4485814.0   5030.0  -106.0    down\n",
       "12 2015-10-01  18332.0  1635.0     4998.0  4489102.0   4924.0    74.0      up\n",
       "13 2016-01-01  18425.0  1697.0     4614.0  4486484.0   4998.0  -384.0    down\n",
       "14 2016-04-01  18612.0  1758.0     4845.0  4475798.0   4614.0   231.0      up\n",
       "15 2016-07-01  18775.0  1754.0     5168.0  4468330.0   4845.0   323.0      up\n",
       "16 2016-10-01  18968.0  1823.0     5309.0  4457911.0   5168.0   141.0      up\n",
       "17 2017-01-01  19154.0  1911.0     5736.0  4460615.0   5309.0   427.0      up\n",
       "18 2017-04-01  19323.0  1896.0     6095.0  4471341.0   5736.0   359.0      up\n",
       "19 2017-07-01  19559.0  1948.0     6343.0  4463849.0   6095.0   248.0      up\n",
       "20 2017-10-01  19883.0  1775.0     6758.0  4452972.0   6343.0   415.0      up\n",
       "21 2018-01-01  20144.0  1947.0     7253.0  4418993.0   6758.0   495.0      up\n",
       "22 2018-04-01  20492.0  1972.0     7355.0  4346987.0   7253.0   102.0      up\n",
       "23 2018-07-01  20659.0  1986.0     7874.0  4243144.0   7355.0   519.0      up\n",
       "24 2018-10-01  20813.0  2005.0     7215.0  4128102.0   7874.0  -659.0    down\n",
       "25 2019-01-01  21002.0  1937.0     7343.0  4009351.0   7215.0   128.0      up\n",
       "26 2019-04-01  21289.0  1986.0     7876.0  3881489.0   7343.0   533.0      up\n",
       "27 2019-07-01  21505.0  1923.0     8067.0  3795758.0   7876.0   191.0      up\n",
       "28 2019-10-01  21694.0  1964.0     8445.0  4037312.0   8067.0   378.0      up\n",
       "29 2020-01-01  21481.0  1743.0     8771.0  4304006.0   8445.0   326.0      up\n",
       "30 2020-04-01  19477.0  1578.0     9091.0  6753313.0   8771.0   320.0      up\n",
       "31 2020-07-01  21139.0  2148.0    10926.0  6996256.0   9091.0  1835.0      up\n",
       "32 2020-10-01  21478.0  2164.0    11954.0  7225935.0  10926.0  1028.0      up\n",
       "33 2021-01-01  22038.0  2368.0    13351.0  7517579.0  11954.0  1397.0      up\n",
       "34 2021-04-01  22741.0  2690.0    13847.0  7900327.0  13351.0   496.0      up\n",
       "35 2021-07-01  23202.0  2722.0    14839.0  8309389.0  13847.0   992.0      up\n",
       "36 2021-10-01  24003.0  2700.0    15390.0  8636952.0  14839.0   551.0      up"
      ]
     },
     "execution_count": 79,
     "metadata": {},
     "output_type": "execute_result"
    }
   ],
   "source": [
    "df26"
   ]
  },
  {
   "cell_type": "code",
   "execution_count": 80,
   "metadata": {},
   "outputs": [],
   "source": [
    "X=df26[['CP','GDP']]\n",
    "y=df26['up-down'] "
   ]
  },
  {
   "cell_type": "code",
   "execution_count": 81,
   "metadata": {},
   "outputs": [],
   "source": [
    "from sklearn.preprocessing import MinMaxScaler\n",
    "\n",
    "scaler = MinMaxScaler(feature_range = (0,1))"
   ]
  },
  {
   "cell_type": "code",
   "execution_count": 82,
   "metadata": {},
   "outputs": [],
   "source": [
    "from sklearn import datasets\n",
    "from sklearn.metrics import confusion_matrix\n",
    "from sklearn.model_selection import train_test_split\n",
    "from sklearn.preprocessing import StandardScaler\n",
    "from sklearn.pipeline import Pipeline\n",
    "from sklearn.ensemble import RandomForestClassifier\n",
    "from sklearn.metrics import accuracy_score\n",
    "from sklearn.metrics import accuracy_score,precision_score,recall_score,f1_score\n",
    "from sklearn.metrics import confusion_matrix, classification_report"
   ]
  },
  {
   "cell_type": "code",
   "execution_count": 83,
   "metadata": {},
   "outputs": [],
   "source": [
    "X_train, X_test, y_train, y_test = train_test_split(X, y, test_size=.20, random_state=1,stratify=y)"
   ]
  },
  {
   "cell_type": "code",
   "execution_count": 84,
   "metadata": {},
   "outputs": [],
   "source": [
    "scaler.fit(X_train)\n",
    "X_train = scaler.fit_transform(X_train)\n",
    "X_test = scaler.transform(X_test)"
   ]
  },
  {
   "cell_type": "code",
   "execution_count": 85,
   "metadata": {},
   "outputs": [],
   "source": [
    "rfc=RandomForestClassifier(n_estimators=200)"
   ]
  },
  {
   "cell_type": "code",
   "execution_count": 86,
   "metadata": {},
   "outputs": [
    {
     "data": {
      "text/plain": [
       "RandomForestClassifier(n_estimators=200)"
      ]
     },
     "execution_count": 86,
     "metadata": {},
     "output_type": "execute_result"
    }
   ],
   "source": [
    "rfc.fit(X_train,y_train)"
   ]
  },
  {
   "cell_type": "code",
   "execution_count": 87,
   "metadata": {},
   "outputs": [],
   "source": [
    "rfc_pred=rfc.predict(X_test)"
   ]
  },
  {
   "cell_type": "code",
   "execution_count": 88,
   "metadata": {},
   "outputs": [
    {
     "name": "stdout",
     "output_type": "stream",
     "text": [
      "              precision    recall  f1-score   support\n",
      "\n",
      "        down       0.00      0.00      0.00         1\n",
      "          up       0.86      0.86      0.86         7\n",
      "\n",
      "    accuracy                           0.75         8\n",
      "   macro avg       0.43      0.43      0.43         8\n",
      "weighted avg       0.75      0.75      0.75         8\n",
      "\n"
     ]
    }
   ],
   "source": [
    "print(classification_report(y_test,rfc_pred))"
   ]
  },
  {
   "cell_type": "code",
   "execution_count": 89,
   "metadata": {},
   "outputs": [
    {
     "data": {
      "text/plain": [
       "array([[0, 1],\n",
       "       [1, 6]], dtype=int64)"
      ]
     },
     "execution_count": 89,
     "metadata": {},
     "output_type": "execute_result"
    }
   ],
   "source": [
    "confusion_matrix(y_test,rfc_pred)"
   ]
  },
  {
   "cell_type": "code",
   "execution_count": 90,
   "metadata": {},
   "outputs": [],
   "source": [
    "from sklearn.linear_model import LogisticRegression\n",
    "from sklearn.model_selection import GridSearchCV"
   ]
  },
  {
   "cell_type": "code",
   "execution_count": 91,
   "metadata": {},
   "outputs": [],
   "source": [
    "param_grid_lr = {\n",
    "    'max_iter': [20, 50, 100, 200, 500, 1000],                      \n",
    "    'solver': ['newton-cg', 'lbfgs', 'liblinear', 'sag', 'saga'],   \n",
    "    'class_weight': ['balanced']                                    \n",
    "}"
   ]
  },
  {
   "cell_type": "code",
   "execution_count": 92,
   "metadata": {},
   "outputs": [],
   "source": [
    "lr=LogisticRegression()"
   ]
  },
  {
   "cell_type": "code",
   "execution_count": 93,
   "metadata": {},
   "outputs": [],
   "source": [
    "grid_search = GridSearchCV(estimator = lr, param_grid = param_grid_lr, \n",
    "                          cv = 3, n_jobs = -1, verbose = 2)"
   ]
  },
  {
   "cell_type": "code",
   "execution_count": null,
   "metadata": {},
   "outputs": [],
   "source": [
    "grid_search.fit(X_train,y_train)"
   ]
  },
  {
   "cell_type": "code",
   "execution_count": 95,
   "metadata": {},
   "outputs": [
    {
     "name": "stdout",
     "output_type": "stream",
     "text": [
      "LogisticRegression(class_weight='balanced', max_iter=20, solver='saga')\n"
     ]
    }
   ],
   "source": [
    "print(grid_search.best_estimator_)"
   ]
  },
  {
   "cell_type": "code",
   "execution_count": 96,
   "metadata": {},
   "outputs": [],
   "source": [
    "lr_pred=grid_search.predict(X_test)"
   ]
  },
  {
   "cell_type": "code",
   "execution_count": 97,
   "metadata": {},
   "outputs": [
    {
     "name": "stdout",
     "output_type": "stream",
     "text": [
      "              precision    recall  f1-score   support\n",
      "\n",
      "        down       0.20      1.00      0.33         1\n",
      "          up       1.00      0.43      0.60         7\n",
      "\n",
      "    accuracy                           0.50         8\n",
      "   macro avg       0.60      0.71      0.47         8\n",
      "weighted avg       0.90      0.50      0.57         8\n",
      "\n"
     ]
    }
   ],
   "source": [
    "print(classification_report(y_test,lr_pred))"
   ]
  },
  {
   "cell_type": "code",
   "execution_count": null,
   "metadata": {},
   "outputs": [],
   "source": []
  }
 ],
 "metadata": {
  "kernelspec": {
   "display_name": "Python 3",
   "language": "python",
   "name": "python3"
  },
  "language_info": {
   "codemirror_mode": {
    "name": "ipython",
    "version": 3
   },
   "file_extension": ".py",
   "mimetype": "text/x-python",
   "name": "python",
   "nbconvert_exporter": "python",
   "pygments_lexer": "ipython3",
   "version": "3.8.3"
  }
 },
 "nbformat": 4,
 "nbformat_minor": 4
}
